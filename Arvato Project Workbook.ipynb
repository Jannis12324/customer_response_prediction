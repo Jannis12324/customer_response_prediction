{
 "cells": [
  {
   "cell_type": "markdown",
   "metadata": {},
   "source": [
    "# Capstone Project: Create a Customer Segmentation Report for Arvato Financial Services\n",
    "\n",
    "This article will cover two approaches to select customers for targeting with a mail campaign: An unsupervised approach and a supervised approach. The analysis is conducted in a jupyter notebook using python.\n",
    "\n",
    "For the unsupervised approach, I have two datasets available: \n",
    "- General demographic data of Germany and a dataset containing demographic data of my customers. They have the same columns. I will train a KNN model on the general population of Germany to identify clusters within. Afterwards, I will use the trained model to identify clusters within my customer data. Ideally, my customer data will be dominated by a few clusters, which then can be targeted among the general population.\n",
    "\n",
    "For the supervised aproach I have the customer dataset available with an additional column indicating whether the customer responded to a campaign in the past. Libraries I used for the project are:"
   ]
  },
  {
   "cell_type": "code",
   "execution_count": 1,
   "metadata": {},
   "outputs": [],
   "source": [
    "# import libraries here; add more as necessary\n",
    "import numpy as np\n",
    "import pandas as pd\n",
    "import matplotlib.pyplot as plt\n",
    "import seaborn as sns\n",
    "\n",
    "from sklearn.model_selection import train_test_split\n",
    "from sklearn.ensemble import RandomForestRegressor\n",
    "from sklearn.metrics import recall_score\n",
    "from sklearn.model_selection import GridSearchCV\n",
    "from sklearn.metrics import roc_auc_score\n",
    "from sklearn.svm import SVR\n",
    "\n",
    "# magic word for producing visualizations in notebook\n",
    "%matplotlib inline"
   ]
  },
  {
   "cell_type": "markdown",
   "metadata": {},
   "source": [
    "## Part 0: Get to Know the Data\n",
    "\n",
    "There are four data files associated with this project:\n",
    "\n",
    "- `Udacity_AZDIAS_052018.csv`: Demographics data for the general population of Germany; 891 211 persons (rows) x 366 features (columns).\n",
    "- `Udacity_CUSTOMERS_052018.csv`: Demographics data for customers of a mail-order company; 191 652 persons (rows) x 369 features (columns).\n",
    "- `Udacity_MAILOUT_052018_TRAIN.csv`: Demographics data for individuals who were targets of a marketing campaign; 42 982 persons (rows) x 367 (columns).\n",
    "- `Udacity_MAILOUT_052018_TEST.csv`: Demographics data for individuals who were targets of a marketing campaign; 42 833 persons (rows) x 366 (columns).\n",
    "\n",
    "Each row of the demographics files represents a single person, but also includes information outside of individuals, including information about their household, building, and neighborhood. Use the information from the first two files to figure out how customers (\"CUSTOMERS\") are similar to or differ from the general population at large (\"AZDIAS\"), then use your analysis to make predictions on the other two files (\"MAILOUT\"), predicting which recipients are most likely to become a customer for the mail-order company.\n",
    "\n",
    "The \"CUSTOMERS\" file contains three extra columns ('CUSTOMER_GROUP', 'ONLINE_PURCHASE', and 'PRODUCT_GROUP'), which provide broad information about the customers depicted in the file. The original \"MAILOUT\" file included one additional column, \"RESPONSE\", which indicated whether or not each recipient became a customer of the company. For the \"TRAIN\" subset, this column has been retained, but in the \"TEST\" subset it has been removed; it is against that withheld column that your final predictions will be assessed in the Kaggle competition.\n",
    "\n",
    "Otherwise, all of the remaining columns are the same between the three data files. For more information about the columns depicted in the files, you can refer to two Excel spreadsheets provided in the workspace. [One of them](./DIAS Information Levels - Attributes 2017.xlsx) is a top-level list of attributes and descriptions, organized by informational category. [The other](./DIAS Attributes - Values 2017.xlsx) is a detailed mapping of data values for each feature in alphabetical order.\n",
    "\n",
    "In the below cell, we've provided some initial code to load in the first two datasets. Note for all of the `.csv` data files in this project that they're semicolon (`;`) delimited, so an additional argument in the [`read_csv()`](https://pandas.pydata.org/pandas-docs/stable/generated/pandas.read_csv.html) call has been included to read in the data properly. Also, considering the size of the datasets, it may take some time for them to load completely.\n",
    "\n",
    "You'll notice when the data is loaded in that a warning message will immediately pop up. Before you really start digging into the modeling and analysis, you're going to need to perform some cleaning. Take some time to browse the structure of the data and look over the informational spreadsheets to understand the data values. Make some decisions on which features to keep, which features to drop, and if any revisions need to be made on data formats. It'll be a good idea to create a function with pre-processing steps, since you'll need to clean all of the datasets before you work with them."
   ]
  },
  {
   "cell_type": "markdown",
   "metadata": {},
   "source": [
    "# Data inspection"
   ]
  },
  {
   "cell_type": "code",
   "execution_count": 2,
   "metadata": {},
   "outputs": [
    {
     "name": "stderr",
     "output_type": "stream",
     "text": [
      "/Users/jj/Documents/udacity/venv/lib/python3.8/site-packages/IPython/core/interactiveshell.py:3145: DtypeWarning: Columns (18,19) have mixed types.Specify dtype option on import or set low_memory=False.\n",
      "  has_raised = await self.run_ast_nodes(code_ast.body, cell_name,\n"
     ]
    }
   ],
   "source": [
    "# load in the data\n",
    "demo = pd.read_csv('data/Udacity_AZDIAS_052018.csv', sep=';')\n",
    "customers = pd.read_csv('data/Udacity_CUSTOMERS_052018.csv', sep=';')"
   ]
  },
  {
   "cell_type": "code",
   "execution_count": 3,
   "metadata": {},
   "outputs": [],
   "source": [
    "feat_info = pd.read_excel(\"DIAS Attributes - Values 2017.xlsx\", header = 1)"
   ]
  },
  {
   "cell_type": "code",
   "execution_count": 4,
   "metadata": {},
   "outputs": [
    {
     "data": {
      "text/plain": [
       "891221"
      ]
     },
     "execution_count": 4,
     "metadata": {},
     "output_type": "execute_result"
    }
   ],
   "source": [
    "# seems to be the index\n",
    "demo[\"LNR\"].nunique()"
   ]
  },
  {
   "cell_type": "code",
   "execution_count": 5,
   "metadata": {},
   "outputs": [
    {
     "data": {
      "text/plain": [
       "(891221, 366)"
      ]
     },
     "execution_count": 5,
     "metadata": {},
     "output_type": "execute_result"
    }
   ],
   "source": [
    "demo.shape"
   ]
  },
  {
   "cell_type": "code",
   "execution_count": 6,
   "metadata": {},
   "outputs": [
    {
     "data": {
      "text/plain": [
       "-1    677503\n",
       " 2     98472\n",
       " 1     79802\n",
       " 3     27104\n",
       " 0      8340\n",
       "Name: AGER_TYP, dtype: int64"
      ]
     },
     "execution_count": 6,
     "metadata": {},
     "output_type": "execute_result"
    }
   ],
   "source": [
    "demo.AGER_TYP.value_counts()"
   ]
  },
  {
   "cell_type": "code",
   "execution_count": 7,
   "metadata": {},
   "outputs": [
    {
     "data": {
      "text/html": [
       "<div>\n",
       "<style scoped>\n",
       "    .dataframe tbody tr th:only-of-type {\n",
       "        vertical-align: middle;\n",
       "    }\n",
       "\n",
       "    .dataframe tbody tr th {\n",
       "        vertical-align: top;\n",
       "    }\n",
       "\n",
       "    .dataframe thead th {\n",
       "        text-align: right;\n",
       "    }\n",
       "</style>\n",
       "<table border=\"1\" class=\"dataframe\">\n",
       "  <thead>\n",
       "    <tr style=\"text-align: right;\">\n",
       "      <th></th>\n",
       "      <th>LNR</th>\n",
       "      <th>AGER_TYP</th>\n",
       "      <th>AKT_DAT_KL</th>\n",
       "      <th>ALTER_HH</th>\n",
       "      <th>ALTER_KIND1</th>\n",
       "      <th>ALTER_KIND2</th>\n",
       "      <th>ALTER_KIND3</th>\n",
       "      <th>ALTER_KIND4</th>\n",
       "      <th>ALTERSKATEGORIE_FEIN</th>\n",
       "      <th>ANZ_HAUSHALTE_AKTIV</th>\n",
       "      <th>...</th>\n",
       "      <th>VHN</th>\n",
       "      <th>VK_DHT4A</th>\n",
       "      <th>VK_DISTANZ</th>\n",
       "      <th>VK_ZG11</th>\n",
       "      <th>W_KEIT_KIND_HH</th>\n",
       "      <th>WOHNDAUER_2008</th>\n",
       "      <th>WOHNLAGE</th>\n",
       "      <th>ZABEOTYP</th>\n",
       "      <th>ANREDE_KZ</th>\n",
       "      <th>ALTERSKATEGORIE_GROB</th>\n",
       "    </tr>\n",
       "  </thead>\n",
       "  <tbody>\n",
       "    <tr>\n",
       "      <th>0</th>\n",
       "      <td>910215</td>\n",
       "      <td>-1</td>\n",
       "      <td>NaN</td>\n",
       "      <td>NaN</td>\n",
       "      <td>NaN</td>\n",
       "      <td>NaN</td>\n",
       "      <td>NaN</td>\n",
       "      <td>NaN</td>\n",
       "      <td>NaN</td>\n",
       "      <td>NaN</td>\n",
       "      <td>...</td>\n",
       "      <td>NaN</td>\n",
       "      <td>NaN</td>\n",
       "      <td>NaN</td>\n",
       "      <td>NaN</td>\n",
       "      <td>NaN</td>\n",
       "      <td>NaN</td>\n",
       "      <td>NaN</td>\n",
       "      <td>3</td>\n",
       "      <td>1</td>\n",
       "      <td>2</td>\n",
       "    </tr>\n",
       "    <tr>\n",
       "      <th>1</th>\n",
       "      <td>910220</td>\n",
       "      <td>-1</td>\n",
       "      <td>9.0</td>\n",
       "      <td>0.0</td>\n",
       "      <td>NaN</td>\n",
       "      <td>NaN</td>\n",
       "      <td>NaN</td>\n",
       "      <td>NaN</td>\n",
       "      <td>21.0</td>\n",
       "      <td>11.0</td>\n",
       "      <td>...</td>\n",
       "      <td>4.0</td>\n",
       "      <td>8.0</td>\n",
       "      <td>11.0</td>\n",
       "      <td>10.0</td>\n",
       "      <td>3.0</td>\n",
       "      <td>9.0</td>\n",
       "      <td>4.0</td>\n",
       "      <td>5</td>\n",
       "      <td>2</td>\n",
       "      <td>1</td>\n",
       "    </tr>\n",
       "    <tr>\n",
       "      <th>2</th>\n",
       "      <td>910225</td>\n",
       "      <td>-1</td>\n",
       "      <td>9.0</td>\n",
       "      <td>17.0</td>\n",
       "      <td>NaN</td>\n",
       "      <td>NaN</td>\n",
       "      <td>NaN</td>\n",
       "      <td>NaN</td>\n",
       "      <td>17.0</td>\n",
       "      <td>10.0</td>\n",
       "      <td>...</td>\n",
       "      <td>2.0</td>\n",
       "      <td>9.0</td>\n",
       "      <td>9.0</td>\n",
       "      <td>6.0</td>\n",
       "      <td>3.0</td>\n",
       "      <td>9.0</td>\n",
       "      <td>2.0</td>\n",
       "      <td>5</td>\n",
       "      <td>2</td>\n",
       "      <td>3</td>\n",
       "    </tr>\n",
       "    <tr>\n",
       "      <th>3</th>\n",
       "      <td>910226</td>\n",
       "      <td>2</td>\n",
       "      <td>1.0</td>\n",
       "      <td>13.0</td>\n",
       "      <td>NaN</td>\n",
       "      <td>NaN</td>\n",
       "      <td>NaN</td>\n",
       "      <td>NaN</td>\n",
       "      <td>13.0</td>\n",
       "      <td>1.0</td>\n",
       "      <td>...</td>\n",
       "      <td>0.0</td>\n",
       "      <td>7.0</td>\n",
       "      <td>10.0</td>\n",
       "      <td>11.0</td>\n",
       "      <td>NaN</td>\n",
       "      <td>9.0</td>\n",
       "      <td>7.0</td>\n",
       "      <td>3</td>\n",
       "      <td>2</td>\n",
       "      <td>4</td>\n",
       "    </tr>\n",
       "    <tr>\n",
       "      <th>4</th>\n",
       "      <td>910241</td>\n",
       "      <td>-1</td>\n",
       "      <td>1.0</td>\n",
       "      <td>20.0</td>\n",
       "      <td>NaN</td>\n",
       "      <td>NaN</td>\n",
       "      <td>NaN</td>\n",
       "      <td>NaN</td>\n",
       "      <td>14.0</td>\n",
       "      <td>3.0</td>\n",
       "      <td>...</td>\n",
       "      <td>2.0</td>\n",
       "      <td>3.0</td>\n",
       "      <td>5.0</td>\n",
       "      <td>4.0</td>\n",
       "      <td>2.0</td>\n",
       "      <td>9.0</td>\n",
       "      <td>3.0</td>\n",
       "      <td>4</td>\n",
       "      <td>1</td>\n",
       "      <td>3</td>\n",
       "    </tr>\n",
       "  </tbody>\n",
       "</table>\n",
       "<p>5 rows × 366 columns</p>\n",
       "</div>"
      ],
      "text/plain": [
       "      LNR  AGER_TYP  AKT_DAT_KL  ALTER_HH  ALTER_KIND1  ALTER_KIND2  \\\n",
       "0  910215        -1         NaN       NaN          NaN          NaN   \n",
       "1  910220        -1         9.0       0.0          NaN          NaN   \n",
       "2  910225        -1         9.0      17.0          NaN          NaN   \n",
       "3  910226         2         1.0      13.0          NaN          NaN   \n",
       "4  910241        -1         1.0      20.0          NaN          NaN   \n",
       "\n",
       "   ALTER_KIND3  ALTER_KIND4  ALTERSKATEGORIE_FEIN  ANZ_HAUSHALTE_AKTIV  ...  \\\n",
       "0          NaN          NaN                   NaN                  NaN  ...   \n",
       "1          NaN          NaN                  21.0                 11.0  ...   \n",
       "2          NaN          NaN                  17.0                 10.0  ...   \n",
       "3          NaN          NaN                  13.0                  1.0  ...   \n",
       "4          NaN          NaN                  14.0                  3.0  ...   \n",
       "\n",
       "   VHN  VK_DHT4A  VK_DISTANZ  VK_ZG11  W_KEIT_KIND_HH  WOHNDAUER_2008  \\\n",
       "0  NaN       NaN         NaN      NaN             NaN             NaN   \n",
       "1  4.0       8.0        11.0     10.0             3.0             9.0   \n",
       "2  2.0       9.0         9.0      6.0             3.0             9.0   \n",
       "3  0.0       7.0        10.0     11.0             NaN             9.0   \n",
       "4  2.0       3.0         5.0      4.0             2.0             9.0   \n",
       "\n",
       "   WOHNLAGE ZABEOTYP ANREDE_KZ ALTERSKATEGORIE_GROB  \n",
       "0       NaN        3         1                    2  \n",
       "1       4.0        5         2                    1  \n",
       "2       2.0        5         2                    3  \n",
       "3       7.0        3         2                    4  \n",
       "4       3.0        4         1                    3  \n",
       "\n",
       "[5 rows x 366 columns]"
      ]
     },
     "execution_count": 7,
     "metadata": {},
     "output_type": "execute_result"
    }
   ],
   "source": [
    "demo.head()"
   ]
  },
  {
   "cell_type": "code",
   "execution_count": 8,
   "metadata": {},
   "outputs": [
    {
     "data": {
      "text/html": [
       "<div>\n",
       "<style scoped>\n",
       "    .dataframe tbody tr th:only-of-type {\n",
       "        vertical-align: middle;\n",
       "    }\n",
       "\n",
       "    .dataframe tbody tr th {\n",
       "        vertical-align: top;\n",
       "    }\n",
       "\n",
       "    .dataframe thead th {\n",
       "        text-align: right;\n",
       "    }\n",
       "</style>\n",
       "<table border=\"1\" class=\"dataframe\">\n",
       "  <thead>\n",
       "    <tr style=\"text-align: right;\">\n",
       "      <th></th>\n",
       "      <th>LNR</th>\n",
       "      <th>AGER_TYP</th>\n",
       "      <th>AKT_DAT_KL</th>\n",
       "      <th>ALTER_HH</th>\n",
       "      <th>ALTER_KIND1</th>\n",
       "      <th>ALTER_KIND2</th>\n",
       "      <th>ALTER_KIND3</th>\n",
       "      <th>ALTER_KIND4</th>\n",
       "      <th>ALTERSKATEGORIE_FEIN</th>\n",
       "      <th>ANZ_HAUSHALTE_AKTIV</th>\n",
       "      <th>...</th>\n",
       "      <th>VHN</th>\n",
       "      <th>VK_DHT4A</th>\n",
       "      <th>VK_DISTANZ</th>\n",
       "      <th>VK_ZG11</th>\n",
       "      <th>W_KEIT_KIND_HH</th>\n",
       "      <th>WOHNDAUER_2008</th>\n",
       "      <th>WOHNLAGE</th>\n",
       "      <th>ZABEOTYP</th>\n",
       "      <th>ANREDE_KZ</th>\n",
       "      <th>ALTERSKATEGORIE_GROB</th>\n",
       "    </tr>\n",
       "  </thead>\n",
       "  <tbody>\n",
       "    <tr>\n",
       "      <th>891219</th>\n",
       "      <td>825776</td>\n",
       "      <td>-1</td>\n",
       "      <td>9.0</td>\n",
       "      <td>0.0</td>\n",
       "      <td>17.0</td>\n",
       "      <td>NaN</td>\n",
       "      <td>NaN</td>\n",
       "      <td>NaN</td>\n",
       "      <td>20.0</td>\n",
       "      <td>7.0</td>\n",
       "      <td>...</td>\n",
       "      <td>4.0</td>\n",
       "      <td>9.0</td>\n",
       "      <td>8.0</td>\n",
       "      <td>5.0</td>\n",
       "      <td>1.0</td>\n",
       "      <td>9.0</td>\n",
       "      <td>5.0</td>\n",
       "      <td>5</td>\n",
       "      <td>1</td>\n",
       "      <td>1</td>\n",
       "    </tr>\n",
       "    <tr>\n",
       "      <th>891220</th>\n",
       "      <td>825787</td>\n",
       "      <td>-1</td>\n",
       "      <td>1.0</td>\n",
       "      <td>0.0</td>\n",
       "      <td>NaN</td>\n",
       "      <td>NaN</td>\n",
       "      <td>NaN</td>\n",
       "      <td>NaN</td>\n",
       "      <td>NaN</td>\n",
       "      <td>10.0</td>\n",
       "      <td>...</td>\n",
       "      <td>3.0</td>\n",
       "      <td>8.0</td>\n",
       "      <td>10.0</td>\n",
       "      <td>7.0</td>\n",
       "      <td>6.0</td>\n",
       "      <td>3.0</td>\n",
       "      <td>4.0</td>\n",
       "      <td>3</td>\n",
       "      <td>1</td>\n",
       "      <td>4</td>\n",
       "    </tr>\n",
       "  </tbody>\n",
       "</table>\n",
       "<p>2 rows × 366 columns</p>\n",
       "</div>"
      ],
      "text/plain": [
       "           LNR  AGER_TYP  AKT_DAT_KL  ALTER_HH  ALTER_KIND1  ALTER_KIND2  \\\n",
       "891219  825776        -1         9.0       0.0         17.0          NaN   \n",
       "891220  825787        -1         1.0       0.0          NaN          NaN   \n",
       "\n",
       "        ALTER_KIND3  ALTER_KIND4  ALTERSKATEGORIE_FEIN  ANZ_HAUSHALTE_AKTIV  \\\n",
       "891219          NaN          NaN                  20.0                  7.0   \n",
       "891220          NaN          NaN                   NaN                 10.0   \n",
       "\n",
       "        ...  VHN  VK_DHT4A  VK_DISTANZ  VK_ZG11  W_KEIT_KIND_HH  \\\n",
       "891219  ...  4.0       9.0         8.0      5.0             1.0   \n",
       "891220  ...  3.0       8.0        10.0      7.0             6.0   \n",
       "\n",
       "        WOHNDAUER_2008  WOHNLAGE ZABEOTYP ANREDE_KZ ALTERSKATEGORIE_GROB  \n",
       "891219             9.0       5.0        5         1                    1  \n",
       "891220             3.0       4.0        3         1                    4  \n",
       "\n",
       "[2 rows x 366 columns]"
      ]
     },
     "execution_count": 8,
     "metadata": {},
     "output_type": "execute_result"
    }
   ],
   "source": [
    "demo.tail(2)"
   ]
  },
  {
   "cell_type": "code",
   "execution_count": 9,
   "metadata": {},
   "outputs": [
    {
     "data": {
      "text/plain": [
       "(891221, 366)"
      ]
     },
     "execution_count": 9,
     "metadata": {},
     "output_type": "execute_result"
    }
   ],
   "source": [
    "demo.shape"
   ]
  },
  {
   "cell_type": "code",
   "execution_count": 10,
   "metadata": {},
   "outputs": [
    {
     "name": "stdout",
     "output_type": "stream",
     "text": [
      "<class 'pandas.core.frame.DataFrame'>\n",
      "RangeIndex: 891221 entries, 0 to 891220\n",
      "Data columns (total 366 columns):\n",
      " #   Column                       Non-Null Count   Dtype  \n",
      "---  ------                       --------------   -----  \n",
      " 0   LNR                          891221 non-null  int64  \n",
      " 1   AGER_TYP                     891221 non-null  int64  \n",
      " 2   AKT_DAT_KL                   817722 non-null  float64\n",
      " 3   ALTER_HH                     817722 non-null  float64\n",
      " 4   ALTER_KIND1                  81058 non-null   float64\n",
      " 5   ALTER_KIND2                  29499 non-null   float64\n",
      " 6   ALTER_KIND3                  6170 non-null    float64\n",
      " 7   ALTER_KIND4                  1205 non-null    float64\n",
      " 8   ALTERSKATEGORIE_FEIN         628274 non-null  float64\n",
      " 9   ANZ_HAUSHALTE_AKTIV          798073 non-null  float64\n",
      " 10  ANZ_HH_TITEL                 794213 non-null  float64\n",
      " 11  ANZ_KINDER                   817722 non-null  float64\n",
      " 12  ANZ_PERSONEN                 817722 non-null  float64\n",
      " 13  ANZ_STATISTISCHE_HAUSHALTE   798073 non-null  float64\n",
      " 14  ANZ_TITEL                    817722 non-null  float64\n",
      " 15  ARBEIT                       794005 non-null  float64\n",
      " 16  BALLRAUM                     797481 non-null  float64\n",
      " 17  CAMEO_DEU_2015               792242 non-null  object \n",
      " 18  CAMEO_DEUG_2015              792242 non-null  object \n",
      " 19  CAMEO_INTL_2015              792242 non-null  object \n",
      " 20  CJT_GESAMTTYP                886367 non-null  float64\n",
      " 21  CJT_KATALOGNUTZER            886367 non-null  float64\n",
      " 22  CJT_TYP_1                    886367 non-null  float64\n",
      " 23  CJT_TYP_2                    886367 non-null  float64\n",
      " 24  CJT_TYP_3                    886367 non-null  float64\n",
      " 25  CJT_TYP_4                    886367 non-null  float64\n",
      " 26  CJT_TYP_5                    886367 non-null  float64\n",
      " 27  CJT_TYP_6                    886367 non-null  float64\n",
      " 28  D19_BANKEN_ANZ_12            891221 non-null  int64  \n",
      " 29  D19_BANKEN_ANZ_24            891221 non-null  int64  \n",
      " 30  D19_BANKEN_DATUM             891221 non-null  int64  \n",
      " 31  D19_BANKEN_DIREKT            891221 non-null  int64  \n",
      " 32  D19_BANKEN_GROSS             891221 non-null  int64  \n",
      " 33  D19_BANKEN_LOKAL             891221 non-null  int64  \n",
      " 34  D19_BANKEN_OFFLINE_DATUM     891221 non-null  int64  \n",
      " 35  D19_BANKEN_ONLINE_DATUM      891221 non-null  int64  \n",
      " 36  D19_BANKEN_ONLINE_QUOTE_12   634108 non-null  float64\n",
      " 37  D19_BANKEN_REST              891221 non-null  int64  \n",
      " 38  D19_BEKLEIDUNG_GEH           891221 non-null  int64  \n",
      " 39  D19_BEKLEIDUNG_REST          891221 non-null  int64  \n",
      " 40  D19_BILDUNG                  891221 non-null  int64  \n",
      " 41  D19_BIO_OEKO                 891221 non-null  int64  \n",
      " 42  D19_BUCH_CD                  891221 non-null  int64  \n",
      " 43  D19_DIGIT_SERV               891221 non-null  int64  \n",
      " 44  D19_DROGERIEARTIKEL          891221 non-null  int64  \n",
      " 45  D19_ENERGIE                  891221 non-null  int64  \n",
      " 46  D19_FREIZEIT                 891221 non-null  int64  \n",
      " 47  D19_GARTEN                   891221 non-null  int64  \n",
      " 48  D19_GESAMT_ANZ_12            891221 non-null  int64  \n",
      " 49  D19_GESAMT_ANZ_24            891221 non-null  int64  \n",
      " 50  D19_GESAMT_DATUM             891221 non-null  int64  \n",
      " 51  D19_GESAMT_OFFLINE_DATUM     891221 non-null  int64  \n",
      " 52  D19_GESAMT_ONLINE_DATUM      891221 non-null  int64  \n",
      " 53  D19_GESAMT_ONLINE_QUOTE_12   634108 non-null  float64\n",
      " 54  D19_HANDWERK                 891221 non-null  int64  \n",
      " 55  D19_HAUS_DEKO                891221 non-null  int64  \n",
      " 56  D19_KINDERARTIKEL            891221 non-null  int64  \n",
      " 57  D19_KONSUMTYP                634108 non-null  float64\n",
      " 58  D19_KONSUMTYP_MAX            891221 non-null  int64  \n",
      " 59  D19_KOSMETIK                 891221 non-null  int64  \n",
      " 60  D19_LEBENSMITTEL             891221 non-null  int64  \n",
      " 61  D19_LETZTER_KAUF_BRANCHE     634108 non-null  object \n",
      " 62  D19_LOTTO                    634108 non-null  float64\n",
      " 63  D19_NAHRUNGSERGAENZUNG       891221 non-null  int64  \n",
      " 64  D19_RATGEBER                 891221 non-null  int64  \n",
      " 65  D19_REISEN                   891221 non-null  int64  \n",
      " 66  D19_SAMMELARTIKEL            891221 non-null  int64  \n",
      " 67  D19_SCHUHE                   891221 non-null  int64  \n",
      " 68  D19_SONSTIGE                 891221 non-null  int64  \n",
      " 69  D19_SOZIALES                 634108 non-null  float64\n",
      " 70  D19_TECHNIK                  891221 non-null  int64  \n",
      " 71  D19_TELKO_ANZ_12             891221 non-null  int64  \n",
      " 72  D19_TELKO_ANZ_24             891221 non-null  int64  \n",
      " 73  D19_TELKO_DATUM              891221 non-null  int64  \n",
      " 74  D19_TELKO_MOBILE             891221 non-null  int64  \n",
      " 75  D19_TELKO_OFFLINE_DATUM      891221 non-null  int64  \n",
      " 76  D19_TELKO_ONLINE_DATUM       891221 non-null  int64  \n",
      " 77  D19_TELKO_ONLINE_QUOTE_12    634108 non-null  float64\n",
      " 78  D19_TELKO_REST               891221 non-null  int64  \n",
      " 79  D19_TIERARTIKEL              891221 non-null  int64  \n",
      " 80  D19_VERSAND_ANZ_12           891221 non-null  int64  \n",
      " 81  D19_VERSAND_ANZ_24           891221 non-null  int64  \n",
      " 82  D19_VERSAND_DATUM            891221 non-null  int64  \n",
      " 83  D19_VERSAND_OFFLINE_DATUM    891221 non-null  int64  \n",
      " 84  D19_VERSAND_ONLINE_DATUM     891221 non-null  int64  \n",
      " 85  D19_VERSAND_ONLINE_QUOTE_12  634108 non-null  float64\n",
      " 86  D19_VERSAND_REST             891221 non-null  int64  \n",
      " 87  D19_VERSI_ANZ_12             891221 non-null  int64  \n",
      " 88  D19_VERSI_ANZ_24             891221 non-null  int64  \n",
      " 89  D19_VERSI_DATUM              891221 non-null  int64  \n",
      " 90  D19_VERSI_OFFLINE_DATUM      891221 non-null  int64  \n",
      " 91  D19_VERSI_ONLINE_DATUM       891221 non-null  int64  \n",
      " 92  D19_VERSI_ONLINE_QUOTE_12    634108 non-null  float64\n",
      " 93  D19_VERSICHERUNGEN           891221 non-null  int64  \n",
      " 94  D19_VOLLSORTIMENT            891221 non-null  int64  \n",
      " 95  D19_WEIN_FEINKOST            891221 non-null  int64  \n",
      " 96  DSL_FLAG                     798073 non-null  float64\n",
      " 97  EINGEFUEGT_AM                798073 non-null  object \n",
      " 98  EINGEZOGENAM_HH_JAHR         817722 non-null  float64\n",
      " 99  EWDICHTE                     797481 non-null  float64\n",
      " 100 EXTSEL992                    237068 non-null  float64\n",
      " 101 FINANZ_ANLEGER               891221 non-null  int64  \n",
      " 102 FINANZ_HAUSBAUER             891221 non-null  int64  \n",
      " 103 FINANZ_MINIMALIST            891221 non-null  int64  \n",
      " 104 FINANZ_SPARER                891221 non-null  int64  \n",
      " 105 FINANZ_UNAUFFAELLIGER        891221 non-null  int64  \n",
      " 106 FINANZ_VORSORGER             891221 non-null  int64  \n",
      " 107 FINANZTYP                    891221 non-null  int64  \n",
      " 108 FIRMENDICHTE                 798066 non-null  float64\n",
      " 109 GEBAEUDETYP                  798073 non-null  float64\n",
      " 110 GEBAEUDETYP_RASTER           798066 non-null  float64\n",
      " 111 GEBURTSJAHR                  891221 non-null  int64  \n",
      " 112 GEMEINDETYP                  793947 non-null  float64\n",
      " 113 GFK_URLAUBERTYP              886367 non-null  float64\n",
      " 114 GREEN_AVANTGARDE             891221 non-null  int64  \n",
      " 115 HEALTH_TYP                   891221 non-null  int64  \n",
      " 116 HH_DELTA_FLAG                783619 non-null  float64\n",
      " 117 HH_EINKOMMEN_SCORE           872873 non-null  float64\n",
      " 118 INNENSTADT                   797481 non-null  float64\n",
      " 119 KBA05_ALTER1                 757897 non-null  float64\n",
      " 120 KBA05_ALTER2                 757897 non-null  float64\n",
      " 121 KBA05_ALTER3                 757897 non-null  float64\n",
      " 122 KBA05_ALTER4                 757897 non-null  float64\n",
      " 123 KBA05_ANHANG                 757897 non-null  float64\n",
      " 124 KBA05_ANTG1                  757897 non-null  float64\n",
      " 125 KBA05_ANTG2                  757897 non-null  float64\n",
      " 126 KBA05_ANTG3                  757897 non-null  float64\n",
      " 127 KBA05_ANTG4                  757897 non-null  float64\n",
      " 128 KBA05_AUTOQUOT               757897 non-null  float64\n",
      " 129 KBA05_BAUMAX                 757897 non-null  float64\n",
      " 130 KBA05_CCM1                   757897 non-null  float64\n",
      " 131 KBA05_CCM2                   757897 non-null  float64\n",
      " 132 KBA05_CCM3                   757897 non-null  float64\n",
      " 133 KBA05_CCM4                   757897 non-null  float64\n",
      " 134 KBA05_DIESEL                 757897 non-null  float64\n",
      " 135 KBA05_FRAU                   757897 non-null  float64\n",
      " 136 KBA05_GBZ                    757897 non-null  float64\n",
      " 137 KBA05_HERST1                 757897 non-null  float64\n",
      " 138 KBA05_HERST2                 757897 non-null  float64\n",
      " 139 KBA05_HERST3                 757897 non-null  float64\n",
      " 140 KBA05_HERST4                 757897 non-null  float64\n",
      " 141 KBA05_HERST5                 757897 non-null  float64\n",
      " 142 KBA05_HERSTTEMP              798073 non-null  float64\n",
      " 143 KBA05_KRSAQUOT               757897 non-null  float64\n",
      " 144 KBA05_KRSHERST1              757897 non-null  float64\n",
      " 145 KBA05_KRSHERST2              757897 non-null  float64\n",
      " 146 KBA05_KRSHERST3              757897 non-null  float64\n",
      " 147 KBA05_KRSKLEIN               757897 non-null  float64\n",
      " 148 KBA05_KRSOBER                757897 non-null  float64\n",
      " 149 KBA05_KRSVAN                 757897 non-null  float64\n",
      " 150 KBA05_KRSZUL                 757897 non-null  float64\n",
      " 151 KBA05_KW1                    757897 non-null  float64\n",
      " 152 KBA05_KW2                    757897 non-null  float64\n",
      " 153 KBA05_KW3                    757897 non-null  float64\n",
      " 154 KBA05_MAXAH                  757897 non-null  float64\n",
      " 155 KBA05_MAXBJ                  757897 non-null  float64\n",
      " 156 KBA05_MAXHERST               757897 non-null  float64\n",
      " 157 KBA05_MAXSEG                 757897 non-null  float64\n",
      " 158 KBA05_MAXVORB                757897 non-null  float64\n",
      " 159 KBA05_MOD1                   757897 non-null  float64\n",
      " 160 KBA05_MOD2                   757897 non-null  float64\n",
      " 161 KBA05_MOD3                   757897 non-null  float64\n",
      " 162 KBA05_MOD4                   757897 non-null  float64\n",
      " 163 KBA05_MOD8                   757897 non-null  float64\n",
      " 164 KBA05_MODTEMP                798073 non-null  float64\n",
      " 165 KBA05_MOTOR                  757897 non-null  float64\n",
      " 166 KBA05_MOTRAD                 757897 non-null  float64\n",
      " 167 KBA05_SEG1                   757897 non-null  float64\n",
      " 168 KBA05_SEG10                  757897 non-null  float64\n",
      " 169 KBA05_SEG2                   757897 non-null  float64\n",
      " 170 KBA05_SEG3                   757897 non-null  float64\n",
      " 171 KBA05_SEG4                   757897 non-null  float64\n",
      " 172 KBA05_SEG5                   757897 non-null  float64\n",
      " 173 KBA05_SEG6                   757897 non-null  float64\n",
      " 174 KBA05_SEG7                   757897 non-null  float64\n",
      " 175 KBA05_SEG8                   757897 non-null  float64\n",
      " 176 KBA05_SEG9                   757897 non-null  float64\n",
      " 177 KBA05_VORB0                  757897 non-null  float64\n",
      " 178 KBA05_VORB1                  757897 non-null  float64\n",
      " 179 KBA05_VORB2                  757897 non-null  float64\n",
      " 180 KBA05_ZUL1                   757897 non-null  float64\n",
      " 181 KBA05_ZUL2                   757897 non-null  float64\n",
      " 182 KBA05_ZUL3                   757897 non-null  float64\n",
      " 183 KBA05_ZUL4                   757897 non-null  float64\n",
      " 184 KBA13_ALTERHALTER_30         785421 non-null  float64\n",
      " 185 KBA13_ALTERHALTER_45         785421 non-null  float64\n",
      " 186 KBA13_ALTERHALTER_60         785421 non-null  float64\n",
      " 187 KBA13_ALTERHALTER_61         785421 non-null  float64\n",
      " 188 KBA13_ANTG1                  785421 non-null  float64\n",
      " 189 KBA13_ANTG2                  785421 non-null  float64\n",
      " 190 KBA13_ANTG3                  785421 non-null  float64\n",
      " 191 KBA13_ANTG4                  785421 non-null  float64\n",
      " 192 KBA13_ANZAHL_PKW             785421 non-null  float64\n",
      " 193 KBA13_AUDI                   785421 non-null  float64\n",
      " 194 KBA13_AUTOQUOTE              785421 non-null  float64\n",
      " 195 KBA13_BAUMAX                 785421 non-null  float64\n",
      " 196 KBA13_BJ_1999                785421 non-null  float64\n",
      " 197 KBA13_BJ_2000                785421 non-null  float64\n",
      " 198 KBA13_BJ_2004                785421 non-null  float64\n",
      " 199 KBA13_BJ_2006                785421 non-null  float64\n",
      " 200 KBA13_BJ_2008                785421 non-null  float64\n",
      " 201 KBA13_BJ_2009                785421 non-null  float64\n",
      " 202 KBA13_BMW                    785421 non-null  float64\n",
      " 203 KBA13_CCM_0_1400             785421 non-null  float64\n",
      " 204 KBA13_CCM_1000               785421 non-null  float64\n",
      " 205 KBA13_CCM_1200               785421 non-null  float64\n",
      " 206 KBA13_CCM_1400               785421 non-null  float64\n",
      " 207 KBA13_CCM_1401_2500          785421 non-null  float64\n",
      " 208 KBA13_CCM_1500               785421 non-null  float64\n",
      " 209 KBA13_CCM_1600               785421 non-null  float64\n",
      " 210 KBA13_CCM_1800               785421 non-null  float64\n",
      " 211 KBA13_CCM_2000               785421 non-null  float64\n",
      " 212 KBA13_CCM_2500               785421 non-null  float64\n",
      " 213 KBA13_CCM_2501               785421 non-null  float64\n",
      " 214 KBA13_CCM_3000               785421 non-null  float64\n",
      " 215 KBA13_CCM_3001               785421 non-null  float64\n",
      " 216 KBA13_FAB_ASIEN              785421 non-null  float64\n",
      " 217 KBA13_FAB_SONSTIGE           785421 non-null  float64\n",
      " 218 KBA13_FIAT                   785421 non-null  float64\n",
      " 219 KBA13_FORD                   785421 non-null  float64\n",
      " 220 KBA13_GBZ                    785421 non-null  float64\n",
      " 221 KBA13_HALTER_20              785421 non-null  float64\n",
      " 222 KBA13_HALTER_25              785421 non-null  float64\n",
      " 223 KBA13_HALTER_30              785421 non-null  float64\n",
      " 224 KBA13_HALTER_35              785421 non-null  float64\n",
      " 225 KBA13_HALTER_40              785421 non-null  float64\n",
      " 226 KBA13_HALTER_45              785421 non-null  float64\n",
      " 227 KBA13_HALTER_50              785421 non-null  float64\n",
      " 228 KBA13_HALTER_55              785421 non-null  float64\n",
      " 229 KBA13_HALTER_60              785421 non-null  float64\n",
      " 230 KBA13_HALTER_65              785421 non-null  float64\n",
      " 231 KBA13_HALTER_66              785421 non-null  float64\n",
      " 232 KBA13_HERST_ASIEN            785421 non-null  float64\n",
      " 233 KBA13_HERST_AUDI_VW          785421 non-null  float64\n",
      " 234 KBA13_HERST_BMW_BENZ         785421 non-null  float64\n",
      " 235 KBA13_HERST_EUROPA           785421 non-null  float64\n",
      " 236 KBA13_HERST_FORD_OPEL        785421 non-null  float64\n",
      " 237 KBA13_HERST_SONST            785421 non-null  float64\n",
      " 238 KBA13_HHZ                    785421 non-null  float64\n",
      " 239 KBA13_KMH_0_140              785421 non-null  float64\n",
      " 240 KBA13_KMH_110                785421 non-null  float64\n",
      " 241 KBA13_KMH_140                785421 non-null  float64\n",
      " 242 KBA13_KMH_140_210            785421 non-null  float64\n",
      " 243 KBA13_KMH_180                785421 non-null  float64\n",
      " 244 KBA13_KMH_210                785421 non-null  float64\n",
      " 245 KBA13_KMH_211                785421 non-null  float64\n",
      " 246 KBA13_KMH_250                785421 non-null  float64\n",
      " 247 KBA13_KMH_251                785421 non-null  float64\n",
      " 248 KBA13_KRSAQUOT               785421 non-null  float64\n",
      " 249 KBA13_KRSHERST_AUDI_VW       785421 non-null  float64\n",
      " 250 KBA13_KRSHERST_BMW_BENZ      785421 non-null  float64\n",
      " 251 KBA13_KRSHERST_FORD_OPEL     785421 non-null  float64\n",
      " 252 KBA13_KRSSEG_KLEIN           785421 non-null  float64\n",
      " 253 KBA13_KRSSEG_OBER            785421 non-null  float64\n",
      " 254 KBA13_KRSSEG_VAN             785421 non-null  float64\n",
      " 255 KBA13_KRSZUL_NEU             785421 non-null  float64\n",
      " 256 KBA13_KW_0_60                785421 non-null  float64\n",
      " 257 KBA13_KW_110                 785421 non-null  float64\n",
      " 258 KBA13_KW_120                 785421 non-null  float64\n",
      " 259 KBA13_KW_121                 785421 non-null  float64\n",
      " 260 KBA13_KW_30                  785421 non-null  float64\n",
      " 261 KBA13_KW_40                  785421 non-null  float64\n",
      " 262 KBA13_KW_50                  785421 non-null  float64\n",
      " 263 KBA13_KW_60                  785421 non-null  float64\n",
      " 264 KBA13_KW_61_120              785421 non-null  float64\n",
      " 265 KBA13_KW_70                  785421 non-null  float64\n",
      " 266 KBA13_KW_80                  785421 non-null  float64\n",
      " 267 KBA13_KW_90                  785421 non-null  float64\n",
      " 268 KBA13_MAZDA                  785421 non-null  float64\n",
      " 269 KBA13_MERCEDES               785421 non-null  float64\n",
      " 270 KBA13_MOTOR                  785421 non-null  float64\n",
      " 271 KBA13_NISSAN                 785421 non-null  float64\n",
      " 272 KBA13_OPEL                   785421 non-null  float64\n",
      " 273 KBA13_PEUGEOT                785421 non-null  float64\n",
      " 274 KBA13_RENAULT                785421 non-null  float64\n",
      " 275 KBA13_SEG_GELAENDEWAGEN      785421 non-null  float64\n",
      " 276 KBA13_SEG_GROSSRAUMVANS      785421 non-null  float64\n",
      " 277 KBA13_SEG_KLEINST            785421 non-null  float64\n",
      " 278 KBA13_SEG_KLEINWAGEN         785421 non-null  float64\n",
      " 279 KBA13_SEG_KOMPAKTKLASSE      785421 non-null  float64\n",
      " 280 KBA13_SEG_MINIVANS           785421 non-null  float64\n",
      " 281 KBA13_SEG_MINIWAGEN          785421 non-null  float64\n",
      " 282 KBA13_SEG_MITTELKLASSE       785421 non-null  float64\n",
      " 283 KBA13_SEG_OBEREMITTELKLASSE  785421 non-null  float64\n",
      " 284 KBA13_SEG_OBERKLASSE         785421 non-null  float64\n",
      " 285 KBA13_SEG_SONSTIGE           785421 non-null  float64\n",
      " 286 KBA13_SEG_SPORTWAGEN         785421 non-null  float64\n",
      " 287 KBA13_SEG_UTILITIES          785421 non-null  float64\n",
      " 288 KBA13_SEG_VAN                785421 non-null  float64\n",
      " 289 KBA13_SEG_WOHNMOBILE         785421 non-null  float64\n",
      " 290 KBA13_SITZE_4                785421 non-null  float64\n",
      " 291 KBA13_SITZE_5                785421 non-null  float64\n",
      " 292 KBA13_SITZE_6                785421 non-null  float64\n",
      " 293 KBA13_TOYOTA                 785421 non-null  float64\n",
      " 294 KBA13_VORB_0                 785421 non-null  float64\n",
      " 295 KBA13_VORB_1                 785421 non-null  float64\n",
      " 296 KBA13_VORB_1_2               785421 non-null  float64\n",
      " 297 KBA13_VORB_2                 785421 non-null  float64\n",
      " 298 KBA13_VORB_3                 785421 non-null  float64\n",
      " 299 KBA13_VW                     785421 non-null  float64\n",
      " 300 KK_KUNDENTYP                 306609 non-null  float64\n",
      " 301 KKK                          770025 non-null  float64\n",
      " 302 KOMBIALTER                   891221 non-null  int64  \n",
      " 303 KONSUMNAEHE                  817252 non-null  float64\n",
      " 304 KONSUMZELLE                  798066 non-null  float64\n",
      " 305 LP_FAMILIE_FEIN              886367 non-null  float64\n",
      " 306 LP_FAMILIE_GROB              886367 non-null  float64\n",
      " 307 LP_LEBENSPHASE_FEIN          886367 non-null  float64\n",
      " 308 LP_LEBENSPHASE_GROB          886367 non-null  float64\n",
      " 309 LP_STATUS_FEIN               886367 non-null  float64\n",
      " 310 LP_STATUS_GROB               886367 non-null  float64\n",
      " 311 MIN_GEBAEUDEJAHR             798073 non-null  float64\n",
      " 312 MOBI_RASTER                  798073 non-null  float64\n",
      " 313 MOBI_REGIO                   757897 non-null  float64\n",
      " 314 NATIONALITAET_KZ             891221 non-null  int64  \n",
      " 315 ONLINE_AFFINITAET            886367 non-null  float64\n",
      " 316 ORTSGR_KLS9                  794005 non-null  float64\n",
      " 317 OST_WEST_KZ                  798073 non-null  object \n",
      " 318 PLZ8_ANTG1                   774706 non-null  float64\n",
      " 319 PLZ8_ANTG2                   774706 non-null  float64\n",
      " 320 PLZ8_ANTG3                   774706 non-null  float64\n",
      " 321 PLZ8_ANTG4                   774706 non-null  float64\n",
      " 322 PLZ8_BAUMAX                  774706 non-null  float64\n",
      " 323 PLZ8_GBZ                     774706 non-null  float64\n",
      " 324 PLZ8_HHZ                     774706 non-null  float64\n",
      " 325 PRAEGENDE_JUGENDJAHRE        891221 non-null  int64  \n",
      " 326 REGIOTYP                     770025 non-null  float64\n",
      " 327 RELAT_AB                     794005 non-null  float64\n",
      " 328 RETOURTYP_BK_S               886367 non-null  float64\n",
      " 329 RT_KEIN_ANREIZ               886367 non-null  float64\n",
      " 330 RT_SCHNAEPPCHEN              886367 non-null  float64\n",
      " 331 RT_UEBERGROESSE              839995 non-null  float64\n",
      " 332 SEMIO_DOM                    891221 non-null  int64  \n",
      " 333 SEMIO_ERL                    891221 non-null  int64  \n",
      " 334 SEMIO_FAM                    891221 non-null  int64  \n",
      " 335 SEMIO_KAEM                   891221 non-null  int64  \n",
      " 336 SEMIO_KRIT                   891221 non-null  int64  \n",
      " 337 SEMIO_KULT                   891221 non-null  int64  \n",
      " 338 SEMIO_LUST                   891221 non-null  int64  \n",
      " 339 SEMIO_MAT                    891221 non-null  int64  \n",
      " 340 SEMIO_PFLICHT                891221 non-null  int64  \n",
      " 341 SEMIO_RAT                    891221 non-null  int64  \n",
      " 342 SEMIO_REL                    891221 non-null  int64  \n",
      " 343 SEMIO_SOZ                    891221 non-null  int64  \n",
      " 344 SEMIO_TRADV                  891221 non-null  int64  \n",
      " 345 SEMIO_VERT                   891221 non-null  int64  \n",
      " 346 SHOPPER_TYP                  891221 non-null  int64  \n",
      " 347 SOHO_KZ                      817722 non-null  float64\n",
      " 348 STRUKTURTYP                  793947 non-null  float64\n",
      " 349 TITEL_KZ                     817722 non-null  float64\n",
      " 350 UMFELD_ALT                   793435 non-null  float64\n",
      " 351 UMFELD_JUNG                  793435 non-null  float64\n",
      " 352 UNGLEICHENN_FLAG             817722 non-null  float64\n",
      " 353 VERDICHTUNGSRAUM             793947 non-null  float64\n",
      " 354 VERS_TYP                     891221 non-null  int64  \n",
      " 355 VHA                          817722 non-null  float64\n",
      " 356 VHN                          770025 non-null  float64\n",
      " 357 VK_DHT4A                     815304 non-null  float64\n",
      " 358 VK_DISTANZ                   815304 non-null  float64\n",
      " 359 VK_ZG11                      815304 non-null  float64\n",
      " 360 W_KEIT_KIND_HH               783619 non-null  float64\n",
      " 361 WOHNDAUER_2008               817722 non-null  float64\n",
      " 362 WOHNLAGE                     798073 non-null  float64\n",
      " 363 ZABEOTYP                     891221 non-null  int64  \n",
      " 364 ANREDE_KZ                    891221 non-null  int64  \n",
      " 365 ALTERSKATEGORIE_GROB         891221 non-null  int64  \n",
      "dtypes: float64(267), int64(93), object(6)\n",
      "memory usage: 2.4+ GB\n"
     ]
    }
   ],
   "source": [
    "demo.info(verbose = True, null_counts = True)"
   ]
  },
  {
   "cell_type": "code",
   "execution_count": 11,
   "metadata": {},
   "outputs": [
    {
     "data": {
      "text/html": [
       "<div>\n",
       "<style scoped>\n",
       "    .dataframe tbody tr th:only-of-type {\n",
       "        vertical-align: middle;\n",
       "    }\n",
       "\n",
       "    .dataframe tbody tr th {\n",
       "        vertical-align: top;\n",
       "    }\n",
       "\n",
       "    .dataframe thead th {\n",
       "        text-align: right;\n",
       "    }\n",
       "</style>\n",
       "<table border=\"1\" class=\"dataframe\">\n",
       "  <thead>\n",
       "    <tr style=\"text-align: right;\">\n",
       "      <th></th>\n",
       "      <th>LNR</th>\n",
       "      <th>AGER_TYP</th>\n",
       "      <th>AKT_DAT_KL</th>\n",
       "      <th>ALTER_HH</th>\n",
       "      <th>ALTER_KIND1</th>\n",
       "      <th>ALTER_KIND2</th>\n",
       "      <th>ALTER_KIND3</th>\n",
       "      <th>ALTER_KIND4</th>\n",
       "      <th>ALTERSKATEGORIE_FEIN</th>\n",
       "      <th>ANZ_HAUSHALTE_AKTIV</th>\n",
       "      <th>...</th>\n",
       "      <th>VHN</th>\n",
       "      <th>VK_DHT4A</th>\n",
       "      <th>VK_DISTANZ</th>\n",
       "      <th>VK_ZG11</th>\n",
       "      <th>W_KEIT_KIND_HH</th>\n",
       "      <th>WOHNDAUER_2008</th>\n",
       "      <th>WOHNLAGE</th>\n",
       "      <th>ZABEOTYP</th>\n",
       "      <th>ANREDE_KZ</th>\n",
       "      <th>ALTERSKATEGORIE_GROB</th>\n",
       "    </tr>\n",
       "  </thead>\n",
       "  <tbody>\n",
       "    <tr>\n",
       "      <th>count</th>\n",
       "      <td>8.912210e+05</td>\n",
       "      <td>891221.000000</td>\n",
       "      <td>817722.000000</td>\n",
       "      <td>817722.000000</td>\n",
       "      <td>81058.000000</td>\n",
       "      <td>29499.000000</td>\n",
       "      <td>6170.000000</td>\n",
       "      <td>1205.000000</td>\n",
       "      <td>628274.000000</td>\n",
       "      <td>798073.000000</td>\n",
       "      <td>...</td>\n",
       "      <td>770025.000000</td>\n",
       "      <td>815304.000000</td>\n",
       "      <td>815304.000000</td>\n",
       "      <td>815304.000000</td>\n",
       "      <td>783619.000000</td>\n",
       "      <td>817722.000000</td>\n",
       "      <td>798073.000000</td>\n",
       "      <td>891221.000000</td>\n",
       "      <td>891221.000000</td>\n",
       "      <td>891221.000000</td>\n",
       "    </tr>\n",
       "    <tr>\n",
       "      <th>mean</th>\n",
       "      <td>6.372630e+05</td>\n",
       "      <td>-0.358435</td>\n",
       "      <td>4.421928</td>\n",
       "      <td>10.864126</td>\n",
       "      <td>11.745392</td>\n",
       "      <td>13.402658</td>\n",
       "      <td>14.476013</td>\n",
       "      <td>15.089627</td>\n",
       "      <td>13.700717</td>\n",
       "      <td>8.287263</td>\n",
       "      <td>...</td>\n",
       "      <td>2.417322</td>\n",
       "      <td>6.001214</td>\n",
       "      <td>7.532130</td>\n",
       "      <td>5.945972</td>\n",
       "      <td>3.933406</td>\n",
       "      <td>7.908791</td>\n",
       "      <td>4.052836</td>\n",
       "      <td>3.362438</td>\n",
       "      <td>1.522098</td>\n",
       "      <td>2.777398</td>\n",
       "    </tr>\n",
       "    <tr>\n",
       "      <th>std</th>\n",
       "      <td>2.572735e+05</td>\n",
       "      <td>1.198724</td>\n",
       "      <td>3.638805</td>\n",
       "      <td>7.639683</td>\n",
       "      <td>4.097660</td>\n",
       "      <td>3.243300</td>\n",
       "      <td>2.712427</td>\n",
       "      <td>2.452932</td>\n",
       "      <td>5.079849</td>\n",
       "      <td>15.628087</td>\n",
       "      <td>...</td>\n",
       "      <td>1.166572</td>\n",
       "      <td>2.856091</td>\n",
       "      <td>3.247789</td>\n",
       "      <td>2.771464</td>\n",
       "      <td>1.964701</td>\n",
       "      <td>1.923137</td>\n",
       "      <td>1.949539</td>\n",
       "      <td>1.352704</td>\n",
       "      <td>0.499512</td>\n",
       "      <td>1.068775</td>\n",
       "    </tr>\n",
       "    <tr>\n",
       "      <th>min</th>\n",
       "      <td>1.916530e+05</td>\n",
       "      <td>-1.000000</td>\n",
       "      <td>1.000000</td>\n",
       "      <td>0.000000</td>\n",
       "      <td>2.000000</td>\n",
       "      <td>2.000000</td>\n",
       "      <td>4.000000</td>\n",
       "      <td>7.000000</td>\n",
       "      <td>0.000000</td>\n",
       "      <td>0.000000</td>\n",
       "      <td>...</td>\n",
       "      <td>0.000000</td>\n",
       "      <td>1.000000</td>\n",
       "      <td>1.000000</td>\n",
       "      <td>1.000000</td>\n",
       "      <td>0.000000</td>\n",
       "      <td>1.000000</td>\n",
       "      <td>0.000000</td>\n",
       "      <td>1.000000</td>\n",
       "      <td>1.000000</td>\n",
       "      <td>1.000000</td>\n",
       "    </tr>\n",
       "    <tr>\n",
       "      <th>25%</th>\n",
       "      <td>4.144580e+05</td>\n",
       "      <td>-1.000000</td>\n",
       "      <td>1.000000</td>\n",
       "      <td>0.000000</td>\n",
       "      <td>8.000000</td>\n",
       "      <td>11.000000</td>\n",
       "      <td>13.000000</td>\n",
       "      <td>14.000000</td>\n",
       "      <td>11.000000</td>\n",
       "      <td>1.000000</td>\n",
       "      <td>...</td>\n",
       "      <td>2.000000</td>\n",
       "      <td>3.000000</td>\n",
       "      <td>5.000000</td>\n",
       "      <td>4.000000</td>\n",
       "      <td>2.000000</td>\n",
       "      <td>8.000000</td>\n",
       "      <td>3.000000</td>\n",
       "      <td>3.000000</td>\n",
       "      <td>1.000000</td>\n",
       "      <td>2.000000</td>\n",
       "    </tr>\n",
       "    <tr>\n",
       "      <th>50%</th>\n",
       "      <td>6.372630e+05</td>\n",
       "      <td>-1.000000</td>\n",
       "      <td>3.000000</td>\n",
       "      <td>13.000000</td>\n",
       "      <td>12.000000</td>\n",
       "      <td>14.000000</td>\n",
       "      <td>15.000000</td>\n",
       "      <td>15.000000</td>\n",
       "      <td>14.000000</td>\n",
       "      <td>4.000000</td>\n",
       "      <td>...</td>\n",
       "      <td>2.000000</td>\n",
       "      <td>6.000000</td>\n",
       "      <td>8.000000</td>\n",
       "      <td>6.000000</td>\n",
       "      <td>4.000000</td>\n",
       "      <td>9.000000</td>\n",
       "      <td>3.000000</td>\n",
       "      <td>3.000000</td>\n",
       "      <td>2.000000</td>\n",
       "      <td>3.000000</td>\n",
       "    </tr>\n",
       "    <tr>\n",
       "      <th>75%</th>\n",
       "      <td>8.600680e+05</td>\n",
       "      <td>-1.000000</td>\n",
       "      <td>9.000000</td>\n",
       "      <td>17.000000</td>\n",
       "      <td>15.000000</td>\n",
       "      <td>16.000000</td>\n",
       "      <td>17.000000</td>\n",
       "      <td>17.000000</td>\n",
       "      <td>17.000000</td>\n",
       "      <td>9.000000</td>\n",
       "      <td>...</td>\n",
       "      <td>3.000000</td>\n",
       "      <td>9.000000</td>\n",
       "      <td>10.000000</td>\n",
       "      <td>8.000000</td>\n",
       "      <td>6.000000</td>\n",
       "      <td>9.000000</td>\n",
       "      <td>5.000000</td>\n",
       "      <td>4.000000</td>\n",
       "      <td>2.000000</td>\n",
       "      <td>4.000000</td>\n",
       "    </tr>\n",
       "    <tr>\n",
       "      <th>max</th>\n",
       "      <td>1.082873e+06</td>\n",
       "      <td>3.000000</td>\n",
       "      <td>9.000000</td>\n",
       "      <td>21.000000</td>\n",
       "      <td>18.000000</td>\n",
       "      <td>18.000000</td>\n",
       "      <td>18.000000</td>\n",
       "      <td>18.000000</td>\n",
       "      <td>25.000000</td>\n",
       "      <td>595.000000</td>\n",
       "      <td>...</td>\n",
       "      <td>4.000000</td>\n",
       "      <td>11.000000</td>\n",
       "      <td>13.000000</td>\n",
       "      <td>11.000000</td>\n",
       "      <td>6.000000</td>\n",
       "      <td>9.000000</td>\n",
       "      <td>8.000000</td>\n",
       "      <td>6.000000</td>\n",
       "      <td>2.000000</td>\n",
       "      <td>9.000000</td>\n",
       "    </tr>\n",
       "  </tbody>\n",
       "</table>\n",
       "<p>8 rows × 360 columns</p>\n",
       "</div>"
      ],
      "text/plain": [
       "                LNR       AGER_TYP     AKT_DAT_KL       ALTER_HH  \\\n",
       "count  8.912210e+05  891221.000000  817722.000000  817722.000000   \n",
       "mean   6.372630e+05      -0.358435       4.421928      10.864126   \n",
       "std    2.572735e+05       1.198724       3.638805       7.639683   \n",
       "min    1.916530e+05      -1.000000       1.000000       0.000000   \n",
       "25%    4.144580e+05      -1.000000       1.000000       0.000000   \n",
       "50%    6.372630e+05      -1.000000       3.000000      13.000000   \n",
       "75%    8.600680e+05      -1.000000       9.000000      17.000000   \n",
       "max    1.082873e+06       3.000000       9.000000      21.000000   \n",
       "\n",
       "        ALTER_KIND1   ALTER_KIND2  ALTER_KIND3  ALTER_KIND4  \\\n",
       "count  81058.000000  29499.000000  6170.000000  1205.000000   \n",
       "mean      11.745392     13.402658    14.476013    15.089627   \n",
       "std        4.097660      3.243300     2.712427     2.452932   \n",
       "min        2.000000      2.000000     4.000000     7.000000   \n",
       "25%        8.000000     11.000000    13.000000    14.000000   \n",
       "50%       12.000000     14.000000    15.000000    15.000000   \n",
       "75%       15.000000     16.000000    17.000000    17.000000   \n",
       "max       18.000000     18.000000    18.000000    18.000000   \n",
       "\n",
       "       ALTERSKATEGORIE_FEIN  ANZ_HAUSHALTE_AKTIV  ...            VHN  \\\n",
       "count         628274.000000        798073.000000  ...  770025.000000   \n",
       "mean              13.700717             8.287263  ...       2.417322   \n",
       "std                5.079849            15.628087  ...       1.166572   \n",
       "min                0.000000             0.000000  ...       0.000000   \n",
       "25%               11.000000             1.000000  ...       2.000000   \n",
       "50%               14.000000             4.000000  ...       2.000000   \n",
       "75%               17.000000             9.000000  ...       3.000000   \n",
       "max               25.000000           595.000000  ...       4.000000   \n",
       "\n",
       "            VK_DHT4A     VK_DISTANZ        VK_ZG11  W_KEIT_KIND_HH  \\\n",
       "count  815304.000000  815304.000000  815304.000000   783619.000000   \n",
       "mean        6.001214       7.532130       5.945972        3.933406   \n",
       "std         2.856091       3.247789       2.771464        1.964701   \n",
       "min         1.000000       1.000000       1.000000        0.000000   \n",
       "25%         3.000000       5.000000       4.000000        2.000000   \n",
       "50%         6.000000       8.000000       6.000000        4.000000   \n",
       "75%         9.000000      10.000000       8.000000        6.000000   \n",
       "max        11.000000      13.000000      11.000000        6.000000   \n",
       "\n",
       "       WOHNDAUER_2008       WOHNLAGE       ZABEOTYP      ANREDE_KZ  \\\n",
       "count   817722.000000  798073.000000  891221.000000  891221.000000   \n",
       "mean         7.908791       4.052836       3.362438       1.522098   \n",
       "std          1.923137       1.949539       1.352704       0.499512   \n",
       "min          1.000000       0.000000       1.000000       1.000000   \n",
       "25%          8.000000       3.000000       3.000000       1.000000   \n",
       "50%          9.000000       3.000000       3.000000       2.000000   \n",
       "75%          9.000000       5.000000       4.000000       2.000000   \n",
       "max          9.000000       8.000000       6.000000       2.000000   \n",
       "\n",
       "       ALTERSKATEGORIE_GROB  \n",
       "count         891221.000000  \n",
       "mean               2.777398  \n",
       "std                1.068775  \n",
       "min                1.000000  \n",
       "25%                2.000000  \n",
       "50%                3.000000  \n",
       "75%                4.000000  \n",
       "max                9.000000  \n",
       "\n",
       "[8 rows x 360 columns]"
      ]
     },
     "execution_count": 11,
     "metadata": {},
     "output_type": "execute_result"
    }
   ],
   "source": [
    "demo.describe()"
   ]
  },
  {
   "cell_type": "code",
   "execution_count": 12,
   "metadata": {},
   "outputs": [
    {
     "data": {
      "text/html": [
       "<div>\n",
       "<style scoped>\n",
       "    .dataframe tbody tr th:only-of-type {\n",
       "        vertical-align: middle;\n",
       "    }\n",
       "\n",
       "    .dataframe tbody tr th {\n",
       "        vertical-align: top;\n",
       "    }\n",
       "\n",
       "    .dataframe thead th {\n",
       "        text-align: right;\n",
       "    }\n",
       "</style>\n",
       "<table border=\"1\" class=\"dataframe\">\n",
       "  <thead>\n",
       "    <tr style=\"text-align: right;\">\n",
       "      <th></th>\n",
       "      <th>LNR</th>\n",
       "      <th>AGER_TYP</th>\n",
       "      <th>AKT_DAT_KL</th>\n",
       "      <th>ALTER_HH</th>\n",
       "      <th>ALTER_KIND1</th>\n",
       "      <th>ALTER_KIND2</th>\n",
       "      <th>ALTER_KIND3</th>\n",
       "      <th>ALTER_KIND4</th>\n",
       "      <th>ALTERSKATEGORIE_FEIN</th>\n",
       "      <th>ANZ_HAUSHALTE_AKTIV</th>\n",
       "      <th>...</th>\n",
       "      <th>VK_ZG11</th>\n",
       "      <th>W_KEIT_KIND_HH</th>\n",
       "      <th>WOHNDAUER_2008</th>\n",
       "      <th>WOHNLAGE</th>\n",
       "      <th>ZABEOTYP</th>\n",
       "      <th>PRODUCT_GROUP</th>\n",
       "      <th>CUSTOMER_GROUP</th>\n",
       "      <th>ONLINE_PURCHASE</th>\n",
       "      <th>ANREDE_KZ</th>\n",
       "      <th>ALTERSKATEGORIE_GROB</th>\n",
       "    </tr>\n",
       "  </thead>\n",
       "  <tbody>\n",
       "    <tr>\n",
       "      <th>0</th>\n",
       "      <td>9626</td>\n",
       "      <td>2</td>\n",
       "      <td>1.0</td>\n",
       "      <td>10.0</td>\n",
       "      <td>NaN</td>\n",
       "      <td>NaN</td>\n",
       "      <td>NaN</td>\n",
       "      <td>NaN</td>\n",
       "      <td>10.0</td>\n",
       "      <td>1.0</td>\n",
       "      <td>...</td>\n",
       "      <td>2.0</td>\n",
       "      <td>6.0</td>\n",
       "      <td>9.0</td>\n",
       "      <td>7.0</td>\n",
       "      <td>3</td>\n",
       "      <td>COSMETIC_AND_FOOD</td>\n",
       "      <td>MULTI_BUYER</td>\n",
       "      <td>0</td>\n",
       "      <td>1</td>\n",
       "      <td>4</td>\n",
       "    </tr>\n",
       "    <tr>\n",
       "      <th>1</th>\n",
       "      <td>9628</td>\n",
       "      <td>-1</td>\n",
       "      <td>9.0</td>\n",
       "      <td>11.0</td>\n",
       "      <td>NaN</td>\n",
       "      <td>NaN</td>\n",
       "      <td>NaN</td>\n",
       "      <td>NaN</td>\n",
       "      <td>NaN</td>\n",
       "      <td>NaN</td>\n",
       "      <td>...</td>\n",
       "      <td>3.0</td>\n",
       "      <td>0.0</td>\n",
       "      <td>9.0</td>\n",
       "      <td>NaN</td>\n",
       "      <td>3</td>\n",
       "      <td>FOOD</td>\n",
       "      <td>SINGLE_BUYER</td>\n",
       "      <td>0</td>\n",
       "      <td>1</td>\n",
       "      <td>4</td>\n",
       "    </tr>\n",
       "  </tbody>\n",
       "</table>\n",
       "<p>2 rows × 369 columns</p>\n",
       "</div>"
      ],
      "text/plain": [
       "    LNR  AGER_TYP  AKT_DAT_KL  ALTER_HH  ALTER_KIND1  ALTER_KIND2  \\\n",
       "0  9626         2         1.0      10.0          NaN          NaN   \n",
       "1  9628        -1         9.0      11.0          NaN          NaN   \n",
       "\n",
       "   ALTER_KIND3  ALTER_KIND4  ALTERSKATEGORIE_FEIN  ANZ_HAUSHALTE_AKTIV  ...  \\\n",
       "0          NaN          NaN                  10.0                  1.0  ...   \n",
       "1          NaN          NaN                   NaN                  NaN  ...   \n",
       "\n",
       "   VK_ZG11  W_KEIT_KIND_HH  WOHNDAUER_2008  WOHNLAGE  ZABEOTYP  \\\n",
       "0      2.0             6.0             9.0       7.0         3   \n",
       "1      3.0             0.0             9.0       NaN         3   \n",
       "\n",
       "       PRODUCT_GROUP  CUSTOMER_GROUP ONLINE_PURCHASE ANREDE_KZ  \\\n",
       "0  COSMETIC_AND_FOOD     MULTI_BUYER               0         1   \n",
       "1               FOOD    SINGLE_BUYER               0         1   \n",
       "\n",
       "  ALTERSKATEGORIE_GROB  \n",
       "0                    4  \n",
       "1                    4  \n",
       "\n",
       "[2 rows x 369 columns]"
      ]
     },
     "execution_count": 12,
     "metadata": {},
     "output_type": "execute_result"
    }
   ],
   "source": [
    "customers.head(2)"
   ]
  },
  {
   "cell_type": "code",
   "execution_count": 13,
   "metadata": {},
   "outputs": [
    {
     "name": "stdout",
     "output_type": "stream",
     "text": [
      "<class 'pandas.core.frame.DataFrame'>\n",
      "RangeIndex: 191652 entries, 0 to 191651\n",
      "Data columns (total 369 columns):\n",
      " #   Column                       Non-Null Count   Dtype  \n",
      "---  ------                       --------------   -----  \n",
      " 0   LNR                          191652 non-null  int64  \n",
      " 1   AGER_TYP                     191652 non-null  int64  \n",
      " 2   AKT_DAT_KL                   145056 non-null  float64\n",
      " 3   ALTER_HH                     145056 non-null  float64\n",
      " 4   ALTER_KIND1                  11766 non-null   float64\n",
      " 5   ALTER_KIND2                  5100 non-null    float64\n",
      " 6   ALTER_KIND3                  1275 non-null    float64\n",
      " 7   ALTER_KIND4                  236 non-null     float64\n",
      " 8   ALTERSKATEGORIE_FEIN         139810 non-null  float64\n",
      " 9   ANZ_HAUSHALTE_AKTIV          141725 non-null  float64\n",
      " 10  ANZ_HH_TITEL                 139542 non-null  float64\n",
      " 11  ANZ_KINDER                   145056 non-null  float64\n",
      " 12  ANZ_PERSONEN                 145056 non-null  float64\n",
      " 13  ANZ_STATISTISCHE_HAUSHALTE   141725 non-null  float64\n",
      " 14  ANZ_TITEL                    145056 non-null  float64\n",
      " 15  ARBEIT                       141176 non-null  float64\n",
      " 16  BALLRAUM                     141693 non-null  float64\n",
      " 17  CAMEO_DEU_2015               141224 non-null  object \n",
      " 18  CAMEO_DEUG_2015              141224 non-null  object \n",
      " 19  CAMEO_INTL_2015              141224 non-null  object \n",
      " 20  CJT_GESAMTTYP                188439 non-null  float64\n",
      " 21  CJT_KATALOGNUTZER            188439 non-null  float64\n",
      " 22  CJT_TYP_1                    188439 non-null  float64\n",
      " 23  CJT_TYP_2                    188439 non-null  float64\n",
      " 24  CJT_TYP_3                    188439 non-null  float64\n",
      " 25  CJT_TYP_4                    188439 non-null  float64\n",
      " 26  CJT_TYP_5                    188439 non-null  float64\n",
      " 27  CJT_TYP_6                    188439 non-null  float64\n",
      " 28  D19_BANKEN_ANZ_12            191652 non-null  int64  \n",
      " 29  D19_BANKEN_ANZ_24            191652 non-null  int64  \n",
      " 30  D19_BANKEN_DATUM             191652 non-null  int64  \n",
      " 31  D19_BANKEN_DIREKT            191652 non-null  int64  \n",
      " 32  D19_BANKEN_GROSS             191652 non-null  int64  \n",
      " 33  D19_BANKEN_LOKAL             191652 non-null  int64  \n",
      " 34  D19_BANKEN_OFFLINE_DATUM     191652 non-null  int64  \n",
      " 35  D19_BANKEN_ONLINE_DATUM      191652 non-null  int64  \n",
      " 36  D19_BANKEN_ONLINE_QUOTE_12   143955 non-null  float64\n",
      " 37  D19_BANKEN_REST              191652 non-null  int64  \n",
      " 38  D19_BEKLEIDUNG_GEH           191652 non-null  int64  \n",
      " 39  D19_BEKLEIDUNG_REST          191652 non-null  int64  \n",
      " 40  D19_BILDUNG                  191652 non-null  int64  \n",
      " 41  D19_BIO_OEKO                 191652 non-null  int64  \n",
      " 42  D19_BUCH_CD                  191652 non-null  int64  \n",
      " 43  D19_DIGIT_SERV               191652 non-null  int64  \n",
      " 44  D19_DROGERIEARTIKEL          191652 non-null  int64  \n",
      " 45  D19_ENERGIE                  191652 non-null  int64  \n",
      " 46  D19_FREIZEIT                 191652 non-null  int64  \n",
      " 47  D19_GARTEN                   191652 non-null  int64  \n",
      " 48  D19_GESAMT_ANZ_12            191652 non-null  int64  \n",
      " 49  D19_GESAMT_ANZ_24            191652 non-null  int64  \n",
      " 50  D19_GESAMT_DATUM             191652 non-null  int64  \n",
      " 51  D19_GESAMT_OFFLINE_DATUM     191652 non-null  int64  \n",
      " 52  D19_GESAMT_ONLINE_DATUM      191652 non-null  int64  \n",
      " 53  D19_GESAMT_ONLINE_QUOTE_12   143955 non-null  float64\n",
      " 54  D19_HANDWERK                 191652 non-null  int64  \n",
      " 55  D19_HAUS_DEKO                191652 non-null  int64  \n",
      " 56  D19_KINDERARTIKEL            191652 non-null  int64  \n",
      " 57  D19_KONSUMTYP                143955 non-null  float64\n",
      " 58  D19_KONSUMTYP_MAX            191652 non-null  int64  \n",
      " 59  D19_KOSMETIK                 191652 non-null  int64  \n",
      " 60  D19_LEBENSMITTEL             191652 non-null  int64  \n",
      " 61  D19_LETZTER_KAUF_BRANCHE     143955 non-null  object \n",
      " 62  D19_LOTTO                    143955 non-null  float64\n",
      " 63  D19_NAHRUNGSERGAENZUNG       191652 non-null  int64  \n",
      " 64  D19_RATGEBER                 191652 non-null  int64  \n",
      " 65  D19_REISEN                   191652 non-null  int64  \n",
      " 66  D19_SAMMELARTIKEL            191652 non-null  int64  \n",
      " 67  D19_SCHUHE                   191652 non-null  int64  \n",
      " 68  D19_SONSTIGE                 191652 non-null  int64  \n",
      " 69  D19_SOZIALES                 143955 non-null  float64\n",
      " 70  D19_TECHNIK                  191652 non-null  int64  \n",
      " 71  D19_TELKO_ANZ_12             191652 non-null  int64  \n",
      " 72  D19_TELKO_ANZ_24             191652 non-null  int64  \n",
      " 73  D19_TELKO_DATUM              191652 non-null  int64  \n",
      " 74  D19_TELKO_MOBILE             191652 non-null  int64  \n",
      " 75  D19_TELKO_OFFLINE_DATUM      191652 non-null  int64  \n",
      " 76  D19_TELKO_ONLINE_DATUM       191652 non-null  int64  \n",
      " 77  D19_TELKO_ONLINE_QUOTE_12    143955 non-null  float64\n",
      " 78  D19_TELKO_REST               191652 non-null  int64  \n",
      " 79  D19_TIERARTIKEL              191652 non-null  int64  \n",
      " 80  D19_VERSAND_ANZ_12           191652 non-null  int64  \n",
      " 81  D19_VERSAND_ANZ_24           191652 non-null  int64  \n",
      " 82  D19_VERSAND_DATUM            191652 non-null  int64  \n",
      " 83  D19_VERSAND_OFFLINE_DATUM    191652 non-null  int64  \n",
      " 84  D19_VERSAND_ONLINE_DATUM     191652 non-null  int64  \n",
      " 85  D19_VERSAND_ONLINE_QUOTE_12  143955 non-null  float64\n",
      " 86  D19_VERSAND_REST             191652 non-null  int64  \n",
      " 87  D19_VERSI_ANZ_12             191652 non-null  int64  \n",
      " 88  D19_VERSI_ANZ_24             191652 non-null  int64  \n",
      " 89  D19_VERSI_DATUM              191652 non-null  int64  \n",
      " 90  D19_VERSI_OFFLINE_DATUM      191652 non-null  int64  \n",
      " 91  D19_VERSI_ONLINE_DATUM       191652 non-null  int64  \n",
      " 92  D19_VERSI_ONLINE_QUOTE_12    143955 non-null  float64\n",
      " 93  D19_VERSICHERUNGEN           191652 non-null  int64  \n",
      " 94  D19_VOLLSORTIMENT            191652 non-null  int64  \n",
      " 95  D19_WEIN_FEINKOST            191652 non-null  int64  \n",
      " 96  DSL_FLAG                     141725 non-null  float64\n",
      " 97  EINGEFUEGT_AM                141725 non-null  object \n",
      " 98  EINGEZOGENAM_HH_JAHR         145056 non-null  float64\n",
      " 99  EWDICHTE                     141693 non-null  float64\n",
      " 100 EXTSEL992                    106369 non-null  float64\n",
      " 101 FINANZ_ANLEGER               191652 non-null  int64  \n",
      " 102 FINANZ_HAUSBAUER             191652 non-null  int64  \n",
      " 103 FINANZ_MINIMALIST            191652 non-null  int64  \n",
      " 104 FINANZ_SPARER                191652 non-null  int64  \n",
      " 105 FINANZ_UNAUFFAELLIGER        191652 non-null  int64  \n",
      " 106 FINANZ_VORSORGER             191652 non-null  int64  \n",
      " 107 FINANZTYP                    191652 non-null  int64  \n",
      " 108 FIRMENDICHTE                 141725 non-null  float64\n",
      " 109 GEBAEUDETYP                  141725 non-null  float64\n",
      " 110 GEBAEUDETYP_RASTER           141725 non-null  float64\n",
      " 111 GEBURTSJAHR                  191652 non-null  int64  \n",
      " 112 GEMEINDETYP                  141176 non-null  float64\n",
      " 113 GFK_URLAUBERTYP              188439 non-null  float64\n",
      " 114 GREEN_AVANTGARDE             191652 non-null  int64  \n",
      " 115 HEALTH_TYP                   191652 non-null  int64  \n",
      " 116 HH_DELTA_FLAG                137910 non-null  float64\n",
      " 117 HH_EINKOMMEN_SCORE           188684 non-null  float64\n",
      " 118 INNENSTADT                   141693 non-null  float64\n",
      " 119 KBA05_ALTER1                 135672 non-null  float64\n",
      " 120 KBA05_ALTER2                 135672 non-null  float64\n",
      " 121 KBA05_ALTER3                 135672 non-null  float64\n",
      " 122 KBA05_ALTER4                 135672 non-null  float64\n",
      " 123 KBA05_ANHANG                 135672 non-null  float64\n",
      " 124 KBA05_ANTG1                  135672 non-null  float64\n",
      " 125 KBA05_ANTG2                  135672 non-null  float64\n",
      " 126 KBA05_ANTG3                  135672 non-null  float64\n",
      " 127 KBA05_ANTG4                  135672 non-null  float64\n",
      " 128 KBA05_AUTOQUOT               135672 non-null  float64\n",
      " 129 KBA05_BAUMAX                 135672 non-null  float64\n",
      " 130 KBA05_CCM1                   135672 non-null  float64\n",
      " 131 KBA05_CCM2                   135672 non-null  float64\n",
      " 132 KBA05_CCM3                   135672 non-null  float64\n",
      " 133 KBA05_CCM4                   135672 non-null  float64\n",
      " 134 KBA05_DIESEL                 135672 non-null  float64\n",
      " 135 KBA05_FRAU                   135672 non-null  float64\n",
      " 136 KBA05_GBZ                    135672 non-null  float64\n",
      " 137 KBA05_HERST1                 135672 non-null  float64\n",
      " 138 KBA05_HERST2                 135672 non-null  float64\n",
      " 139 KBA05_HERST3                 135672 non-null  float64\n",
      " 140 KBA05_HERST4                 135672 non-null  float64\n",
      " 141 KBA05_HERST5                 135672 non-null  float64\n",
      " 142 KBA05_HERSTTEMP              141725 non-null  float64\n",
      " 143 KBA05_KRSAQUOT               135672 non-null  float64\n",
      " 144 KBA05_KRSHERST1              135672 non-null  float64\n",
      " 145 KBA05_KRSHERST2              135672 non-null  float64\n",
      " 146 KBA05_KRSHERST3              135672 non-null  float64\n",
      " 147 KBA05_KRSKLEIN               135672 non-null  float64\n",
      " 148 KBA05_KRSOBER                135672 non-null  float64\n",
      " 149 KBA05_KRSVAN                 135672 non-null  float64\n",
      " 150 KBA05_KRSZUL                 135672 non-null  float64\n",
      " 151 KBA05_KW1                    135672 non-null  float64\n",
      " 152 KBA05_KW2                    135672 non-null  float64\n",
      " 153 KBA05_KW3                    135672 non-null  float64\n",
      " 154 KBA05_MAXAH                  135672 non-null  float64\n",
      " 155 KBA05_MAXBJ                  135672 non-null  float64\n",
      " 156 KBA05_MAXHERST               135672 non-null  float64\n",
      " 157 KBA05_MAXSEG                 135672 non-null  float64\n",
      " 158 KBA05_MAXVORB                135672 non-null  float64\n",
      " 159 KBA05_MOD1                   135672 non-null  float64\n",
      " 160 KBA05_MOD2                   135672 non-null  float64\n",
      " 161 KBA05_MOD3                   135672 non-null  float64\n",
      " 162 KBA05_MOD4                   135672 non-null  float64\n",
      " 163 KBA05_MOD8                   135672 non-null  float64\n",
      " 164 KBA05_MODTEMP                141725 non-null  float64\n",
      " 165 KBA05_MOTOR                  135672 non-null  float64\n",
      " 166 KBA05_MOTRAD                 135672 non-null  float64\n",
      " 167 KBA05_SEG1                   135672 non-null  float64\n",
      " 168 KBA05_SEG10                  135672 non-null  float64\n",
      " 169 KBA05_SEG2                   135672 non-null  float64\n",
      " 170 KBA05_SEG3                   135672 non-null  float64\n",
      " 171 KBA05_SEG4                   135672 non-null  float64\n",
      " 172 KBA05_SEG5                   135672 non-null  float64\n",
      " 173 KBA05_SEG6                   135672 non-null  float64\n",
      " 174 KBA05_SEG7                   135672 non-null  float64\n",
      " 175 KBA05_SEG8                   135672 non-null  float64\n",
      " 176 KBA05_SEG9                   135672 non-null  float64\n",
      " 177 KBA05_VORB0                  135672 non-null  float64\n",
      " 178 KBA05_VORB1                  135672 non-null  float64\n",
      " 179 KBA05_VORB2                  135672 non-null  float64\n",
      " 180 KBA05_ZUL1                   135672 non-null  float64\n",
      " 181 KBA05_ZUL2                   135672 non-null  float64\n",
      " 182 KBA05_ZUL3                   135672 non-null  float64\n",
      " 183 KBA05_ZUL4                   135672 non-null  float64\n",
      " 184 KBA13_ALTERHALTER_30         140371 non-null  float64\n",
      " 185 KBA13_ALTERHALTER_45         140371 non-null  float64\n",
      " 186 KBA13_ALTERHALTER_60         140371 non-null  float64\n",
      " 187 KBA13_ALTERHALTER_61         140371 non-null  float64\n",
      " 188 KBA13_ANTG1                  140371 non-null  float64\n",
      " 189 KBA13_ANTG2                  140371 non-null  float64\n",
      " 190 KBA13_ANTG3                  140371 non-null  float64\n",
      " 191 KBA13_ANTG4                  140371 non-null  float64\n",
      " 192 KBA13_ANZAHL_PKW             140371 non-null  float64\n",
      " 193 KBA13_AUDI                   140371 non-null  float64\n",
      " 194 KBA13_AUTOQUOTE              140371 non-null  float64\n",
      " 195 KBA13_BAUMAX                 140371 non-null  float64\n",
      " 196 KBA13_BJ_1999                140371 non-null  float64\n",
      " 197 KBA13_BJ_2000                140371 non-null  float64\n",
      " 198 KBA13_BJ_2004                140371 non-null  float64\n",
      " 199 KBA13_BJ_2006                140371 non-null  float64\n",
      " 200 KBA13_BJ_2008                140371 non-null  float64\n",
      " 201 KBA13_BJ_2009                140371 non-null  float64\n",
      " 202 KBA13_BMW                    140371 non-null  float64\n",
      " 203 KBA13_CCM_0_1400             140371 non-null  float64\n",
      " 204 KBA13_CCM_1000               140371 non-null  float64\n",
      " 205 KBA13_CCM_1200               140371 non-null  float64\n",
      " 206 KBA13_CCM_1400               140371 non-null  float64\n",
      " 207 KBA13_CCM_1401_2500          140371 non-null  float64\n",
      " 208 KBA13_CCM_1500               140371 non-null  float64\n",
      " 209 KBA13_CCM_1600               140371 non-null  float64\n",
      " 210 KBA13_CCM_1800               140371 non-null  float64\n",
      " 211 KBA13_CCM_2000               140371 non-null  float64\n",
      " 212 KBA13_CCM_2500               140371 non-null  float64\n",
      " 213 KBA13_CCM_2501               140371 non-null  float64\n",
      " 214 KBA13_CCM_3000               140371 non-null  float64\n",
      " 215 KBA13_CCM_3001               140371 non-null  float64\n",
      " 216 KBA13_FAB_ASIEN              140371 non-null  float64\n",
      " 217 KBA13_FAB_SONSTIGE           140371 non-null  float64\n",
      " 218 KBA13_FIAT                   140371 non-null  float64\n",
      " 219 KBA13_FORD                   140371 non-null  float64\n",
      " 220 KBA13_GBZ                    140371 non-null  float64\n",
      " 221 KBA13_HALTER_20              140371 non-null  float64\n",
      " 222 KBA13_HALTER_25              140371 non-null  float64\n",
      " 223 KBA13_HALTER_30              140371 non-null  float64\n",
      " 224 KBA13_HALTER_35              140371 non-null  float64\n",
      " 225 KBA13_HALTER_40              140371 non-null  float64\n",
      " 226 KBA13_HALTER_45              140371 non-null  float64\n",
      " 227 KBA13_HALTER_50              140371 non-null  float64\n",
      " 228 KBA13_HALTER_55              140371 non-null  float64\n",
      " 229 KBA13_HALTER_60              140371 non-null  float64\n",
      " 230 KBA13_HALTER_65              140371 non-null  float64\n",
      " 231 KBA13_HALTER_66              140371 non-null  float64\n",
      " 232 KBA13_HERST_ASIEN            140371 non-null  float64\n",
      " 233 KBA13_HERST_AUDI_VW          140371 non-null  float64\n",
      " 234 KBA13_HERST_BMW_BENZ         140371 non-null  float64\n",
      " 235 KBA13_HERST_EUROPA           140371 non-null  float64\n",
      " 236 KBA13_HERST_FORD_OPEL        140371 non-null  float64\n",
      " 237 KBA13_HERST_SONST            140371 non-null  float64\n",
      " 238 KBA13_HHZ                    140371 non-null  float64\n",
      " 239 KBA13_KMH_0_140              140371 non-null  float64\n",
      " 240 KBA13_KMH_110                140371 non-null  float64\n",
      " 241 KBA13_KMH_140                140371 non-null  float64\n",
      " 242 KBA13_KMH_140_210            140371 non-null  float64\n",
      " 243 KBA13_KMH_180                140371 non-null  float64\n",
      " 244 KBA13_KMH_210                140371 non-null  float64\n",
      " 245 KBA13_KMH_211                140371 non-null  float64\n",
      " 246 KBA13_KMH_250                140371 non-null  float64\n",
      " 247 KBA13_KMH_251                140371 non-null  float64\n",
      " 248 KBA13_KRSAQUOT               140371 non-null  float64\n",
      " 249 KBA13_KRSHERST_AUDI_VW       140371 non-null  float64\n",
      " 250 KBA13_KRSHERST_BMW_BENZ      140371 non-null  float64\n",
      " 251 KBA13_KRSHERST_FORD_OPEL     140371 non-null  float64\n",
      " 252 KBA13_KRSSEG_KLEIN           140371 non-null  float64\n",
      " 253 KBA13_KRSSEG_OBER            140371 non-null  float64\n",
      " 254 KBA13_KRSSEG_VAN             140371 non-null  float64\n",
      " 255 KBA13_KRSZUL_NEU             140371 non-null  float64\n",
      " 256 KBA13_KW_0_60                140371 non-null  float64\n",
      " 257 KBA13_KW_110                 140371 non-null  float64\n",
      " 258 KBA13_KW_120                 140371 non-null  float64\n",
      " 259 KBA13_KW_121                 140371 non-null  float64\n",
      " 260 KBA13_KW_30                  140371 non-null  float64\n",
      " 261 KBA13_KW_40                  140371 non-null  float64\n",
      " 262 KBA13_KW_50                  140371 non-null  float64\n",
      " 263 KBA13_KW_60                  140371 non-null  float64\n",
      " 264 KBA13_KW_61_120              140371 non-null  float64\n",
      " 265 KBA13_KW_70                  140371 non-null  float64\n",
      " 266 KBA13_KW_80                  140371 non-null  float64\n",
      " 267 KBA13_KW_90                  140371 non-null  float64\n",
      " 268 KBA13_MAZDA                  140371 non-null  float64\n",
      " 269 KBA13_MERCEDES               140371 non-null  float64\n",
      " 270 KBA13_MOTOR                  140371 non-null  float64\n",
      " 271 KBA13_NISSAN                 140371 non-null  float64\n",
      " 272 KBA13_OPEL                   140371 non-null  float64\n",
      " 273 KBA13_PEUGEOT                140371 non-null  float64\n",
      " 274 KBA13_RENAULT                140371 non-null  float64\n",
      " 275 KBA13_SEG_GELAENDEWAGEN      140371 non-null  float64\n",
      " 276 KBA13_SEG_GROSSRAUMVANS      140371 non-null  float64\n",
      " 277 KBA13_SEG_KLEINST            140371 non-null  float64\n",
      " 278 KBA13_SEG_KLEINWAGEN         140371 non-null  float64\n",
      " 279 KBA13_SEG_KOMPAKTKLASSE      140371 non-null  float64\n",
      " 280 KBA13_SEG_MINIVANS           140371 non-null  float64\n",
      " 281 KBA13_SEG_MINIWAGEN          140371 non-null  float64\n",
      " 282 KBA13_SEG_MITTELKLASSE       140371 non-null  float64\n",
      " 283 KBA13_SEG_OBEREMITTELKLASSE  140371 non-null  float64\n",
      " 284 KBA13_SEG_OBERKLASSE         140371 non-null  float64\n",
      " 285 KBA13_SEG_SONSTIGE           140371 non-null  float64\n",
      " 286 KBA13_SEG_SPORTWAGEN         140371 non-null  float64\n",
      " 287 KBA13_SEG_UTILITIES          140371 non-null  float64\n",
      " 288 KBA13_SEG_VAN                140371 non-null  float64\n",
      " 289 KBA13_SEG_WOHNMOBILE         140371 non-null  float64\n",
      " 290 KBA13_SITZE_4                140371 non-null  float64\n",
      " 291 KBA13_SITZE_5                140371 non-null  float64\n",
      " 292 KBA13_SITZE_6                140371 non-null  float64\n",
      " 293 KBA13_TOYOTA                 140371 non-null  float64\n",
      " 294 KBA13_VORB_0                 140371 non-null  float64\n",
      " 295 KBA13_VORB_1                 140371 non-null  float64\n",
      " 296 KBA13_VORB_1_2               140371 non-null  float64\n",
      " 297 KBA13_VORB_2                 140371 non-null  float64\n",
      " 298 KBA13_VORB_3                 140371 non-null  float64\n",
      " 299 KBA13_VW                     140371 non-null  float64\n",
      " 300 KK_KUNDENTYP                 79715 non-null   float64\n",
      " 301 KKK                          137392 non-null  float64\n",
      " 302 KOMBIALTER                   191652 non-null  int64  \n",
      " 303 KONSUMNAEHE                  145001 non-null  float64\n",
      " 304 KONSUMZELLE                  141725 non-null  float64\n",
      " 305 LP_FAMILIE_FEIN              188439 non-null  float64\n",
      " 306 LP_FAMILIE_GROB              188439 non-null  float64\n",
      " 307 LP_LEBENSPHASE_FEIN          188439 non-null  float64\n",
      " 308 LP_LEBENSPHASE_GROB          188439 non-null  float64\n",
      " 309 LP_STATUS_FEIN               188439 non-null  float64\n",
      " 310 LP_STATUS_GROB               188439 non-null  float64\n",
      " 311 MIN_GEBAEUDEJAHR             141725 non-null  float64\n",
      " 312 MOBI_RASTER                  141725 non-null  float64\n",
      " 313 MOBI_REGIO                   135672 non-null  float64\n",
      " 314 NATIONALITAET_KZ             191652 non-null  int64  \n",
      " 315 ONLINE_AFFINITAET            188439 non-null  float64\n",
      " 316 ORTSGR_KLS9                  141176 non-null  float64\n",
      " 317 OST_WEST_KZ                  141725 non-null  object \n",
      " 318 PLZ8_ANTG1                   138888 non-null  float64\n",
      " 319 PLZ8_ANTG2                   138888 non-null  float64\n",
      " 320 PLZ8_ANTG3                   138888 non-null  float64\n",
      " 321 PLZ8_ANTG4                   138888 non-null  float64\n",
      " 322 PLZ8_BAUMAX                  138888 non-null  float64\n",
      " 323 PLZ8_GBZ                     138888 non-null  float64\n",
      " 324 PLZ8_HHZ                     138888 non-null  float64\n",
      " 325 PRAEGENDE_JUGENDJAHRE        191652 non-null  int64  \n",
      " 326 REGIOTYP                     137392 non-null  float64\n",
      " 327 RELAT_AB                     141176 non-null  float64\n",
      " 328 RETOURTYP_BK_S               188439 non-null  float64\n",
      " 329 RT_KEIN_ANREIZ               188439 non-null  float64\n",
      " 330 RT_SCHNAEPPCHEN              188439 non-null  float64\n",
      " 331 RT_UEBERGROESSE              147460 non-null  float64\n",
      " 332 SEMIO_DOM                    191652 non-null  int64  \n",
      " 333 SEMIO_ERL                    191652 non-null  int64  \n",
      " 334 SEMIO_FAM                    191652 non-null  int64  \n",
      " 335 SEMIO_KAEM                   191652 non-null  int64  \n",
      " 336 SEMIO_KRIT                   191652 non-null  int64  \n",
      " 337 SEMIO_KULT                   191652 non-null  int64  \n",
      " 338 SEMIO_LUST                   191652 non-null  int64  \n",
      " 339 SEMIO_MAT                    191652 non-null  int64  \n",
      " 340 SEMIO_PFLICHT                191652 non-null  int64  \n",
      " 341 SEMIO_RAT                    191652 non-null  int64  \n",
      " 342 SEMIO_REL                    191652 non-null  int64  \n",
      " 343 SEMIO_SOZ                    191652 non-null  int64  \n",
      " 344 SEMIO_TRADV                  191652 non-null  int64  \n",
      " 345 SEMIO_VERT                   191652 non-null  int64  \n",
      " 346 SHOPPER_TYP                  191652 non-null  int64  \n",
      " 347 SOHO_KZ                      145056 non-null  float64\n",
      " 348 STRUKTURTYP                  141176 non-null  float64\n",
      " 349 TITEL_KZ                     145056 non-null  float64\n",
      " 350 UMFELD_ALT                   141204 non-null  float64\n",
      " 351 UMFELD_JUNG                  141204 non-null  float64\n",
      " 352 UNGLEICHENN_FLAG             145056 non-null  float64\n",
      " 353 VERDICHTUNGSRAUM             141176 non-null  float64\n",
      " 354 VERS_TYP                     191652 non-null  int64  \n",
      " 355 VHA                          145056 non-null  float64\n",
      " 356 VHN                          137392 non-null  float64\n",
      " 357 VK_DHT4A                     143781 non-null  float64\n",
      " 358 VK_DISTANZ                   143781 non-null  float64\n",
      " 359 VK_ZG11                      143781 non-null  float64\n",
      " 360 W_KEIT_KIND_HH               137910 non-null  float64\n",
      " 361 WOHNDAUER_2008               145056 non-null  float64\n",
      " 362 WOHNLAGE                     141725 non-null  float64\n",
      " 363 ZABEOTYP                     191652 non-null  int64  \n",
      " 364 PRODUCT_GROUP                191652 non-null  object \n",
      " 365 CUSTOMER_GROUP               191652 non-null  object \n",
      " 366 ONLINE_PURCHASE              191652 non-null  int64  \n",
      " 367 ANREDE_KZ                    191652 non-null  int64  \n",
      " 368 ALTERSKATEGORIE_GROB         191652 non-null  int64  \n",
      "dtypes: float64(267), int64(94), object(8)\n",
      "memory usage: 539.5+ MB\n"
     ]
    }
   ],
   "source": [
    "customers.info(verbose = True, null_counts = True)"
   ]
  },
  {
   "cell_type": "code",
   "execution_count": 14,
   "metadata": {},
   "outputs": [
    {
     "data": {
      "text/html": [
       "<div>\n",
       "<style scoped>\n",
       "    .dataframe tbody tr th:only-of-type {\n",
       "        vertical-align: middle;\n",
       "    }\n",
       "\n",
       "    .dataframe tbody tr th {\n",
       "        vertical-align: top;\n",
       "    }\n",
       "\n",
       "    .dataframe thead th {\n",
       "        text-align: right;\n",
       "    }\n",
       "</style>\n",
       "<table border=\"1\" class=\"dataframe\">\n",
       "  <thead>\n",
       "    <tr style=\"text-align: right;\">\n",
       "      <th></th>\n",
       "      <th>LNR</th>\n",
       "      <th>AGER_TYP</th>\n",
       "      <th>AKT_DAT_KL</th>\n",
       "      <th>ALTER_HH</th>\n",
       "      <th>ALTER_KIND1</th>\n",
       "      <th>ALTER_KIND2</th>\n",
       "      <th>ALTER_KIND3</th>\n",
       "      <th>ALTER_KIND4</th>\n",
       "      <th>ALTERSKATEGORIE_FEIN</th>\n",
       "      <th>ANZ_HAUSHALTE_AKTIV</th>\n",
       "      <th>...</th>\n",
       "      <th>VK_DHT4A</th>\n",
       "      <th>VK_DISTANZ</th>\n",
       "      <th>VK_ZG11</th>\n",
       "      <th>W_KEIT_KIND_HH</th>\n",
       "      <th>WOHNDAUER_2008</th>\n",
       "      <th>WOHNLAGE</th>\n",
       "      <th>ZABEOTYP</th>\n",
       "      <th>ONLINE_PURCHASE</th>\n",
       "      <th>ANREDE_KZ</th>\n",
       "      <th>ALTERSKATEGORIE_GROB</th>\n",
       "    </tr>\n",
       "  </thead>\n",
       "  <tbody>\n",
       "    <tr>\n",
       "      <th>count</th>\n",
       "      <td>191652.000000</td>\n",
       "      <td>191652.000000</td>\n",
       "      <td>145056.000000</td>\n",
       "      <td>145056.000000</td>\n",
       "      <td>11766.000000</td>\n",
       "      <td>5100.000000</td>\n",
       "      <td>1275.000000</td>\n",
       "      <td>236.000000</td>\n",
       "      <td>139810.000000</td>\n",
       "      <td>141725.000000</td>\n",
       "      <td>...</td>\n",
       "      <td>143781.000000</td>\n",
       "      <td>143781.000000</td>\n",
       "      <td>143781.000000</td>\n",
       "      <td>137910.000000</td>\n",
       "      <td>145056.000000</td>\n",
       "      <td>141725.000000</td>\n",
       "      <td>191652.000000</td>\n",
       "      <td>191652.000000</td>\n",
       "      <td>191652.000000</td>\n",
       "      <td>191652.000000</td>\n",
       "    </tr>\n",
       "    <tr>\n",
       "      <th>mean</th>\n",
       "      <td>95826.500000</td>\n",
       "      <td>0.344359</td>\n",
       "      <td>1.747525</td>\n",
       "      <td>11.352009</td>\n",
       "      <td>12.337243</td>\n",
       "      <td>13.672353</td>\n",
       "      <td>14.647059</td>\n",
       "      <td>15.377119</td>\n",
       "      <td>10.331579</td>\n",
       "      <td>4.965863</td>\n",
       "      <td>...</td>\n",
       "      <td>4.374417</td>\n",
       "      <td>4.564769</td>\n",
       "      <td>3.168868</td>\n",
       "      <td>4.152716</td>\n",
       "      <td>8.646371</td>\n",
       "      <td>3.723133</td>\n",
       "      <td>2.576806</td>\n",
       "      <td>0.090247</td>\n",
       "      <td>1.376432</td>\n",
       "      <td>3.060907</td>\n",
       "    </tr>\n",
       "    <tr>\n",
       "      <th>std</th>\n",
       "      <td>55325.311233</td>\n",
       "      <td>1.391672</td>\n",
       "      <td>1.966334</td>\n",
       "      <td>6.275026</td>\n",
       "      <td>4.006050</td>\n",
       "      <td>3.243335</td>\n",
       "      <td>2.753787</td>\n",
       "      <td>2.307653</td>\n",
       "      <td>4.134828</td>\n",
       "      <td>14.309694</td>\n",
       "      <td>...</td>\n",
       "      <td>2.924355</td>\n",
       "      <td>2.887035</td>\n",
       "      <td>2.233516</td>\n",
       "      <td>1.974375</td>\n",
       "      <td>1.154001</td>\n",
       "      <td>2.095540</td>\n",
       "      <td>1.168486</td>\n",
       "      <td>0.286536</td>\n",
       "      <td>0.484492</td>\n",
       "      <td>1.086254</td>\n",
       "    </tr>\n",
       "    <tr>\n",
       "      <th>min</th>\n",
       "      <td>1.000000</td>\n",
       "      <td>-1.000000</td>\n",
       "      <td>1.000000</td>\n",
       "      <td>0.000000</td>\n",
       "      <td>2.000000</td>\n",
       "      <td>2.000000</td>\n",
       "      <td>5.000000</td>\n",
       "      <td>8.000000</td>\n",
       "      <td>0.000000</td>\n",
       "      <td>0.000000</td>\n",
       "      <td>...</td>\n",
       "      <td>1.000000</td>\n",
       "      <td>1.000000</td>\n",
       "      <td>1.000000</td>\n",
       "      <td>0.000000</td>\n",
       "      <td>1.000000</td>\n",
       "      <td>0.000000</td>\n",
       "      <td>1.000000</td>\n",
       "      <td>0.000000</td>\n",
       "      <td>1.000000</td>\n",
       "      <td>1.000000</td>\n",
       "    </tr>\n",
       "    <tr>\n",
       "      <th>25%</th>\n",
       "      <td>47913.750000</td>\n",
       "      <td>-1.000000</td>\n",
       "      <td>1.000000</td>\n",
       "      <td>8.000000</td>\n",
       "      <td>9.000000</td>\n",
       "      <td>11.000000</td>\n",
       "      <td>13.000000</td>\n",
       "      <td>14.000000</td>\n",
       "      <td>9.000000</td>\n",
       "      <td>1.000000</td>\n",
       "      <td>...</td>\n",
       "      <td>2.000000</td>\n",
       "      <td>2.000000</td>\n",
       "      <td>1.000000</td>\n",
       "      <td>2.000000</td>\n",
       "      <td>9.000000</td>\n",
       "      <td>2.000000</td>\n",
       "      <td>1.000000</td>\n",
       "      <td>0.000000</td>\n",
       "      <td>1.000000</td>\n",
       "      <td>3.000000</td>\n",
       "    </tr>\n",
       "    <tr>\n",
       "      <th>50%</th>\n",
       "      <td>95826.500000</td>\n",
       "      <td>0.000000</td>\n",
       "      <td>1.000000</td>\n",
       "      <td>11.000000</td>\n",
       "      <td>13.000000</td>\n",
       "      <td>14.000000</td>\n",
       "      <td>15.000000</td>\n",
       "      <td>16.000000</td>\n",
       "      <td>10.000000</td>\n",
       "      <td>1.000000</td>\n",
       "      <td>...</td>\n",
       "      <td>4.000000</td>\n",
       "      <td>4.000000</td>\n",
       "      <td>3.000000</td>\n",
       "      <td>5.000000</td>\n",
       "      <td>9.000000</td>\n",
       "      <td>3.000000</td>\n",
       "      <td>3.000000</td>\n",
       "      <td>0.000000</td>\n",
       "      <td>1.000000</td>\n",
       "      <td>3.000000</td>\n",
       "    </tr>\n",
       "    <tr>\n",
       "      <th>75%</th>\n",
       "      <td>143739.250000</td>\n",
       "      <td>2.000000</td>\n",
       "      <td>1.000000</td>\n",
       "      <td>16.000000</td>\n",
       "      <td>16.000000</td>\n",
       "      <td>16.000000</td>\n",
       "      <td>17.000000</td>\n",
       "      <td>17.000000</td>\n",
       "      <td>13.000000</td>\n",
       "      <td>4.000000</td>\n",
       "      <td>...</td>\n",
       "      <td>7.000000</td>\n",
       "      <td>7.000000</td>\n",
       "      <td>4.000000</td>\n",
       "      <td>6.000000</td>\n",
       "      <td>9.000000</td>\n",
       "      <td>5.000000</td>\n",
       "      <td>3.000000</td>\n",
       "      <td>0.000000</td>\n",
       "      <td>2.000000</td>\n",
       "      <td>4.000000</td>\n",
       "    </tr>\n",
       "    <tr>\n",
       "      <th>max</th>\n",
       "      <td>191652.000000</td>\n",
       "      <td>3.000000</td>\n",
       "      <td>9.000000</td>\n",
       "      <td>21.000000</td>\n",
       "      <td>18.000000</td>\n",
       "      <td>18.000000</td>\n",
       "      <td>18.000000</td>\n",
       "      <td>18.000000</td>\n",
       "      <td>25.000000</td>\n",
       "      <td>523.000000</td>\n",
       "      <td>...</td>\n",
       "      <td>11.000000</td>\n",
       "      <td>13.000000</td>\n",
       "      <td>11.000000</td>\n",
       "      <td>6.000000</td>\n",
       "      <td>9.000000</td>\n",
       "      <td>8.000000</td>\n",
       "      <td>6.000000</td>\n",
       "      <td>1.000000</td>\n",
       "      <td>2.000000</td>\n",
       "      <td>9.000000</td>\n",
       "    </tr>\n",
       "  </tbody>\n",
       "</table>\n",
       "<p>8 rows × 361 columns</p>\n",
       "</div>"
      ],
      "text/plain": [
       "                 LNR       AGER_TYP     AKT_DAT_KL       ALTER_HH  \\\n",
       "count  191652.000000  191652.000000  145056.000000  145056.000000   \n",
       "mean    95826.500000       0.344359       1.747525      11.352009   \n",
       "std     55325.311233       1.391672       1.966334       6.275026   \n",
       "min         1.000000      -1.000000       1.000000       0.000000   \n",
       "25%     47913.750000      -1.000000       1.000000       8.000000   \n",
       "50%     95826.500000       0.000000       1.000000      11.000000   \n",
       "75%    143739.250000       2.000000       1.000000      16.000000   \n",
       "max    191652.000000       3.000000       9.000000      21.000000   \n",
       "\n",
       "        ALTER_KIND1  ALTER_KIND2  ALTER_KIND3  ALTER_KIND4  \\\n",
       "count  11766.000000  5100.000000  1275.000000   236.000000   \n",
       "mean      12.337243    13.672353    14.647059    15.377119   \n",
       "std        4.006050     3.243335     2.753787     2.307653   \n",
       "min        2.000000     2.000000     5.000000     8.000000   \n",
       "25%        9.000000    11.000000    13.000000    14.000000   \n",
       "50%       13.000000    14.000000    15.000000    16.000000   \n",
       "75%       16.000000    16.000000    17.000000    17.000000   \n",
       "max       18.000000    18.000000    18.000000    18.000000   \n",
       "\n",
       "       ALTERSKATEGORIE_FEIN  ANZ_HAUSHALTE_AKTIV  ...       VK_DHT4A  \\\n",
       "count         139810.000000        141725.000000  ...  143781.000000   \n",
       "mean              10.331579             4.965863  ...       4.374417   \n",
       "std                4.134828            14.309694  ...       2.924355   \n",
       "min                0.000000             0.000000  ...       1.000000   \n",
       "25%                9.000000             1.000000  ...       2.000000   \n",
       "50%               10.000000             1.000000  ...       4.000000   \n",
       "75%               13.000000             4.000000  ...       7.000000   \n",
       "max               25.000000           523.000000  ...      11.000000   \n",
       "\n",
       "          VK_DISTANZ        VK_ZG11  W_KEIT_KIND_HH  WOHNDAUER_2008  \\\n",
       "count  143781.000000  143781.000000   137910.000000   145056.000000   \n",
       "mean        4.564769       3.168868        4.152716        8.646371   \n",
       "std         2.887035       2.233516        1.974375        1.154001   \n",
       "min         1.000000       1.000000        0.000000        1.000000   \n",
       "25%         2.000000       1.000000        2.000000        9.000000   \n",
       "50%         4.000000       3.000000        5.000000        9.000000   \n",
       "75%         7.000000       4.000000        6.000000        9.000000   \n",
       "max        13.000000      11.000000        6.000000        9.000000   \n",
       "\n",
       "            WOHNLAGE       ZABEOTYP  ONLINE_PURCHASE      ANREDE_KZ  \\\n",
       "count  141725.000000  191652.000000    191652.000000  191652.000000   \n",
       "mean        3.723133       2.576806         0.090247       1.376432   \n",
       "std         2.095540       1.168486         0.286536       0.484492   \n",
       "min         0.000000       1.000000         0.000000       1.000000   \n",
       "25%         2.000000       1.000000         0.000000       1.000000   \n",
       "50%         3.000000       3.000000         0.000000       1.000000   \n",
       "75%         5.000000       3.000000         0.000000       2.000000   \n",
       "max         8.000000       6.000000         1.000000       2.000000   \n",
       "\n",
       "       ALTERSKATEGORIE_GROB  \n",
       "count         191652.000000  \n",
       "mean               3.060907  \n",
       "std                1.086254  \n",
       "min                1.000000  \n",
       "25%                3.000000  \n",
       "50%                3.000000  \n",
       "75%                4.000000  \n",
       "max                9.000000  \n",
       "\n",
       "[8 rows x 361 columns]"
      ]
     },
     "execution_count": 14,
     "metadata": {},
     "output_type": "execute_result"
    }
   ],
   "source": [
    "customers.describe()"
   ]
  },
  {
   "cell_type": "code",
   "execution_count": 15,
   "metadata": {},
   "outputs": [
    {
     "data": {
      "text/html": [
       "<div>\n",
       "<style scoped>\n",
       "    .dataframe tbody tr th:only-of-type {\n",
       "        vertical-align: middle;\n",
       "    }\n",
       "\n",
       "    .dataframe tbody tr th {\n",
       "        vertical-align: top;\n",
       "    }\n",
       "\n",
       "    .dataframe thead th {\n",
       "        text-align: right;\n",
       "    }\n",
       "</style>\n",
       "<table border=\"1\" class=\"dataframe\">\n",
       "  <thead>\n",
       "    <tr style=\"text-align: right;\">\n",
       "      <th></th>\n",
       "      <th>Unnamed: 0</th>\n",
       "      <th>Attribute</th>\n",
       "      <th>Description</th>\n",
       "      <th>Value</th>\n",
       "      <th>Meaning</th>\n",
       "    </tr>\n",
       "  </thead>\n",
       "  <tbody>\n",
       "    <tr>\n",
       "      <th>0</th>\n",
       "      <td>NaN</td>\n",
       "      <td>AGER_TYP</td>\n",
       "      <td>best-ager typology</td>\n",
       "      <td>-1</td>\n",
       "      <td>unknown</td>\n",
       "    </tr>\n",
       "    <tr>\n",
       "      <th>1</th>\n",
       "      <td>NaN</td>\n",
       "      <td>NaN</td>\n",
       "      <td>NaN</td>\n",
       "      <td>0</td>\n",
       "      <td>no classification possible</td>\n",
       "    </tr>\n",
       "    <tr>\n",
       "      <th>2</th>\n",
       "      <td>NaN</td>\n",
       "      <td>NaN</td>\n",
       "      <td>NaN</td>\n",
       "      <td>1</td>\n",
       "      <td>passive elderly</td>\n",
       "    </tr>\n",
       "    <tr>\n",
       "      <th>3</th>\n",
       "      <td>NaN</td>\n",
       "      <td>NaN</td>\n",
       "      <td>NaN</td>\n",
       "      <td>2</td>\n",
       "      <td>cultural elderly</td>\n",
       "    </tr>\n",
       "    <tr>\n",
       "      <th>4</th>\n",
       "      <td>NaN</td>\n",
       "      <td>NaN</td>\n",
       "      <td>NaN</td>\n",
       "      <td>3</td>\n",
       "      <td>experience-driven elderly</td>\n",
       "    </tr>\n",
       "  </tbody>\n",
       "</table>\n",
       "</div>"
      ],
      "text/plain": [
       "   Unnamed: 0 Attribute         Description Value                     Meaning\n",
       "0         NaN  AGER_TYP  best-ager typology    -1                     unknown\n",
       "1         NaN       NaN                 NaN     0  no classification possible\n",
       "2         NaN       NaN                 NaN     1             passive elderly\n",
       "3         NaN       NaN                 NaN     2            cultural elderly\n",
       "4         NaN       NaN                 NaN     3   experience-driven elderly"
      ]
     },
     "execution_count": 15,
     "metadata": {},
     "output_type": "execute_result"
    }
   ],
   "source": [
    "feat_info.head()"
   ]
  },
  {
   "cell_type": "markdown",
   "metadata": {},
   "source": [
    "# Data Wrangling\n",
    "## Todo:\n",
    " - [x] Convert missing values code to Nans\n",
    " - [x] Keep only rows that have the meaning unknown in feat_info\n",
    "     - [x] Distill into list of attribute name and values describing unknown\n",
    " - [x] Make LNR the index"
   ]
  },
  {
   "cell_type": "code",
   "execution_count": 16,
   "metadata": {},
   "outputs": [],
   "source": [
    "demo.set_index(\"LNR\", inplace = True)\n",
    "customers.set_index(\"LNR\", inplace = True)"
   ]
  },
  {
   "cell_type": "code",
   "execution_count": 17,
   "metadata": {},
   "outputs": [],
   "source": [
    "# Get only the rows that show the values for unknown\n",
    "feat_info = feat_info.query(\"Meaning == 'unknown' or Meaning == 'missing'\")\n",
    "#feat_info = feat_info[feat_info[\"Meaning\"] == 'unknown' or feat_info[\"Meaning\"]]"
   ]
  },
  {
   "cell_type": "code",
   "execution_count": 18,
   "metadata": {},
   "outputs": [],
   "source": [
    "# Drop columns that we don't need for the unknown to nan convert\n",
    "feat_info.drop(columns = [\"Unnamed: 0\", \"Description\", \"Meaning\"], inplace = True)\n",
    "# set the attribute as the index\n",
    "feat_info.set_index(\"Attribute\", inplace = True)"
   ]
  },
  {
   "cell_type": "code",
   "execution_count": 19,
   "metadata": {},
   "outputs": [],
   "source": [
    "# convert to list\n",
    "feat_info[\"Value\"] = feat_info[\"Value\"].astype(str)\n",
    "# Save in a column with different name\n",
    "feat_info[\"missing_or_unknown\"] = feat_info[\"Value\"].apply(lambda x: x.split(\",\"))"
   ]
  },
  {
   "cell_type": "code",
   "execution_count": 20,
   "metadata": {},
   "outputs": [],
   "source": [
    "# Drop original column\n",
    "feat_info.drop(columns = [\"Value\"], inplace = True)"
   ]
  },
  {
   "cell_type": "code",
   "execution_count": 21,
   "metadata": {},
   "outputs": [],
   "source": [
    "# Iterates through the columns of demografics\n",
    "for column in demo.columns:\n",
    "    # saves the values as a list which are nan in this colum\n",
    "    try:\n",
    "        null_values = feat_info.loc[str(column), \"missing_or_unknown\"]\n",
    "    except:\n",
    "        # some value coding is missing but -1 alway codes for NaN\"\n",
    "        null_values = [\"-1\"]\n",
    "    for entry in null_values:\n",
    "        # Some columns do not have an indicator for null values,\n",
    "        try:\n",
    "            if (entry != \"\"):\n",
    "                # replaces every null value with an np.nan in the column\n",
    "                demo[column] = demo[column].replace(int(entry), np.nan)\n",
    "            else:\n",
    "                print(\"Entry was an empty string: -{}- (should be empty)\".format(entry))\n",
    "        except:\n",
    "            print(\"Entry {} is not a number.\".format(entry))\n",
    "            demo[column] = demo[column].replace(entry, np.nan)\n",
    "    "
   ]
  },
  {
   "cell_type": "code",
   "execution_count": 22,
   "metadata": {},
   "outputs": [
    {
     "data": {
      "text/html": [
       "<div>\n",
       "<style scoped>\n",
       "    .dataframe tbody tr th:only-of-type {\n",
       "        vertical-align: middle;\n",
       "    }\n",
       "\n",
       "    .dataframe tbody tr th {\n",
       "        vertical-align: top;\n",
       "    }\n",
       "\n",
       "    .dataframe thead th {\n",
       "        text-align: right;\n",
       "    }\n",
       "</style>\n",
       "<table border=\"1\" class=\"dataframe\">\n",
       "  <thead>\n",
       "    <tr style=\"text-align: right;\">\n",
       "      <th></th>\n",
       "      <th>AGER_TYP</th>\n",
       "      <th>AKT_DAT_KL</th>\n",
       "      <th>ALTER_HH</th>\n",
       "      <th>ALTER_KIND1</th>\n",
       "      <th>ALTER_KIND2</th>\n",
       "      <th>ALTER_KIND3</th>\n",
       "      <th>ALTER_KIND4</th>\n",
       "      <th>ALTERSKATEGORIE_FEIN</th>\n",
       "      <th>ANZ_HAUSHALTE_AKTIV</th>\n",
       "      <th>ANZ_HH_TITEL</th>\n",
       "      <th>...</th>\n",
       "      <th>VHN</th>\n",
       "      <th>VK_DHT4A</th>\n",
       "      <th>VK_DISTANZ</th>\n",
       "      <th>VK_ZG11</th>\n",
       "      <th>W_KEIT_KIND_HH</th>\n",
       "      <th>WOHNDAUER_2008</th>\n",
       "      <th>WOHNLAGE</th>\n",
       "      <th>ZABEOTYP</th>\n",
       "      <th>ANREDE_KZ</th>\n",
       "      <th>ALTERSKATEGORIE_GROB</th>\n",
       "    </tr>\n",
       "    <tr>\n",
       "      <th>LNR</th>\n",
       "      <th></th>\n",
       "      <th></th>\n",
       "      <th></th>\n",
       "      <th></th>\n",
       "      <th></th>\n",
       "      <th></th>\n",
       "      <th></th>\n",
       "      <th></th>\n",
       "      <th></th>\n",
       "      <th></th>\n",
       "      <th></th>\n",
       "      <th></th>\n",
       "      <th></th>\n",
       "      <th></th>\n",
       "      <th></th>\n",
       "      <th></th>\n",
       "      <th></th>\n",
       "      <th></th>\n",
       "      <th></th>\n",
       "      <th></th>\n",
       "      <th></th>\n",
       "    </tr>\n",
       "  </thead>\n",
       "  <tbody>\n",
       "    <tr>\n",
       "      <th>910215</th>\n",
       "      <td>NaN</td>\n",
       "      <td>NaN</td>\n",
       "      <td>NaN</td>\n",
       "      <td>NaN</td>\n",
       "      <td>NaN</td>\n",
       "      <td>NaN</td>\n",
       "      <td>NaN</td>\n",
       "      <td>NaN</td>\n",
       "      <td>NaN</td>\n",
       "      <td>NaN</td>\n",
       "      <td>...</td>\n",
       "      <td>NaN</td>\n",
       "      <td>NaN</td>\n",
       "      <td>NaN</td>\n",
       "      <td>NaN</td>\n",
       "      <td>NaN</td>\n",
       "      <td>NaN</td>\n",
       "      <td>NaN</td>\n",
       "      <td>3</td>\n",
       "      <td>1</td>\n",
       "      <td>2</td>\n",
       "    </tr>\n",
       "    <tr>\n",
       "      <th>910220</th>\n",
       "      <td>NaN</td>\n",
       "      <td>9.0</td>\n",
       "      <td>0.0</td>\n",
       "      <td>NaN</td>\n",
       "      <td>NaN</td>\n",
       "      <td>NaN</td>\n",
       "      <td>NaN</td>\n",
       "      <td>21.0</td>\n",
       "      <td>11.0</td>\n",
       "      <td>0.0</td>\n",
       "      <td>...</td>\n",
       "      <td>4.0</td>\n",
       "      <td>8.0</td>\n",
       "      <td>11.0</td>\n",
       "      <td>10.0</td>\n",
       "      <td>3.0</td>\n",
       "      <td>9.0</td>\n",
       "      <td>4.0</td>\n",
       "      <td>5</td>\n",
       "      <td>2</td>\n",
       "      <td>1</td>\n",
       "    </tr>\n",
       "    <tr>\n",
       "      <th>910225</th>\n",
       "      <td>NaN</td>\n",
       "      <td>9.0</td>\n",
       "      <td>17.0</td>\n",
       "      <td>NaN</td>\n",
       "      <td>NaN</td>\n",
       "      <td>NaN</td>\n",
       "      <td>NaN</td>\n",
       "      <td>17.0</td>\n",
       "      <td>10.0</td>\n",
       "      <td>0.0</td>\n",
       "      <td>...</td>\n",
       "      <td>2.0</td>\n",
       "      <td>9.0</td>\n",
       "      <td>9.0</td>\n",
       "      <td>6.0</td>\n",
       "      <td>3.0</td>\n",
       "      <td>9.0</td>\n",
       "      <td>2.0</td>\n",
       "      <td>5</td>\n",
       "      <td>2</td>\n",
       "      <td>3</td>\n",
       "    </tr>\n",
       "    <tr>\n",
       "      <th>910226</th>\n",
       "      <td>2.0</td>\n",
       "      <td>1.0</td>\n",
       "      <td>13.0</td>\n",
       "      <td>NaN</td>\n",
       "      <td>NaN</td>\n",
       "      <td>NaN</td>\n",
       "      <td>NaN</td>\n",
       "      <td>13.0</td>\n",
       "      <td>1.0</td>\n",
       "      <td>0.0</td>\n",
       "      <td>...</td>\n",
       "      <td>0.0</td>\n",
       "      <td>7.0</td>\n",
       "      <td>10.0</td>\n",
       "      <td>11.0</td>\n",
       "      <td>NaN</td>\n",
       "      <td>9.0</td>\n",
       "      <td>7.0</td>\n",
       "      <td>3</td>\n",
       "      <td>2</td>\n",
       "      <td>4</td>\n",
       "    </tr>\n",
       "    <tr>\n",
       "      <th>910241</th>\n",
       "      <td>NaN</td>\n",
       "      <td>1.0</td>\n",
       "      <td>20.0</td>\n",
       "      <td>NaN</td>\n",
       "      <td>NaN</td>\n",
       "      <td>NaN</td>\n",
       "      <td>NaN</td>\n",
       "      <td>14.0</td>\n",
       "      <td>3.0</td>\n",
       "      <td>0.0</td>\n",
       "      <td>...</td>\n",
       "      <td>2.0</td>\n",
       "      <td>3.0</td>\n",
       "      <td>5.0</td>\n",
       "      <td>4.0</td>\n",
       "      <td>2.0</td>\n",
       "      <td>9.0</td>\n",
       "      <td>3.0</td>\n",
       "      <td>4</td>\n",
       "      <td>1</td>\n",
       "      <td>3</td>\n",
       "    </tr>\n",
       "  </tbody>\n",
       "</table>\n",
       "<p>5 rows × 365 columns</p>\n",
       "</div>"
      ],
      "text/plain": [
       "        AGER_TYP  AKT_DAT_KL  ALTER_HH  ALTER_KIND1  ALTER_KIND2  ALTER_KIND3  \\\n",
       "LNR                                                                             \n",
       "910215       NaN         NaN       NaN          NaN          NaN          NaN   \n",
       "910220       NaN         9.0       0.0          NaN          NaN          NaN   \n",
       "910225       NaN         9.0      17.0          NaN          NaN          NaN   \n",
       "910226       2.0         1.0      13.0          NaN          NaN          NaN   \n",
       "910241       NaN         1.0      20.0          NaN          NaN          NaN   \n",
       "\n",
       "        ALTER_KIND4  ALTERSKATEGORIE_FEIN  ANZ_HAUSHALTE_AKTIV  ANZ_HH_TITEL  \\\n",
       "LNR                                                                            \n",
       "910215          NaN                   NaN                  NaN           NaN   \n",
       "910220          NaN                  21.0                 11.0           0.0   \n",
       "910225          NaN                  17.0                 10.0           0.0   \n",
       "910226          NaN                  13.0                  1.0           0.0   \n",
       "910241          NaN                  14.0                  3.0           0.0   \n",
       "\n",
       "        ...  VHN  VK_DHT4A  VK_DISTANZ  VK_ZG11  W_KEIT_KIND_HH  \\\n",
       "LNR     ...                                                       \n",
       "910215  ...  NaN       NaN         NaN      NaN             NaN   \n",
       "910220  ...  4.0       8.0        11.0     10.0             3.0   \n",
       "910225  ...  2.0       9.0         9.0      6.0             3.0   \n",
       "910226  ...  0.0       7.0        10.0     11.0             NaN   \n",
       "910241  ...  2.0       3.0         5.0      4.0             2.0   \n",
       "\n",
       "        WOHNDAUER_2008 WOHNLAGE ZABEOTYP ANREDE_KZ  ALTERSKATEGORIE_GROB  \n",
       "LNR                                                                       \n",
       "910215             NaN      NaN        3         1                     2  \n",
       "910220             9.0      4.0        5         2                     1  \n",
       "910225             9.0      2.0        5         2                     3  \n",
       "910226             9.0      7.0        3         2                     4  \n",
       "910241             9.0      3.0        4         1                     3  \n",
       "\n",
       "[5 rows x 365 columns]"
      ]
     },
     "execution_count": 22,
     "metadata": {},
     "output_type": "execute_result"
    }
   ],
   "source": [
    "demo.head()"
   ]
  },
  {
   "cell_type": "markdown",
   "metadata": {},
   "source": [
    "## Check for missing data in columns"
   ]
  },
  {
   "cell_type": "code",
   "execution_count": 23,
   "metadata": {},
   "outputs": [],
   "source": [
    "# track number of nan values for eacht column:\n",
    "nan_values = []\n",
    "for column in demo.columns:\n",
    "    n_nan = (len(demo[column])- demo[column].count())/len(demo[column])*100\n",
    "    nan_values.append(n_nan)"
   ]
  },
  {
   "cell_type": "code",
   "execution_count": 24,
   "metadata": {},
   "outputs": [
    {
     "data": {
      "image/png": "[encoded data removed]",
      "text/plain": [
       "<Figure size 2160x720 with 1 Axes>"
      ]
     },
     "metadata": {
      "needs_background": "light"
     },
     "output_type": "display_data"
    }
   ],
   "source": [
    "# visualize it\n",
    "n = 0 # range of columns to plot for manual inspection\n",
    "m = 358\n",
    "plt.figure(figsize = (30,10))\n",
    "plt.bar(demo.columns[n:m], nan_values[n:m])\n",
    "plt.xticks(rotation = 70);"
   ]
  },
  {
   "cell_type": "code",
   "execution_count": 25,
   "metadata": {},
   "outputs": [],
   "source": [
    "# removing columns with more than 40% missing data\n",
    "rm_columns = [\"AGER_TYP\", \"ALTER_KIND1\",\"ALTER_KIND2\", \"ALTER_KIND3\", \"ALTER_KIND4\", \"EXTSEL992\", \"KK_KUNDENTYP\"]\n",
    "demo.drop(axis = 1, columns = rm_columns, inplace = True)"
   ]
  },
  {
   "cell_type": "code",
   "execution_count": 26,
   "metadata": {},
   "outputs": [
    {
     "data": {
      "text/plain": [
       "358"
      ]
     },
     "execution_count": 26,
     "metadata": {},
     "output_type": "execute_result"
    }
   ],
   "source": [
    "# checking:\n",
    "len(demo.columns)"
   ]
  },
  {
   "cell_type": "markdown",
   "metadata": {},
   "source": [
    "## Check for missing data in the rows\n",
    "To make a decision regarding the cells that still have missing data in them, I will split the dataset in two subsets. One subset will have little missing data and the other one all the rows with missing data. If the distribution of the column values is similar enough I will leave the missing data in. Otherwisen I will only work on the subset of the rows with little missing data."
   ]
  },
  {
   "cell_type": "code",
   "execution_count": 27,
   "metadata": {},
   "outputs": [],
   "source": [
    "# histogram of how much data is missing in each row\n",
    "demo[\"missing\"] = demo.apply(lambda x: (demo.shape[1] - x.count()), axis = 1)"
   ]
  },
  {
   "cell_type": "code",
   "execution_count": 28,
   "metadata": {},
   "outputs": [
    {
     "data": {
      "text/plain": [
       "<AxesSubplot:ylabel='Frequency'>"
      ]
     },
     "execution_count": 28,
     "metadata": {},
     "output_type": "execute_result"
    },
    {
     "data": {
      "image/png": "[encoded data removed]",
      "text/plain": [
       "<Figure size 432x288 with 1 Axes>"
      ]
     },
     "metadata": {
      "needs_background": "light"
     },
     "output_type": "display_data"
    }
   ],
   "source": [
    "demo[\"missing\"].plot.hist()"
   ]
  },
  {
   "cell_type": "code",
   "execution_count": 29,
   "metadata": {},
   "outputs": [],
   "source": [
    "# dividing data in two subsets:\n",
    "demo_full = demo.query(\"missing < 20\")\n",
    "demo_miss = demo.query(\"missing >= 20\")"
   ]
  },
  {
   "cell_type": "code",
   "execution_count": 30,
   "metadata": {},
   "outputs": [],
   "source": [
    "# function to compare distribution values of a column\n",
    "def plot_comparison(column):\n",
    "    plt.figure(figsize = (15,5))\n",
    "    plt.subplot(1,2,1)\n",
    "    sns.countplot(x=demo_full[column], color = \"grey\")\n",
    "    plt.xlabel(\"No missing data\")\n",
    "    plt.title(column)\n",
    "    plt.subplot(1,2,2)\n",
    "    sns.countplot(x=demo_miss[column], color = \"grey\")\n",
    "    plt.xlabel(\"Missing data\")\n",
    "    plt.title(column);"
   ]
  },
  {
   "cell_type": "code",
   "execution_count": 31,
   "metadata": {},
   "outputs": [
    {
     "data": {
      "image/png": "[encoded data removed]",
      "text/plain": [
       "<Figure size 1080x360 with 2 Axes>"
      ]
     },
     "metadata": {
      "needs_background": "light"
     },
     "output_type": "display_data"
    }
   ],
   "source": [
    "plot_comparison(demo.columns[0])"
   ]
  },
  {
   "cell_type": "code",
   "execution_count": 32,
   "metadata": {},
   "outputs": [
    {
     "data": {
      "image/png": "[encoded data removed]",
      "text/plain": [
       "<Figure size 1080x360 with 2 Axes>"
      ]
     },
     "metadata": {
      "needs_background": "light"
     },
     "output_type": "display_data"
    }
   ],
   "source": [
    "plot_comparison(demo.columns[10])"
   ]
  },
  {
   "cell_type": "code",
   "execution_count": 33,
   "metadata": {},
   "outputs": [
    {
     "data": {
      "image/png": "[encoded data removed]",
      "text/plain": [
       "<Figure size 1080x360 with 2 Axes>"
      ]
     },
     "metadata": {
      "needs_background": "light"
     },
     "output_type": "display_data"
    }
   ],
   "source": [
    "plot_comparison(demo.columns[20])"
   ]
  },
  {
   "cell_type": "code",
   "execution_count": 34,
   "metadata": {},
   "outputs": [
    {
     "data": {
      "image/png": "[encoded data removed]",
      "text/plain": [
       "<Figure size 1080x360 with 2 Axes>"
      ]
     },
     "metadata": {
      "needs_background": "light"
     },
     "output_type": "display_data"
    }
   ],
   "source": [
    "plot_comparison(demo.columns[60])"
   ]
  },
  {
   "cell_type": "code",
   "execution_count": 35,
   "metadata": {},
   "outputs": [
    {
     "data": {
      "image/png": "[encoded data removed]",
      "text/plain": [
       "<Figure size 1080x360 with 2 Axes>"
      ]
     },
     "metadata": {
      "needs_background": "light"
     },
     "output_type": "display_data"
    }
   ],
   "source": [
    "plot_comparison(demo.columns[240])"
   ]
  },
  {
   "cell_type": "code",
   "execution_count": 36,
   "metadata": {},
   "outputs": [
    {
     "data": {
      "image/png": "[encoded data removed]",
      "text/plain": [
       "<Figure size 1080x360 with 2 Axes>"
      ]
     },
     "metadata": {
      "needs_background": "light"
     },
     "output_type": "display_data"
    }
   ],
   "source": [
    "plot_comparison(demo.columns[300])"
   ]
  },
  {
   "cell_type": "code",
   "execution_count": 37,
   "metadata": {},
   "outputs": [
    {
     "name": "stdout",
     "output_type": "stream",
     "text": [
      "732136\n",
      "159085\n"
     ]
    }
   ],
   "source": [
    "print(len(demo_full))\n",
    "print(len(demo_miss))"
   ]
  },
  {
   "cell_type": "markdown",
   "metadata": {},
   "source": [
    "### Decision:\n",
    "Some columns like \"Lebensphase_grob\" or \"CJT_typ_5\" have very different distributions. Since the dataset with very little missing data still has a lot of rows (751,331) I will discard the subset with missing values."
   ]
  },
  {
   "cell_type": "code",
   "execution_count": 38,
   "metadata": {},
   "outputs": [
    {
     "data": {
      "text/html": [
       "<div>\n",
       "<style scoped>\n",
       "    .dataframe tbody tr th:only-of-type {\n",
       "        vertical-align: middle;\n",
       "    }\n",
       "\n",
       "    .dataframe tbody tr th {\n",
       "        vertical-align: top;\n",
       "    }\n",
       "\n",
       "    .dataframe thead th {\n",
       "        text-align: right;\n",
       "    }\n",
       "</style>\n",
       "<table border=\"1\" class=\"dataframe\">\n",
       "  <thead>\n",
       "    <tr style=\"text-align: right;\">\n",
       "      <th></th>\n",
       "      <th>missing_or_unknown</th>\n",
       "    </tr>\n",
       "    <tr>\n",
       "      <th>Attribute</th>\n",
       "      <th></th>\n",
       "    </tr>\n",
       "  </thead>\n",
       "  <tbody>\n",
       "    <tr>\n",
       "      <th>AGER_TYP</th>\n",
       "      <td>[-1]</td>\n",
       "    </tr>\n",
       "    <tr>\n",
       "      <th>ALTERSKATEGORIE_GROB</th>\n",
       "      <td>[-1,  0]</td>\n",
       "    </tr>\n",
       "    <tr>\n",
       "      <th>ANREDE_KZ</th>\n",
       "      <td>[-1,  0]</td>\n",
       "    </tr>\n",
       "    <tr>\n",
       "      <th>BALLRAUM</th>\n",
       "      <td>[-1]</td>\n",
       "    </tr>\n",
       "    <tr>\n",
       "      <th>BIP_FLAG</th>\n",
       "      <td>[-1]</td>\n",
       "    </tr>\n",
       "  </tbody>\n",
       "</table>\n",
       "</div>"
      ],
      "text/plain": [
       "                     missing_or_unknown\n",
       "Attribute                              \n",
       "AGER_TYP                           [-1]\n",
       "ALTERSKATEGORIE_GROB           [-1,  0]\n",
       "ANREDE_KZ                      [-1,  0]\n",
       "BALLRAUM                           [-1]\n",
       "BIP_FLAG                           [-1]"
      ]
     },
     "execution_count": 38,
     "metadata": {},
     "output_type": "execute_result"
    }
   ],
   "source": [
    "feat_info.head()"
   ]
  },
  {
   "cell_type": "markdown",
   "metadata": {},
   "source": [
    "# Re-encode features\n",
    "From the inspection of DIAS Attributes - Values it seems that almost all values are of categorical sometimes ordinal nature. After checking for numeric values, I will create dummies for the categorical data"
   ]
  },
  {
   "cell_type": "code",
   "execution_count": 39,
   "metadata": {},
   "outputs": [
    {
     "name": "stdout",
     "output_type": "stream",
     "text": [
      "ALTERSKATEGORIE_FEIN 26 [21. 17. 13.]\n",
      "ANZ_HAUSHALTE_AKTIV 284 [11. 10.  1.]\n",
      "ANZ_PERSONEN 27 [2. 1. 0.]\n",
      "ANZ_STATISTISCHE_HAUSHALTE 254 [12.  7.  2.]\n",
      "CAMEO_DEU_2015 45 ['8A' '4C' '2A']\n",
      "CAMEO_INTL_2015 43 [51.0 24.0 12.0]\n",
      "D19_LETZTER_KAUF_BRANCHE 35 [nan 'D19_UNBEKANNT' 'D19_SCHUHE']\n",
      "EINGEFUEGT_AM 2813 ['1992-02-10 00:00:00' '1992-02-12 00:00:00' '1997-04-21 00:00:00']\n",
      "EINGEZOGENAM_HH_JAHR 37 [2004. 2000. 1998.]\n",
      "GEBURTSJAHR 116 [1996 1979 1957]\n",
      "KBA13_ANZAHL_PKW 1261 [963. 712. 596.]\n",
      "LP_LEBENSPHASE_FEIN 41 [21.  3.  0.]\n",
      "VERDICHTUNGSRAUM 46 [ 0.  1. 35.]\n"
     ]
    }
   ],
   "source": [
    "for column in demo_full:\n",
    "    if demo_full[column].nunique() > 22:\n",
    "        print(column, demo_full[column].nunique(), demo_full[column].unique()[:3])"
   ]
  },
  {
   "cell_type": "code",
   "execution_count": 40,
   "metadata": {},
   "outputs": [],
   "source": [
    "numeric_values = [\"ANZ_HAUSHALTE_AKTIV\", \"ANZ_HH_TITEL\", \"ANZ_PERSONEN\", \"ANZ_TITEL\", \"KBA13_ANZAHL_PKW\"]\n",
    "drop_cols = [\"EINGEFUEGT_AM\", \"missing\"]"
   ]
  },
  {
   "cell_type": "code",
   "execution_count": 41,
   "metadata": {},
   "outputs": [
    {
     "name": "stderr",
     "output_type": "stream",
     "text": [
      "/Users/jj/Documents/udacity/venv/lib/python3.8/site-packages/pandas/core/frame.py:4163: SettingWithCopyWarning: \n",
      "A value is trying to be set on a copy of a slice from a DataFrame\n",
      "\n",
      "See the caveats in the documentation: https://pandas.pydata.org/pandas-docs/stable/user_guide/indexing.html#returning-a-view-versus-a-copy\n",
      "  return super().drop(\n"
     ]
    }
   ],
   "source": [
    "demo_full.drop(columns = drop_cols, inplace = True)"
   ]
  },
  {
   "cell_type": "code",
   "execution_count": 42,
   "metadata": {},
   "outputs": [],
   "source": [
    "# encode all columns except the numeric ones\n",
    "dummy_cols = [col for col in demo_full.columns if col not in numeric_values]"
   ]
  },
  {
   "cell_type": "code",
   "execution_count": 43,
   "metadata": {},
   "outputs": [
    {
     "name": "stdout",
     "output_type": "stream",
     "text": [
      "(732136, 357)\n"
     ]
    }
   ],
   "source": [
    "print(demo_full.shape)\n",
    "demo_dum = pd.get_dummies(demo_full, columns = dummy_cols, drop_first = True, dummy_na = True)"
   ]
  },
  {
   "cell_type": "code",
   "execution_count": 44,
   "metadata": {},
   "outputs": [
    {
     "data": {
      "text/plain": [
       "(732136, 2720)"
      ]
     },
     "execution_count": 44,
     "metadata": {},
     "output_type": "execute_result"
    }
   ],
   "source": [
    "demo_dum.shape"
   ]
  },
  {
   "cell_type": "code",
   "execution_count": 45,
   "metadata": {},
   "outputs": [
    {
     "data": {
      "text/html": [
       "<div>\n",
       "<style scoped>\n",
       "    .dataframe tbody tr th:only-of-type {\n",
       "        vertical-align: middle;\n",
       "    }\n",
       "\n",
       "    .dataframe tbody tr th {\n",
       "        vertical-align: top;\n",
       "    }\n",
       "\n",
       "    .dataframe thead th {\n",
       "        text-align: right;\n",
       "    }\n",
       "</style>\n",
       "<table border=\"1\" class=\"dataframe\">\n",
       "  <thead>\n",
       "    <tr style=\"text-align: right;\">\n",
       "      <th></th>\n",
       "      <th>ANZ_HAUSHALTE_AKTIV</th>\n",
       "      <th>ANZ_HH_TITEL</th>\n",
       "      <th>ANZ_PERSONEN</th>\n",
       "      <th>ANZ_TITEL</th>\n",
       "      <th>KBA13_ANZAHL_PKW</th>\n",
       "      <th>AKT_DAT_KL_2.0</th>\n",
       "      <th>AKT_DAT_KL_3.0</th>\n",
       "      <th>AKT_DAT_KL_4.0</th>\n",
       "      <th>AKT_DAT_KL_5.0</th>\n",
       "      <th>AKT_DAT_KL_6.0</th>\n",
       "      <th>...</th>\n",
       "      <th>ZABEOTYP_5.0</th>\n",
       "      <th>ZABEOTYP_6.0</th>\n",
       "      <th>ZABEOTYP_nan</th>\n",
       "      <th>ANREDE_KZ_2.0</th>\n",
       "      <th>ANREDE_KZ_nan</th>\n",
       "      <th>ALTERSKATEGORIE_GROB_2.0</th>\n",
       "      <th>ALTERSKATEGORIE_GROB_3.0</th>\n",
       "      <th>ALTERSKATEGORIE_GROB_4.0</th>\n",
       "      <th>ALTERSKATEGORIE_GROB_9.0</th>\n",
       "      <th>ALTERSKATEGORIE_GROB_nan</th>\n",
       "    </tr>\n",
       "    <tr>\n",
       "      <th>LNR</th>\n",
       "      <th></th>\n",
       "      <th></th>\n",
       "      <th></th>\n",
       "      <th></th>\n",
       "      <th></th>\n",
       "      <th></th>\n",
       "      <th></th>\n",
       "      <th></th>\n",
       "      <th></th>\n",
       "      <th></th>\n",
       "      <th></th>\n",
       "      <th></th>\n",
       "      <th></th>\n",
       "      <th></th>\n",
       "      <th></th>\n",
       "      <th></th>\n",
       "      <th></th>\n",
       "      <th></th>\n",
       "      <th></th>\n",
       "      <th></th>\n",
       "      <th></th>\n",
       "    </tr>\n",
       "  </thead>\n",
       "  <tbody>\n",
       "    <tr>\n",
       "      <th>910220</th>\n",
       "      <td>11.0</td>\n",
       "      <td>0.0</td>\n",
       "      <td>2.0</td>\n",
       "      <td>0.0</td>\n",
       "      <td>963.0</td>\n",
       "      <td>0</td>\n",
       "      <td>0</td>\n",
       "      <td>0</td>\n",
       "      <td>0</td>\n",
       "      <td>0</td>\n",
       "      <td>...</td>\n",
       "      <td>1</td>\n",
       "      <td>0</td>\n",
       "      <td>0</td>\n",
       "      <td>1</td>\n",
       "      <td>0</td>\n",
       "      <td>0</td>\n",
       "      <td>0</td>\n",
       "      <td>0</td>\n",
       "      <td>0</td>\n",
       "      <td>0</td>\n",
       "    </tr>\n",
       "    <tr>\n",
       "      <th>910225</th>\n",
       "      <td>10.0</td>\n",
       "      <td>0.0</td>\n",
       "      <td>1.0</td>\n",
       "      <td>0.0</td>\n",
       "      <td>712.0</td>\n",
       "      <td>0</td>\n",
       "      <td>0</td>\n",
       "      <td>0</td>\n",
       "      <td>0</td>\n",
       "      <td>0</td>\n",
       "      <td>...</td>\n",
       "      <td>1</td>\n",
       "      <td>0</td>\n",
       "      <td>0</td>\n",
       "      <td>1</td>\n",
       "      <td>0</td>\n",
       "      <td>0</td>\n",
       "      <td>1</td>\n",
       "      <td>0</td>\n",
       "      <td>0</td>\n",
       "      <td>0</td>\n",
       "    </tr>\n",
       "    <tr>\n",
       "      <th>910226</th>\n",
       "      <td>1.0</td>\n",
       "      <td>0.0</td>\n",
       "      <td>0.0</td>\n",
       "      <td>0.0</td>\n",
       "      <td>596.0</td>\n",
       "      <td>0</td>\n",
       "      <td>0</td>\n",
       "      <td>0</td>\n",
       "      <td>0</td>\n",
       "      <td>0</td>\n",
       "      <td>...</td>\n",
       "      <td>0</td>\n",
       "      <td>0</td>\n",
       "      <td>0</td>\n",
       "      <td>1</td>\n",
       "      <td>0</td>\n",
       "      <td>0</td>\n",
       "      <td>0</td>\n",
       "      <td>1</td>\n",
       "      <td>0</td>\n",
       "      <td>0</td>\n",
       "    </tr>\n",
       "    <tr>\n",
       "      <th>910241</th>\n",
       "      <td>3.0</td>\n",
       "      <td>0.0</td>\n",
       "      <td>4.0</td>\n",
       "      <td>0.0</td>\n",
       "      <td>435.0</td>\n",
       "      <td>0</td>\n",
       "      <td>0</td>\n",
       "      <td>0</td>\n",
       "      <td>0</td>\n",
       "      <td>0</td>\n",
       "      <td>...</td>\n",
       "      <td>0</td>\n",
       "      <td>0</td>\n",
       "      <td>0</td>\n",
       "      <td>0</td>\n",
       "      <td>0</td>\n",
       "      <td>0</td>\n",
       "      <td>1</td>\n",
       "      <td>0</td>\n",
       "      <td>0</td>\n",
       "      <td>0</td>\n",
       "    </tr>\n",
       "    <tr>\n",
       "      <th>910244</th>\n",
       "      <td>5.0</td>\n",
       "      <td>0.0</td>\n",
       "      <td>1.0</td>\n",
       "      <td>0.0</td>\n",
       "      <td>1300.0</td>\n",
       "      <td>0</td>\n",
       "      <td>0</td>\n",
       "      <td>0</td>\n",
       "      <td>0</td>\n",
       "      <td>0</td>\n",
       "      <td>...</td>\n",
       "      <td>0</td>\n",
       "      <td>0</td>\n",
       "      <td>0</td>\n",
       "      <td>1</td>\n",
       "      <td>0</td>\n",
       "      <td>0</td>\n",
       "      <td>0</td>\n",
       "      <td>0</td>\n",
       "      <td>0</td>\n",
       "      <td>0</td>\n",
       "    </tr>\n",
       "  </tbody>\n",
       "</table>\n",
       "<p>5 rows × 2720 columns</p>\n",
       "</div>"
      ],
      "text/plain": [
       "        ANZ_HAUSHALTE_AKTIV  ANZ_HH_TITEL  ANZ_PERSONEN  ANZ_TITEL  \\\n",
       "LNR                                                                  \n",
       "910220                 11.0           0.0           2.0        0.0   \n",
       "910225                 10.0           0.0           1.0        0.0   \n",
       "910226                  1.0           0.0           0.0        0.0   \n",
       "910241                  3.0           0.0           4.0        0.0   \n",
       "910244                  5.0           0.0           1.0        0.0   \n",
       "\n",
       "        KBA13_ANZAHL_PKW  AKT_DAT_KL_2.0  AKT_DAT_KL_3.0  AKT_DAT_KL_4.0  \\\n",
       "LNR                                                                        \n",
       "910220             963.0               0               0               0   \n",
       "910225             712.0               0               0               0   \n",
       "910226             596.0               0               0               0   \n",
       "910241             435.0               0               0               0   \n",
       "910244            1300.0               0               0               0   \n",
       "\n",
       "        AKT_DAT_KL_5.0  AKT_DAT_KL_6.0  ...  ZABEOTYP_5.0  ZABEOTYP_6.0  \\\n",
       "LNR                                     ...                               \n",
       "910220               0               0  ...             1             0   \n",
       "910225               0               0  ...             1             0   \n",
       "910226               0               0  ...             0             0   \n",
       "910241               0               0  ...             0             0   \n",
       "910244               0               0  ...             0             0   \n",
       "\n",
       "        ZABEOTYP_nan  ANREDE_KZ_2.0  ANREDE_KZ_nan  ALTERSKATEGORIE_GROB_2.0  \\\n",
       "LNR                                                                            \n",
       "910220             0              1              0                         0   \n",
       "910225             0              1              0                         0   \n",
       "910226             0              1              0                         0   \n",
       "910241             0              0              0                         0   \n",
       "910244             0              1              0                         0   \n",
       "\n",
       "        ALTERSKATEGORIE_GROB_3.0  ALTERSKATEGORIE_GROB_4.0  \\\n",
       "LNR                                                          \n",
       "910220                         0                         0   \n",
       "910225                         1                         0   \n",
       "910226                         0                         1   \n",
       "910241                         1                         0   \n",
       "910244                         0                         0   \n",
       "\n",
       "        ALTERSKATEGORIE_GROB_9.0  ALTERSKATEGORIE_GROB_nan  \n",
       "LNR                                                         \n",
       "910220                         0                         0  \n",
       "910225                         0                         0  \n",
       "910226                         0                         0  \n",
       "910241                         0                         0  \n",
       "910244                         0                         0  \n",
       "\n",
       "[5 rows x 2720 columns]"
      ]
     },
     "execution_count": 45,
     "metadata": {},
     "output_type": "execute_result"
    }
   ],
   "source": [
    "demo_dum.head()"
   ]
  },
  {
   "cell_type": "markdown",
   "metadata": {},
   "source": [
    "# Create cleaning function"
   ]
  },
  {
   "cell_type": "code",
   "execution_count": 46,
   "metadata": {},
   "outputs": [],
   "source": [
    "def clean_data(dataset):\n",
    "    \"\"\"\n",
    "    Perform feature trimming, re-encoding, and engineering for demographics\n",
    "    data\n",
    "    \n",
    "    INPUT: Demographics DataFrame\n",
    "    OUTPUT: Trimmed and cleaned demographics DataFrame\n",
    "    \"\"\"\n",
    "    import sys\n",
    "    import warnings\n",
    "\n",
    "    if not sys.warnoptions:\n",
    "        warnings.simplefilter(\"ignore\")\n",
    "    df = dataset.copy()\n",
    "    #load the feature info\n",
    "    feat_info = pd.read_excel(\"DIAS Attributes - Values 2017.xlsx\", header = 1)\n",
    "    # set the index\n",
    "    df.set_index(\"LNR\", inplace = True)\n",
    "    \n",
    "    # Get only the rows that show the values for unknown\n",
    "    feat_info = feat_info.query(\"Meaning == 'unknown' or Meaning == 'missing'\")\n",
    "    # Drop columns that we don't need for the unknown to nan convert\n",
    "    feat_info.drop(columns = [\"Unnamed: 0\", \"Description\", \"Meaning\"], inplace = True)\n",
    "    # set the attribute as the index\n",
    "    feat_info.set_index(\"Attribute\", inplace = True)\n",
    "    # convert to list\n",
    "    feat_info[\"Value\"] = feat_info[\"Value\"].astype(str)\n",
    "    # Save in a column with different name\n",
    "    feat_info[\"missing_or_unknown\"] = feat_info[\"Value\"].apply(lambda x: x.split(\",\"))\n",
    "    # Drop original column\n",
    "    feat_info.drop(columns = [\"Value\"], inplace = True)\n",
    "    \n",
    "    ## NaN encoding\n",
    "    # Iterates through the columns of demografics\n",
    "    for column in df.columns:\n",
    "        # saves the values as a list which are nan in this colum\n",
    "        try:\n",
    "            null_values = feat_info.loc[str(column), \"missing_or_unknown\"]\n",
    "        except:\n",
    "            # some value coding is missing but -1 alway codes for NaN\"\n",
    "            null_values = [\"-1\"]\n",
    "        for entry in null_values:\n",
    "            # Some columns do not have an indicator for null values,\n",
    "            try:\n",
    "                if (entry != \"\"):\n",
    "                    # replaces every null value with an np.nan in the column\n",
    "                    df[column] = df[column].replace(int(entry), np.nan)\n",
    "                else:\n",
    "                    print(\"Entry was an empty string: -{}- (should be empty)\".format(entry))\n",
    "            except:\n",
    "                print(\"Entry {} is not a number.\".format(entry))\n",
    "                df[column] = df[column].replace(entry, np.nan)\n",
    "                \n",
    "    # remove columns with too many missing values\n",
    "    rm_columns = [\"AGER_TYP\", \"ALTER_KIND1\",\"ALTER_KIND2\", \"ALTER_KIND3\", \"ALTER_KIND4\", \"EXTSEL992\", \"KK_KUNDENTYP\"]\n",
    "    df.drop(axis = 1, columns = rm_columns, inplace = True)\n",
    "    \n",
    "    # count how many values are missing per row\n",
    "    df[\"missing\"] = df.apply(lambda x: (df.shape[1] - x.count()), axis = 1)\n",
    "    # keep only rows with less than 20 values missing\n",
    "    df_full = df.query(\"missing < 20\")\n",
    "    \n",
    "    \n",
    "    ## one-hot encoding\n",
    "    numeric_values = [\"ANZ_HAUSHALTE_AKTIV\", \"ANZ_HH_TITEL\", \"ANZ_PERSONEN\", \"ANZ_TITEL\", \"KBA13_ANZAHL_PKW\",\"ANZ_KINDER\", \"ANZ_STATISTISCHE_HAUSHALTE\"]\n",
    "    drop_cols = [\"EINGEFUEGT_AM\", \"missing\"]\n",
    "    df_full.drop(columns = drop_cols, inplace = True)\n",
    "    # encode all columns except the numeric ones\n",
    "    dummy_cols = [col for col in df_full.columns if col not in numeric_values]\n",
    "    df_dum = pd.get_dummies(df_full, columns = dummy_cols, drop_first = True, dummy_na = True)\n",
    "    df_dum.dropna(inplace = True)\n",
    "    return df_dum"
   ]
  },
  {
   "cell_type": "markdown",
   "metadata": {},
   "source": [
    "# Feature transformation\n",
    "## Numerical feature scaling"
   ]
  },
  {
   "cell_type": "code",
   "execution_count": 47,
   "metadata": {},
   "outputs": [
    {
     "name": "stderr",
     "output_type": "stream",
     "text": [
      "/Users/jj/Documents/udacity/venv/lib/python3.8/site-packages/IPython/core/interactiveshell.py:3145: DtypeWarning: Columns (18,19) have mixed types.Specify dtype option on import or set low_memory=False.\n",
      "  has_raised = await self.run_ast_nodes(code_ast.body, cell_name,\n"
     ]
    }
   ],
   "source": [
    "# load in the data\n",
    "demo = pd.read_csv('data/Udacity_AZDIAS_052018.csv', sep=';')\n",
    "customers = pd.read_csv('data/Udacity_CUSTOMERS_052018.csv', sep=';')"
   ]
  },
  {
   "cell_type": "code",
   "execution_count": 48,
   "metadata": {},
   "outputs": [
    {
     "data": {
      "text/plain": [
       "(891221, 366)"
      ]
     },
     "execution_count": 48,
     "metadata": {},
     "output_type": "execute_result"
    }
   ],
   "source": [
    "demo.shape"
   ]
  },
  {
   "cell_type": "code",
   "execution_count": 49,
   "metadata": {},
   "outputs": [],
   "source": [
    "clean_df = clean_data(demo)"
   ]
  },
  {
   "cell_type": "code",
   "execution_count": 50,
   "metadata": {},
   "outputs": [
    {
     "data": {
      "text/plain": [
       "(728852, 2458)"
      ]
     },
     "execution_count": 50,
     "metadata": {},
     "output_type": "execute_result"
    }
   ],
   "source": [
    "clean_df.shape"
   ]
  },
  {
   "cell_type": "code",
   "execution_count": 51,
   "metadata": {},
   "outputs": [],
   "source": [
    "df = clean_df.copy()"
   ]
  },
  {
   "cell_type": "code",
   "execution_count": 52,
   "metadata": {},
   "outputs": [],
   "source": [
    "scale_cols = [\"ANZ_HAUSHALTE_AKTIV\", \"ANZ_HH_TITEL\", \"ANZ_PERSONEN\", \"ANZ_TITEL\", \"KBA13_ANZAHL_PKW\",\"ANZ_KINDER\", \"ANZ_STATISTISCHE_HAUSHALTE\"]"
   ]
  },
  {
   "cell_type": "code",
   "execution_count": 53,
   "metadata": {},
   "outputs": [],
   "source": [
    "from sklearn.preprocessing import StandardScaler\n",
    "scaler = StandardScaler()\n",
    "df[scale_cols] = scaler.fit_transform(df[scale_cols])"
   ]
  },
  {
   "cell_type": "code",
   "execution_count": 54,
   "metadata": {},
   "outputs": [
    {
     "data": {
      "text/html": [
       "<div>\n",
       "<style scoped>\n",
       "    .dataframe tbody tr th:only-of-type {\n",
       "        vertical-align: middle;\n",
       "    }\n",
       "\n",
       "    .dataframe tbody tr th {\n",
       "        vertical-align: top;\n",
       "    }\n",
       "\n",
       "    .dataframe thead th {\n",
       "        text-align: right;\n",
       "    }\n",
       "</style>\n",
       "<table border=\"1\" class=\"dataframe\">\n",
       "  <thead>\n",
       "    <tr style=\"text-align: right;\">\n",
       "      <th></th>\n",
       "      <th>ANZ_HAUSHALTE_AKTIV</th>\n",
       "      <th>ANZ_HH_TITEL</th>\n",
       "      <th>ANZ_KINDER</th>\n",
       "      <th>ANZ_PERSONEN</th>\n",
       "      <th>ANZ_STATISTISCHE_HAUSHALTE</th>\n",
       "      <th>ANZ_TITEL</th>\n",
       "      <th>KBA13_ANZAHL_PKW</th>\n",
       "      <th>AKT_DAT_KL_2.0</th>\n",
       "      <th>AKT_DAT_KL_3.0</th>\n",
       "      <th>AKT_DAT_KL_4.0</th>\n",
       "      <th>...</th>\n",
       "      <th>ZABEOTYP_5.0</th>\n",
       "      <th>ZABEOTYP_6.0</th>\n",
       "      <th>ZABEOTYP_nan</th>\n",
       "      <th>ANREDE_KZ_2.0</th>\n",
       "      <th>ANREDE_KZ_nan</th>\n",
       "      <th>ALTERSKATEGORIE_GROB_2.0</th>\n",
       "      <th>ALTERSKATEGORIE_GROB_3.0</th>\n",
       "      <th>ALTERSKATEGORIE_GROB_4.0</th>\n",
       "      <th>ALTERSKATEGORIE_GROB_9.0</th>\n",
       "      <th>ALTERSKATEGORIE_GROB_nan</th>\n",
       "    </tr>\n",
       "    <tr>\n",
       "      <th>LNR</th>\n",
       "      <th></th>\n",
       "      <th></th>\n",
       "      <th></th>\n",
       "      <th></th>\n",
       "      <th></th>\n",
       "      <th></th>\n",
       "      <th></th>\n",
       "      <th></th>\n",
       "      <th></th>\n",
       "      <th></th>\n",
       "      <th></th>\n",
       "      <th></th>\n",
       "      <th></th>\n",
       "      <th></th>\n",
       "      <th></th>\n",
       "      <th></th>\n",
       "      <th></th>\n",
       "      <th></th>\n",
       "      <th></th>\n",
       "      <th></th>\n",
       "      <th></th>\n",
       "    </tr>\n",
       "  </thead>\n",
       "  <tbody>\n",
       "    <tr>\n",
       "      <th>910220</th>\n",
       "      <td>0.183515</td>\n",
       "      <td>-0.125631</td>\n",
       "      <td>-0.299203</td>\n",
       "      <td>0.219258</td>\n",
       "      <td>0.331997</td>\n",
       "      <td>-0.060641</td>\n",
       "      <td>1.023528</td>\n",
       "      <td>0</td>\n",
       "      <td>0</td>\n",
       "      <td>0</td>\n",
       "      <td>...</td>\n",
       "      <td>1</td>\n",
       "      <td>0</td>\n",
       "      <td>0</td>\n",
       "      <td>1</td>\n",
       "      <td>0</td>\n",
       "      <td>0</td>\n",
       "      <td>0</td>\n",
       "      <td>0</td>\n",
       "      <td>0</td>\n",
       "      <td>0</td>\n",
       "    </tr>\n",
       "  </tbody>\n",
       "</table>\n",
       "<p>1 rows × 2458 columns</p>\n",
       "</div>"
      ],
      "text/plain": [
       "        ANZ_HAUSHALTE_AKTIV  ANZ_HH_TITEL  ANZ_KINDER  ANZ_PERSONEN  \\\n",
       "LNR                                                                   \n",
       "910220             0.183515     -0.125631   -0.299203      0.219258   \n",
       "\n",
       "        ANZ_STATISTISCHE_HAUSHALTE  ANZ_TITEL  KBA13_ANZAHL_PKW  \\\n",
       "LNR                                                               \n",
       "910220                    0.331997  -0.060641          1.023528   \n",
       "\n",
       "        AKT_DAT_KL_2.0  AKT_DAT_KL_3.0  AKT_DAT_KL_4.0  ...  ZABEOTYP_5.0  \\\n",
       "LNR                                                     ...                 \n",
       "910220               0               0               0  ...             1   \n",
       "\n",
       "        ZABEOTYP_6.0  ZABEOTYP_nan  ANREDE_KZ_2.0  ANREDE_KZ_nan  \\\n",
       "LNR                                                                \n",
       "910220             0             0              1              0   \n",
       "\n",
       "        ALTERSKATEGORIE_GROB_2.0  ALTERSKATEGORIE_GROB_3.0  \\\n",
       "LNR                                                          \n",
       "910220                         0                         0   \n",
       "\n",
       "        ALTERSKATEGORIE_GROB_4.0  ALTERSKATEGORIE_GROB_9.0  \\\n",
       "LNR                                                          \n",
       "910220                         0                         0   \n",
       "\n",
       "        ALTERSKATEGORIE_GROB_nan  \n",
       "LNR                               \n",
       "910220                         0  \n",
       "\n",
       "[1 rows x 2458 columns]"
      ]
     },
     "execution_count": 54,
     "metadata": {},
     "output_type": "execute_result"
    }
   ],
   "source": [
    "df.head(1)"
   ]
  },
  {
   "cell_type": "markdown",
   "metadata": {},
   "source": [
    "## Dimensionality reduction"
   ]
  },
  {
   "cell_type": "code",
   "execution_count": 55,
   "metadata": {},
   "outputs": [
    {
     "data": {
      "text/plain": [
       "(728852, 2458)"
      ]
     },
     "execution_count": 55,
     "metadata": {},
     "output_type": "execute_result"
    }
   ],
   "source": [
    "df.shape"
   ]
  },
  {
   "cell_type": "code",
   "execution_count": 56,
   "metadata": {},
   "outputs": [],
   "source": [
    "# Apply PCA to the data.\n",
    "from sklearn.decomposition import PCA\n",
    "pca = PCA()"
   ]
  },
  {
   "cell_type": "code",
   "execution_count": 57,
   "metadata": {},
   "outputs": [],
   "source": [
    "df_pca = pca.fit_transform(df)"
   ]
  },
  {
   "cell_type": "code",
   "execution_count": 58,
   "metadata": {},
   "outputs": [
    {
     "name": "stdout",
     "output_type": "stream",
     "text": [
      "90.03 % variance explained with 716 components\n"
     ]
    },
    {
     "data": {
      "image/png": "[encoded data removed]",
      "text/plain": [
       "<Figure size 432x288 with 1 Axes>"
      ]
     },
     "metadata": {
      "needs_background": "light"
     },
     "output_type": "display_data"
    }
   ],
   "source": [
    "\n",
    "# Investigate the variance accounted for by each principal component.\n",
    "cumm_values = []\n",
    "former = 0\n",
    "# variable that makes sure the success print is only printed once\n",
    "first = True\n",
    "for idx,value in enumerate(pca.explained_variance_ratio_):\n",
    "    cumm_values.append(value+former)\n",
    "    former += value\n",
    "    if former >= 0.9 and first:\n",
    "        print(\"{:.2f} % variance explained with {} components\".format(former*100, idx))\n",
    "        first = False\n",
    "plt.plot(cumm_values);\n"
   ]
  },
  {
   "cell_type": "code",
   "execution_count": null,
   "metadata": {},
   "outputs": [],
   "source": [
    "# Re-apply PCA to the data while selecting for number of components to retain.\n",
    "pca = PCA(n_components = 716)\n",
    "df_pca = pca.fit_transform(df)"
   ]
  },
  {
   "cell_type": "code",
   "execution_count": 60,
   "metadata": {},
   "outputs": [
    {
     "data": {
      "text/plain": [
       "(728852, 728)"
      ]
     },
     "execution_count": 60,
     "metadata": {},
     "output_type": "execute_result"
    }
   ],
   "source": [
    "df_pca.shape"
   ]
  },
  {
   "cell_type": "markdown",
   "metadata": {},
   "source": [
    "## Part 1: Customer Segmentation Report\n",
    "\n",
    "The main bulk of your analysis will come in this part of the project. Here, you should use unsupervised learning techniques to describe the relationship between the demographics of the company's existing customers and the general population of Germany. By the end of this part, you should be able to describe parts of the general population that are more likely to be part of the mail-order company's main customer base, and which parts of the general population are less so."
   ]
  },
  {
   "cell_type": "markdown",
   "metadata": {},
   "source": [
    "## Clustering to general population"
   ]
  },
  {
   "cell_type": "code",
   "execution_count": 61,
   "metadata": {},
   "outputs": [],
   "source": [
    "from sklearn.cluster import KMeans"
   ]
  },
  {
   "cell_type": "code",
   "execution_count": 62,
   "metadata": {},
   "outputs": [
    {
     "name": "stdout",
     "output_type": "stream",
     "text": [
      "Fitting kmeans with 2 clusters\n",
      "Calculating the score...\n",
      "Fitting kmeans with 4 clusters\n",
      "Calculating the score...\n",
      "Fitting kmeans with 6 clusters\n",
      "Calculating the score...\n",
      "Fitting kmeans with 8 clusters\n",
      "Calculating the score...\n",
      "Fitting kmeans with 10 clusters\n",
      "Calculating the score...\n",
      "Fitting kmeans with 12 clusters\n",
      "Calculating the score...\n",
      "Fitting kmeans with 14 clusters\n",
      "Calculating the score...\n",
      "Fitting kmeans with 16 clusters\n",
      "Calculating the score...\n",
      "Fitting kmeans with 18 clusters\n",
      "Calculating the score...\n",
      "Fitting kmeans with 20 clusters\n",
      "Calculating the score...\n"
     ]
    }
   ],
   "source": [
    "\n",
    "clusters = [2,4,6,8,10,12,14,16,18,20]\n",
    "\n",
    "# Over a number of different cluster counts...\n",
    "kmeans_score = []\n",
    "for idx,n_cluster in enumerate(clusters):\n",
    "    print(\"Fitting kmeans with {} clusters\".format(n_cluster))\n",
    "    # run k-means clustering on the data and...\n",
    "    kmeans = KMeans(n_clusters=n_cluster, random_state=0).fit(df_pca)\n",
    "    print(\"Calculating the score...\")\n",
    "    # compute the average within-cluster distances.\n",
    "    kmeans_score.append(np.abs(kmeans.score(df_pca)))\n",
    "    \n",
    "    "
   ]
  },
  {
   "cell_type": "code",
   "execution_count": 63,
   "metadata": {},
   "outputs": [
    {
     "data": {
      "text/plain": [
       "[<matplotlib.lines.Line2D at 0x140d271c0>]"
      ]
     },
     "execution_count": 63,
     "metadata": {},
     "output_type": "execute_result"
    },
    {
     "data": {
      "image/png": "[encoded data removed]",
      "text/plain": [
       "<Figure size 432x288 with 1 Axes>"
      ]
     },
     "metadata": {
      "needs_background": "light"
     },
     "output_type": "display_data"
    }
   ],
   "source": [
    "# Investigate the change in within-cluster distance across number of clusters.\n",
    "plt.plot(clusters,kmeans_score)"
   ]
  },
  {
   "cell_type": "code",
   "execution_count": 64,
   "metadata": {},
   "outputs": [],
   "source": [
    "# slight elbow at 12 clusters\n",
    "kmeans = KMeans(n_clusters=12, random_state=0).fit(df_pca)"
   ]
  },
  {
   "cell_type": "code",
   "execution_count": 65,
   "metadata": {},
   "outputs": [],
   "source": [
    "preds = kmeans.predict(df_pca)\n",
    "clean_df[\"cluster\"] = preds"
   ]
  },
  {
   "cell_type": "code",
   "execution_count": null,
   "metadata": {},
   "outputs": [],
   "source": []
  },
  {
   "cell_type": "markdown",
   "metadata": {},
   "source": [
    "## Clustering cutomer data"
   ]
  },
  {
   "cell_type": "code",
   "execution_count": 66,
   "metadata": {},
   "outputs": [],
   "source": [
    "# load the customer data\n",
    "customers = pd.read_csv('data/Udacity_CUSTOMERS_052018.csv', sep=';')"
   ]
  },
  {
   "cell_type": "code",
   "execution_count": 67,
   "metadata": {},
   "outputs": [],
   "source": [
    "# There seem to be more columns in the customer data than in the demographics data\n",
    "customers_red = customers[demo.columns]"
   ]
  },
  {
   "cell_type": "code",
   "execution_count": 68,
   "metadata": {},
   "outputs": [
    {
     "data": {
      "text/plain": [
       "True"
      ]
     },
     "execution_count": 68,
     "metadata": {},
     "output_type": "execute_result"
    }
   ],
   "source": [
    "# make sure all columns are the same\n",
    "(demo.columns == customers_red.columns).all()"
   ]
  },
  {
   "cell_type": "code",
   "execution_count": 69,
   "metadata": {},
   "outputs": [],
   "source": [
    "# wrangle and clean the data in the same format\n",
    "clean_cus = clean_data(customers_red)"
   ]
  },
  {
   "cell_type": "code",
   "execution_count": 70,
   "metadata": {},
   "outputs": [
    {
     "name": "stdout",
     "output_type": "stream",
     "text": [
      "20 columns added and 3 dropped. Try to minimize amount dropped.\n"
     ]
    }
   ],
   "source": [
    "# Make sure the same columns exist after the one-hot encoding\n",
    "# add 0 columns that didn't exist\n",
    "missing_cols = [column for column in clean_df.columns if column not in clean_cus.columns]\n",
    "for col in missing_cols:\n",
    "    clean_cus[col]=0\n",
    "before_drop = len(clean_cus.columns)\n",
    "clean_cus = clean_cus[clean_df.columns]\n",
    "\n",
    "if \"cluster\" in clean_cus.columns:\n",
    "    clean_cus.drop(columns = [\"cluster\"], inplace = True)\n",
    "print(\"{} columns added and {} dropped. Try to minimize amount dropped.\".format(len(missing_cols), before_drop-len(clean_cus.columns)))"
   ]
  },
  {
   "cell_type": "code",
   "execution_count": 71,
   "metadata": {},
   "outputs": [],
   "source": [
    "cus_df = clean_cus.copy()"
   ]
  },
  {
   "cell_type": "code",
   "execution_count": 72,
   "metadata": {},
   "outputs": [],
   "source": [
    "cus_df[scale_cols] = scaler.transform(cus_df[scale_cols])"
   ]
  },
  {
   "cell_type": "code",
   "execution_count": 73,
   "metadata": {},
   "outputs": [],
   "source": [
    "cus_pca = pca.transform(cus_df)"
   ]
  },
  {
   "cell_type": "code",
   "execution_count": 74,
   "metadata": {},
   "outputs": [
    {
     "data": {
      "text/plain": [
       "2458"
      ]
     },
     "execution_count": 74,
     "metadata": {},
     "output_type": "execute_result"
    }
   ],
   "source": [
    "len(clean_cus.columns) "
   ]
  },
  {
   "cell_type": "code",
   "execution_count": 75,
   "metadata": {},
   "outputs": [
    {
     "data": {
      "text/plain": [
       "2459"
      ]
     },
     "execution_count": 75,
     "metadata": {},
     "output_type": "execute_result"
    }
   ],
   "source": [
    "len(clean_df.columns)"
   ]
  },
  {
   "cell_type": "code",
   "execution_count": 76,
   "metadata": {},
   "outputs": [],
   "source": [
    "cus_preds = kmeans.predict(cus_pca)"
   ]
  },
  {
   "cell_type": "code",
   "execution_count": 77,
   "metadata": {},
   "outputs": [
    {
     "data": {
      "text/plain": [
       "129195"
      ]
     },
     "execution_count": 77,
     "metadata": {},
     "output_type": "execute_result"
    }
   ],
   "source": [
    "len(cus_preds)"
   ]
  },
  {
   "cell_type": "code",
   "execution_count": 78,
   "metadata": {},
   "outputs": [],
   "source": [
    "cus_df[\"cluster\"] = cus_preds"
   ]
  },
  {
   "cell_type": "markdown",
   "metadata": {},
   "source": [
    "## Compare customer data to demographics data"
   ]
  },
  {
   "cell_type": "code",
   "execution_count": 79,
   "metadata": {},
   "outputs": [
    {
     "data": {
      "text/plain": [
       "<AxesSubplot:xlabel='cluster', ylabel='count'>"
      ]
     },
     "execution_count": 79,
     "metadata": {},
     "output_type": "execute_result"
    },
    {
     "data": {
      "image/png": "[encoded data removed]",
      "text/plain": [
       "<Figure size 432x288 with 1 Axes>"
      ]
     },
     "metadata": {
      "needs_background": "light"
     },
     "output_type": "display_data"
    }
   ],
   "source": [
    "sns.countplot(x = \"cluster\",data = clean_df, color = \"grey\" )"
   ]
  },
  {
   "cell_type": "code",
   "execution_count": 80,
   "metadata": {},
   "outputs": [
    {
     "data": {
      "text/plain": [
       "<AxesSubplot:xlabel='cluster', ylabel='count'>"
      ]
     },
     "execution_count": 80,
     "metadata": {},
     "output_type": "execute_result"
    },
    {
     "data": {
      "image/png": "[encoded data removed]",
      "text/plain": [
       "<Figure size 432x288 with 1 Axes>"
      ]
     },
     "metadata": {
      "needs_background": "light"
     },
     "output_type": "display_data"
    }
   ],
   "source": [
    "sns.countplot(x = \"cluster\",data = cus_df, color = \"grey\" )"
   ]
  },
  {
   "cell_type": "markdown",
   "metadata": {},
   "source": [
    "### Insights\n",
    "In contrast to the general population of Germany the customers are mainly in cluster 5. A medium amount is in cluster 10 and low amounts in 3, 6 and 9. For aquiring new customers it is recommended to focus on these clusters.\n",
    "## Cluster meaning\n",
    "After clustering on top of dimension reduced data it can be hard to know which features of the original dataset are included. I will investigate in the following"
   ]
  },
  {
   "cell_type": "code",
   "execution_count": 81,
   "metadata": {},
   "outputs": [],
   "source": [
    "# Inversing the pca of the cluster centers\n",
    "cluster_centers = kmeans.cluster_centers_\n",
    "cc_ss = pca.inverse_transform(cluster_centers)"
   ]
  },
  {
   "cell_type": "code",
   "execution_count": 82,
   "metadata": {},
   "outputs": [
    {
     "data": {
      "text/plain": [
       "(12, 2458)"
      ]
     },
     "execution_count": 82,
     "metadata": {},
     "output_type": "execute_result"
    }
   ],
   "source": [
    "cc_ss.shape"
   ]
  },
  {
   "cell_type": "code",
   "execution_count": 83,
   "metadata": {},
   "outputs": [],
   "source": [
    "# label the columns with the cus_df names except the last one which is \"clusters\"\n",
    "cc_org = pd.DataFrame(cc_ss, columns = cus_df.columns[:-1])"
   ]
  },
  {
   "cell_type": "markdown",
   "metadata": {},
   "source": [
    "#### Cluster 5"
   ]
  },
  {
   "cell_type": "code",
   "execution_count": 84,
   "metadata": {},
   "outputs": [
    {
     "data": {
      "text/html": [
       "<div>\n",
       "<style scoped>\n",
       "    .dataframe tbody tr th:only-of-type {\n",
       "        vertical-align: middle;\n",
       "    }\n",
       "\n",
       "    .dataframe tbody tr th {\n",
       "        vertical-align: top;\n",
       "    }\n",
       "\n",
       "    .dataframe thead th {\n",
       "        text-align: right;\n",
       "    }\n",
       "</style>\n",
       "<table border=\"1\" class=\"dataframe\">\n",
       "  <thead>\n",
       "    <tr style=\"text-align: right;\">\n",
       "      <th></th>\n",
       "      <th>5</th>\n",
       "    </tr>\n",
       "  </thead>\n",
       "  <tbody>\n",
       "    <tr>\n",
       "      <th>D19_TELKO_OFFLINE_DATUM_10.0</th>\n",
       "      <td>1.003257</td>\n",
       "    </tr>\n",
       "    <tr>\n",
       "      <th>D19_BANKEN_ONLINE_DATUM_10.0</th>\n",
       "      <td>1.002697</td>\n",
       "    </tr>\n",
       "    <tr>\n",
       "      <th>D19_VERSAND_OFFLINE_DATUM_10.0</th>\n",
       "      <td>1.001749</td>\n",
       "    </tr>\n",
       "    <tr>\n",
       "      <th>D19_GESAMT_ONLINE_DATUM_10.0</th>\n",
       "      <td>1.001113</td>\n",
       "    </tr>\n",
       "    <tr>\n",
       "      <th>D19_VERSI_DATUM_10.0</th>\n",
       "      <td>1.000935</td>\n",
       "    </tr>\n",
       "    <tr>\n",
       "      <th>D19_VERSAND_DATUM_10.0</th>\n",
       "      <td>1.000411</td>\n",
       "    </tr>\n",
       "    <tr>\n",
       "      <th>D19_GESAMT_DATUM_10.0</th>\n",
       "      <td>1.000272</td>\n",
       "    </tr>\n",
       "    <tr>\n",
       "      <th>D19_TELKO_ONLINE_DATUM_10.0</th>\n",
       "      <td>0.999836</td>\n",
       "    </tr>\n",
       "    <tr>\n",
       "      <th>D19_BANKEN_DATUM_10.0</th>\n",
       "      <td>0.999336</td>\n",
       "    </tr>\n",
       "    <tr>\n",
       "      <th>D19_VERSAND_ONLINE_DATUM_10.0</th>\n",
       "      <td>0.999072</td>\n",
       "    </tr>\n",
       "  </tbody>\n",
       "</table>\n",
       "</div>"
      ],
      "text/plain": [
       "                                       5\n",
       "D19_TELKO_OFFLINE_DATUM_10.0    1.003257\n",
       "D19_BANKEN_ONLINE_DATUM_10.0    1.002697\n",
       "D19_VERSAND_OFFLINE_DATUM_10.0  1.001749\n",
       "D19_GESAMT_ONLINE_DATUM_10.0    1.001113\n",
       "D19_VERSI_DATUM_10.0            1.000935\n",
       "D19_VERSAND_DATUM_10.0          1.000411\n",
       "D19_GESAMT_DATUM_10.0           1.000272\n",
       "D19_TELKO_ONLINE_DATUM_10.0     0.999836\n",
       "D19_BANKEN_DATUM_10.0           0.999336\n",
       "D19_VERSAND_ONLINE_DATUM_10.0   0.999072"
      ]
     },
     "execution_count": 84,
     "metadata": {},
     "output_type": "execute_result"
    }
   ],
   "source": [
    "# top 10 positive influential features\n",
    "cc_org.iloc[5:6,:].T.sort_values(by = 5, ascending = False)[:10]"
   ]
  },
  {
   "cell_type": "code",
   "execution_count": 85,
   "metadata": {},
   "outputs": [
    {
     "data": {
      "text/html": [
       "<div>\n",
       "<style scoped>\n",
       "    .dataframe tbody tr th:only-of-type {\n",
       "        vertical-align: middle;\n",
       "    }\n",
       "\n",
       "    .dataframe tbody tr th {\n",
       "        vertical-align: top;\n",
       "    }\n",
       "\n",
       "    .dataframe thead th {\n",
       "        text-align: right;\n",
       "    }\n",
       "</style>\n",
       "<table border=\"1\" class=\"dataframe\">\n",
       "  <thead>\n",
       "    <tr style=\"text-align: right;\">\n",
       "      <th></th>\n",
       "      <th>5</th>\n",
       "    </tr>\n",
       "  </thead>\n",
       "  <tbody>\n",
       "    <tr>\n",
       "      <th>LP_LEBENSPHASE_FEIN_25.0</th>\n",
       "      <td>-0.003836</td>\n",
       "    </tr>\n",
       "    <tr>\n",
       "      <th>LP_LEBENSPHASE_FEIN_16.0</th>\n",
       "      <td>-0.003929</td>\n",
       "    </tr>\n",
       "    <tr>\n",
       "      <th>LP_STATUS_FEIN_8.0</th>\n",
       "      <td>-0.004557</td>\n",
       "    </tr>\n",
       "    <tr>\n",
       "      <th>D19_SOZIALES_5.0</th>\n",
       "      <td>-0.004755</td>\n",
       "    </tr>\n",
       "    <tr>\n",
       "      <th>LP_LEBENSPHASE_GROB_8.0</th>\n",
       "      <td>-0.004989</td>\n",
       "    </tr>\n",
       "    <tr>\n",
       "      <th>LP_LEBENSPHASE_FEIN_30.0</th>\n",
       "      <td>-0.007614</td>\n",
       "    </tr>\n",
       "    <tr>\n",
       "      <th>ANZ_TITEL</th>\n",
       "      <td>-0.009447</td>\n",
       "    </tr>\n",
       "    <tr>\n",
       "      <th>ANZ_KINDER</th>\n",
       "      <td>-0.235046</td>\n",
       "    </tr>\n",
       "    <tr>\n",
       "      <th>ANZ_PERSONEN</th>\n",
       "      <td>-0.499371</td>\n",
       "    </tr>\n",
       "    <tr>\n",
       "      <th>KBA13_ANZAHL_PKW</th>\n",
       "      <td>-0.561701</td>\n",
       "    </tr>\n",
       "  </tbody>\n",
       "</table>\n",
       "</div>"
      ],
      "text/plain": [
       "                                 5\n",
       "LP_LEBENSPHASE_FEIN_25.0 -0.003836\n",
       "LP_LEBENSPHASE_FEIN_16.0 -0.003929\n",
       "LP_STATUS_FEIN_8.0       -0.004557\n",
       "D19_SOZIALES_5.0         -0.004755\n",
       "LP_LEBENSPHASE_GROB_8.0  -0.004989\n",
       "LP_LEBENSPHASE_FEIN_30.0 -0.007614\n",
       "ANZ_TITEL                -0.009447\n",
       "ANZ_KINDER               -0.235046\n",
       "ANZ_PERSONEN             -0.499371\n",
       "KBA13_ANZAHL_PKW         -0.561701"
      ]
     },
     "execution_count": 85,
     "metadata": {},
     "output_type": "execute_result"
    }
   ],
   "source": [
    "# top 10 negative influential features\n",
    "cc_org.iloc[5:6,:].T.sort_values(by = 5, ascending = False)[-10:]"
   ]
  },
  {
   "cell_type": "markdown",
   "metadata": {},
   "source": [
    "#### Cluster 10"
   ]
  },
  {
   "cell_type": "code",
   "execution_count": 86,
   "metadata": {},
   "outputs": [
    {
     "data": {
      "text/html": [
       "<div>\n",
       "<style scoped>\n",
       "    .dataframe tbody tr th:only-of-type {\n",
       "        vertical-align: middle;\n",
       "    }\n",
       "\n",
       "    .dataframe tbody tr th {\n",
       "        vertical-align: top;\n",
       "    }\n",
       "\n",
       "    .dataframe thead th {\n",
       "        text-align: right;\n",
       "    }\n",
       "</style>\n",
       "<table border=\"1\" class=\"dataframe\">\n",
       "  <thead>\n",
       "    <tr style=\"text-align: right;\">\n",
       "      <th></th>\n",
       "      <th>10</th>\n",
       "    </tr>\n",
       "  </thead>\n",
       "  <tbody>\n",
       "    <tr>\n",
       "      <th>TITEL_KZ_nan</th>\n",
       "      <td>0.999013</td>\n",
       "    </tr>\n",
       "    <tr>\n",
       "      <th>D19_VERSI_ONLINE_DATUM_10.0</th>\n",
       "      <td>0.990709</td>\n",
       "    </tr>\n",
       "    <tr>\n",
       "      <th>D19_TELKO_ONLINE_DATUM_10.0</th>\n",
       "      <td>0.985121</td>\n",
       "    </tr>\n",
       "    <tr>\n",
       "      <th>D19_BANKEN_OFFLINE_DATUM_10.0</th>\n",
       "      <td>0.961913</td>\n",
       "    </tr>\n",
       "    <tr>\n",
       "      <th>D19_VERSI_OFFLINE_DATUM_10.0</th>\n",
       "      <td>0.944014</td>\n",
       "    </tr>\n",
       "    <tr>\n",
       "      <th>DSL_FLAG_1.0</th>\n",
       "      <td>0.937622</td>\n",
       "    </tr>\n",
       "    <tr>\n",
       "      <th>KBA13_KRSSEG_KLEIN_2.0</th>\n",
       "      <td>0.904220</td>\n",
       "    </tr>\n",
       "    <tr>\n",
       "      <th>D19_TELKO_OFFLINE_DATUM_10.0</th>\n",
       "      <td>0.875073</td>\n",
       "    </tr>\n",
       "    <tr>\n",
       "      <th>KBA05_KRSOBER_2.0</th>\n",
       "      <td>0.859872</td>\n",
       "    </tr>\n",
       "    <tr>\n",
       "      <th>KBA05_KRSVAN_2.0</th>\n",
       "      <td>0.821980</td>\n",
       "    </tr>\n",
       "  </tbody>\n",
       "</table>\n",
       "</div>"
      ],
      "text/plain": [
       "                                     10\n",
       "TITEL_KZ_nan                   0.999013\n",
       "D19_VERSI_ONLINE_DATUM_10.0    0.990709\n",
       "D19_TELKO_ONLINE_DATUM_10.0    0.985121\n",
       "D19_BANKEN_OFFLINE_DATUM_10.0  0.961913\n",
       "D19_VERSI_OFFLINE_DATUM_10.0   0.944014\n",
       "DSL_FLAG_1.0                   0.937622\n",
       "KBA13_KRSSEG_KLEIN_2.0         0.904220\n",
       "D19_TELKO_OFFLINE_DATUM_10.0   0.875073\n",
       "KBA05_KRSOBER_2.0              0.859872\n",
       "KBA05_KRSVAN_2.0               0.821980"
      ]
     },
     "execution_count": 86,
     "metadata": {},
     "output_type": "execute_result"
    }
   ],
   "source": [
    "# top 10 positive influential features\n",
    "cc_org.iloc[10:11,:].T.sort_values(by = 10, ascending = False)[:10]"
   ]
  },
  {
   "cell_type": "code",
   "execution_count": 87,
   "metadata": {},
   "outputs": [
    {
     "data": {
      "text/html": [
       "<div>\n",
       "<style scoped>\n",
       "    .dataframe tbody tr th:only-of-type {\n",
       "        vertical-align: middle;\n",
       "    }\n",
       "\n",
       "    .dataframe tbody tr th {\n",
       "        vertical-align: top;\n",
       "    }\n",
       "\n",
       "    .dataframe thead th {\n",
       "        text-align: right;\n",
       "    }\n",
       "</style>\n",
       "<table border=\"1\" class=\"dataframe\">\n",
       "  <thead>\n",
       "    <tr style=\"text-align: right;\">\n",
       "      <th></th>\n",
       "      <th>10</th>\n",
       "    </tr>\n",
       "  </thead>\n",
       "  <tbody>\n",
       "    <tr>\n",
       "      <th>VERDICHTUNGSRAUM_5.0</th>\n",
       "      <td>-0.002944</td>\n",
       "    </tr>\n",
       "    <tr>\n",
       "      <th>LP_LEBENSPHASE_FEIN_6.0</th>\n",
       "      <td>-0.004115</td>\n",
       "    </tr>\n",
       "    <tr>\n",
       "      <th>VERDICHTUNGSRAUM_3.0</th>\n",
       "      <td>-0.005216</td>\n",
       "    </tr>\n",
       "    <tr>\n",
       "      <th>VERDICHTUNGSRAUM_4.0</th>\n",
       "      <td>-0.006548</td>\n",
       "    </tr>\n",
       "    <tr>\n",
       "      <th>ANZ_TITEL</th>\n",
       "      <td>-0.034155</td>\n",
       "    </tr>\n",
       "    <tr>\n",
       "      <th>ANZ_KINDER</th>\n",
       "      <td>-0.060428</td>\n",
       "    </tr>\n",
       "    <tr>\n",
       "      <th>ANZ_HH_TITEL</th>\n",
       "      <td>-0.113205</td>\n",
       "    </tr>\n",
       "    <tr>\n",
       "      <th>ANZ_STATISTISCHE_HAUSHALTE</th>\n",
       "      <td>-0.400346</td>\n",
       "    </tr>\n",
       "    <tr>\n",
       "      <th>ANZ_HAUSHALTE_AKTIV</th>\n",
       "      <td>-0.405617</td>\n",
       "    </tr>\n",
       "    <tr>\n",
       "      <th>KBA13_ANZAHL_PKW</th>\n",
       "      <td>-0.699368</td>\n",
       "    </tr>\n",
       "  </tbody>\n",
       "</table>\n",
       "</div>"
      ],
      "text/plain": [
       "                                  10\n",
       "VERDICHTUNGSRAUM_5.0       -0.002944\n",
       "LP_LEBENSPHASE_FEIN_6.0    -0.004115\n",
       "VERDICHTUNGSRAUM_3.0       -0.005216\n",
       "VERDICHTUNGSRAUM_4.0       -0.006548\n",
       "ANZ_TITEL                  -0.034155\n",
       "ANZ_KINDER                 -0.060428\n",
       "ANZ_HH_TITEL               -0.113205\n",
       "ANZ_STATISTISCHE_HAUSHALTE -0.400346\n",
       "ANZ_HAUSHALTE_AKTIV        -0.405617\n",
       "KBA13_ANZAHL_PKW           -0.699368"
      ]
     },
     "execution_count": 87,
     "metadata": {},
     "output_type": "execute_result"
    }
   ],
   "source": [
    "# top 10 negative influential features\n",
    "cc_org.iloc[10:11,:].T.sort_values(by = 10, ascending = False)[-10:]"
   ]
  },
  {
   "cell_type": "markdown",
   "metadata": {},
   "source": [
    "## Part 2: Supervised Learning Model\n",
    "\n",
    "Now that you've found which parts of the population are more likely to be customers of the mail-order company, it's time to build a prediction model. Each of the rows in the \"MAILOUT\" data files represents an individual that was targeted for a mailout campaign. Ideally, we should be able to use the demographic information from each individual to decide whether or not it will be worth it to include that person in the campaign.\n",
    "\n",
    "The \"MAILOUT\" data has been split into two approximately equal parts, each with almost 43 000 data rows. In this part, you can verify your model with the \"TRAIN\" partition, which includes a column, \"RESPONSE\", that states whether or not a person became a customer of the company following the campaign. In the next part, you'll need to create predictions on the \"TEST\" partition, where the \"RESPONSE\" column has been withheld."
   ]
  },
  {
   "cell_type": "code",
   "execution_count": 88,
   "metadata": {},
   "outputs": [],
   "source": [
    "mailout_train = pd.read_csv('data/Udacity_MAILOUT_052018_TRAIN.csv', sep=';')"
   ]
  },
  {
   "cell_type": "code",
   "execution_count": 89,
   "metadata": {},
   "outputs": [],
   "source": [
    "m_df = mailout_train.copy()"
   ]
  },
  {
   "cell_type": "code",
   "execution_count": 90,
   "metadata": {},
   "outputs": [],
   "source": [
    "m_df_clean = clean_data(m_df)"
   ]
  },
  {
   "cell_type": "code",
   "execution_count": 91,
   "metadata": {},
   "outputs": [
    {
     "data": {
      "text/html": [
       "<div>\n",
       "<style scoped>\n",
       "    .dataframe tbody tr th:only-of-type {\n",
       "        vertical-align: middle;\n",
       "    }\n",
       "\n",
       "    .dataframe tbody tr th {\n",
       "        vertical-align: top;\n",
       "    }\n",
       "\n",
       "    .dataframe thead th {\n",
       "        text-align: right;\n",
       "    }\n",
       "</style>\n",
       "<table border=\"1\" class=\"dataframe\">\n",
       "  <thead>\n",
       "    <tr style=\"text-align: right;\">\n",
       "      <th></th>\n",
       "      <th>ANZ_HAUSHALTE_AKTIV</th>\n",
       "      <th>ANZ_HH_TITEL</th>\n",
       "      <th>ANZ_KINDER</th>\n",
       "      <th>ANZ_PERSONEN</th>\n",
       "      <th>ANZ_STATISTISCHE_HAUSHALTE</th>\n",
       "      <th>ANZ_TITEL</th>\n",
       "      <th>KBA13_ANZAHL_PKW</th>\n",
       "      <th>AKT_DAT_KL_2.0</th>\n",
       "      <th>AKT_DAT_KL_3.0</th>\n",
       "      <th>AKT_DAT_KL_4.0</th>\n",
       "      <th>...</th>\n",
       "      <th>ZABEOTYP_nan</th>\n",
       "      <th>RESPONSE_1.0</th>\n",
       "      <th>RESPONSE_nan</th>\n",
       "      <th>ANREDE_KZ_2.0</th>\n",
       "      <th>ANREDE_KZ_nan</th>\n",
       "      <th>ALTERSKATEGORIE_GROB_2.0</th>\n",
       "      <th>ALTERSKATEGORIE_GROB_3.0</th>\n",
       "      <th>ALTERSKATEGORIE_GROB_4.0</th>\n",
       "      <th>ALTERSKATEGORIE_GROB_9.0</th>\n",
       "      <th>ALTERSKATEGORIE_GROB_nan</th>\n",
       "    </tr>\n",
       "    <tr>\n",
       "      <th>LNR</th>\n",
       "      <th></th>\n",
       "      <th></th>\n",
       "      <th></th>\n",
       "      <th></th>\n",
       "      <th></th>\n",
       "      <th></th>\n",
       "      <th></th>\n",
       "      <th></th>\n",
       "      <th></th>\n",
       "      <th></th>\n",
       "      <th></th>\n",
       "      <th></th>\n",
       "      <th></th>\n",
       "      <th></th>\n",
       "      <th></th>\n",
       "      <th></th>\n",
       "      <th></th>\n",
       "      <th></th>\n",
       "      <th></th>\n",
       "      <th></th>\n",
       "      <th></th>\n",
       "    </tr>\n",
       "  </thead>\n",
       "  <tbody>\n",
       "    <tr>\n",
       "      <th>1763</th>\n",
       "      <td>15.0</td>\n",
       "      <td>0.0</td>\n",
       "      <td>0.0</td>\n",
       "      <td>1.0</td>\n",
       "      <td>13.0</td>\n",
       "      <td>0.0</td>\n",
       "      <td>390.0</td>\n",
       "      <td>0</td>\n",
       "      <td>0</td>\n",
       "      <td>0</td>\n",
       "      <td>...</td>\n",
       "      <td>0</td>\n",
       "      <td>0</td>\n",
       "      <td>0</td>\n",
       "      <td>1</td>\n",
       "      <td>0</td>\n",
       "      <td>0</td>\n",
       "      <td>0</td>\n",
       "      <td>1</td>\n",
       "      <td>0</td>\n",
       "      <td>0</td>\n",
       "    </tr>\n",
       "  </tbody>\n",
       "</table>\n",
       "<p>1 rows × 2429 columns</p>\n",
       "</div>"
      ],
      "text/plain": [
       "      ANZ_HAUSHALTE_AKTIV  ANZ_HH_TITEL  ANZ_KINDER  ANZ_PERSONEN  \\\n",
       "LNR                                                                 \n",
       "1763                 15.0           0.0         0.0           1.0   \n",
       "\n",
       "      ANZ_STATISTISCHE_HAUSHALTE  ANZ_TITEL  KBA13_ANZAHL_PKW  AKT_DAT_KL_2.0  \\\n",
       "LNR                                                                             \n",
       "1763                        13.0        0.0             390.0               0   \n",
       "\n",
       "      AKT_DAT_KL_3.0  AKT_DAT_KL_4.0  ...  ZABEOTYP_nan  RESPONSE_1.0  \\\n",
       "LNR                                   ...                               \n",
       "1763               0               0  ...             0             0   \n",
       "\n",
       "      RESPONSE_nan  ANREDE_KZ_2.0  ANREDE_KZ_nan  ALTERSKATEGORIE_GROB_2.0  \\\n",
       "LNR                                                                          \n",
       "1763             0              1              0                         0   \n",
       "\n",
       "      ALTERSKATEGORIE_GROB_3.0  ALTERSKATEGORIE_GROB_4.0  \\\n",
       "LNR                                                        \n",
       "1763                         0                         1   \n",
       "\n",
       "      ALTERSKATEGORIE_GROB_9.0  ALTERSKATEGORIE_GROB_nan  \n",
       "LNR                                                       \n",
       "1763                         0                         0  \n",
       "\n",
       "[1 rows x 2429 columns]"
      ]
     },
     "execution_count": 91,
     "metadata": {},
     "output_type": "execute_result"
    }
   ],
   "source": [
    "m_df_clean.head(1)"
   ]
  },
  {
   "cell_type": "code",
   "execution_count": 92,
   "metadata": {},
   "outputs": [
    {
     "name": "stdout",
     "output_type": "stream",
     "text": [
      "32 columns added and 1 dropped. Try to minimize amount dropped.\n"
     ]
    }
   ],
   "source": [
    "# Cleaning functions messes up the response value a bit\n",
    "m_df_clean.rename(columns = {\"RESPONSE_1.0\": \"RESPONSE\"}, inplace = True)\n",
    "m_df_clean.drop(columns = [\"RESPONSE_nan\"], inplace = True)\n",
    "\n",
    "# Save the outcome in a variable and drop the column before the dimension reduction\n",
    "response = m_df_clean[\"RESPONSE\"]\n",
    "m_df_clean.drop(columns = [\"RESPONSE\"], inplace = True)\n",
    "\n",
    "# Make sure the same columns exist after the one-hot encoding\n",
    "# add 0 columns that didn't exist\n",
    "missing_cols = [column for column in clean_df.columns if column not in m_df_clean.columns]\n",
    "for col in missing_cols:\n",
    "    m_df_clean[col]=0\n",
    "before_drop = len(m_df_clean.columns)\n",
    "m_df_clean = m_df_clean[clean_df.columns]\n",
    "\n",
    "if \"cluster\" in m_df_clean.columns:\n",
    "    m_df_clean.drop(columns = [\"cluster\"], inplace = True)\n",
    "print(\"{} columns added and {} dropped. Try to minimize amount dropped.\".format(len(missing_cols), before_drop-len(m_df_clean.columns)))"
   ]
  },
  {
   "cell_type": "markdown",
   "metadata": {},
   "source": [
    "#### Now the train dataframe has the same columns as the pca expects."
   ]
  },
  {
   "cell_type": "code",
   "execution_count": 93,
   "metadata": {},
   "outputs": [],
   "source": [
    "# Perform PCA on the train data\n",
    "m_df_pca = pca.transform(m_df_clean)\n",
    "\n",
    "m_df_pca = pd.DataFrame(m_df_pca)\n",
    "\n",
    "m_df_pca[\"cluster\"] = kmeans.predict(m_df_pca)"
   ]
  },
  {
   "cell_type": "code",
   "execution_count": 94,
   "metadata": {},
   "outputs": [],
   "source": [
    "# this is a bit surprising. Our clustering resulted that the existing Arvato customers are mainly in cluster 5. \n",
    "# However in the dataset the people targeted almost all fall in cluster 6. Now maybe our clustering wasn't very good or the wrong people were targeted for the campaign"
   ]
  },
  {
   "cell_type": "code",
   "execution_count": 95,
   "metadata": {},
   "outputs": [
    {
     "data": {
      "text/plain": [
       "<AxesSubplot:>"
      ]
     },
     "execution_count": 95,
     "metadata": {},
     "output_type": "execute_result"
    },
    {
     "data": {
      "image/png": "[encoded data removed]",
      "text/plain": [
       "<Figure size 432x288 with 1 Axes>"
      ]
     },
     "metadata": {
      "needs_background": "light"
     },
     "output_type": "display_data"
    }
   ],
   "source": [
    "m_df_pca.cluster.hist()"
   ]
  },
  {
   "cell_type": "code",
   "execution_count": 96,
   "metadata": {},
   "outputs": [],
   "source": [
    "# since all customers are in the same cluster the column is dropped again\n",
    "m_df_pca.drop(columns = [\"cluster\"], inplace = True )"
   ]
  },
  {
   "cell_type": "code",
   "execution_count": 97,
   "metadata": {},
   "outputs": [],
   "source": [
    "X = m_df_pca\n",
    "y = response"
   ]
  },
  {
   "cell_type": "code",
   "execution_count": 121,
   "metadata": {},
   "outputs": [],
   "source": [
    "# splitting for training and testing\n",
    "X_train, X_test, y_train, y_test = train_test_split(X, y, test_size=0.1, random_state=42)"
   ]
  },
  {
   "cell_type": "markdown",
   "metadata": {},
   "source": [
    "## Random Forest Regressor"
   ]
  },
  {
   "cell_type": "code",
   "execution_count": 99,
   "metadata": {},
   "outputs": [
    {
     "name": "stdout",
     "output_type": "stream",
     "text": [
      "Fitting 5 folds for each of 4 candidates, totalling 20 fits\n",
      "[CV] max_depth=20, n_estimators=20 ...................................\n"
     ]
    },
    {
     "name": "stderr",
     "output_type": "stream",
     "text": [
      "[Parallel(n_jobs=1)]: Using backend SequentialBackend with 1 concurrent workers.\n"
     ]
    },
    {
     "name": "stdout",
     "output_type": "stream",
     "text": [
      "[CV] ....... max_depth=20, n_estimators=20, score=0.479, total= 4.2min\n",
      "[CV] max_depth=20, n_estimators=20 ...................................\n"
     ]
    },
    {
     "name": "stderr",
     "output_type": "stream",
     "text": [
      "[Parallel(n_jobs=1)]: Done   1 out of   1 | elapsed:  4.2min remaining:    0.0s\n"
     ]
    },
    {
     "name": "stdout",
     "output_type": "stream",
     "text": [
      "[CV] ....... max_depth=20, n_estimators=20, score=0.562, total= 4.3min\n",
      "[CV] max_depth=20, n_estimators=20 ...................................\n"
     ]
    },
    {
     "name": "stderr",
     "output_type": "stream",
     "text": [
      "[Parallel(n_jobs=1)]: Done   2 out of   2 | elapsed:  8.5min remaining:    0.0s\n"
     ]
    },
    {
     "name": "stdout",
     "output_type": "stream",
     "text": [
      "[CV] ....... max_depth=20, n_estimators=20, score=0.584, total= 4.3min\n",
      "[CV] max_depth=20, n_estimators=20 ...................................\n"
     ]
    },
    {
     "name": "stderr",
     "output_type": "stream",
     "text": [
      "[Parallel(n_jobs=1)]: Done   3 out of   3 | elapsed: 12.8min remaining:    0.0s\n"
     ]
    },
    {
     "name": "stdout",
     "output_type": "stream",
     "text": [
      "[CV] ....... max_depth=20, n_estimators=20, score=0.516, total= 4.3min\n",
      "[CV] max_depth=20, n_estimators=20 ...................................\n"
     ]
    },
    {
     "name": "stderr",
     "output_type": "stream",
     "text": [
      "[Parallel(n_jobs=1)]: Done   4 out of   4 | elapsed: 17.1min remaining:    0.0s\n"
     ]
    },
    {
     "name": "stdout",
     "output_type": "stream",
     "text": [
      "[CV] ....... max_depth=20, n_estimators=20, score=0.517, total= 4.3min\n",
      "[CV] max_depth=20, n_estimators=80 ...................................\n"
     ]
    },
    {
     "name": "stderr",
     "output_type": "stream",
     "text": [
      "[Parallel(n_jobs=1)]: Done   5 out of   5 | elapsed: 21.4min remaining:    0.0s\n"
     ]
    },
    {
     "name": "stdout",
     "output_type": "stream",
     "text": [
      "[CV] ....... max_depth=20, n_estimators=80, score=0.460, total=17.3min\n",
      "[CV] max_depth=20, n_estimators=80 ...................................\n"
     ]
    },
    {
     "name": "stderr",
     "output_type": "stream",
     "text": [
      "[Parallel(n_jobs=1)]: Done   6 out of   6 | elapsed: 38.7min remaining:    0.0s\n"
     ]
    },
    {
     "name": "stdout",
     "output_type": "stream",
     "text": [
      "[CV] ....... max_depth=20, n_estimators=80, score=0.537, total=17.0min\n",
      "[CV] max_depth=20, n_estimators=80 ...................................\n"
     ]
    },
    {
     "name": "stderr",
     "output_type": "stream",
     "text": [
      "[Parallel(n_jobs=1)]: Done   7 out of   7 | elapsed: 55.7min remaining:    0.0s\n"
     ]
    },
    {
     "name": "stdout",
     "output_type": "stream",
     "text": [
      "[CV] ....... max_depth=20, n_estimators=80, score=0.586, total=17.2min\n",
      "[CV] max_depth=20, n_estimators=80 ...................................\n"
     ]
    },
    {
     "name": "stderr",
     "output_type": "stream",
     "text": [
      "[Parallel(n_jobs=1)]: Done   8 out of   8 | elapsed: 72.9min remaining:    0.0s\n"
     ]
    },
    {
     "name": "stdout",
     "output_type": "stream",
     "text": [
      "[CV] ....... max_depth=20, n_estimators=80, score=0.512, total=16.9min\n",
      "[CV] max_depth=20, n_estimators=80 ...................................\n"
     ]
    },
    {
     "name": "stderr",
     "output_type": "stream",
     "text": [
      "[Parallel(n_jobs=1)]: Done   9 out of   9 | elapsed: 89.9min remaining:    0.0s\n"
     ]
    },
    {
     "name": "stdout",
     "output_type": "stream",
     "text": [
      "[CV] ....... max_depth=20, n_estimators=80, score=0.496, total=17.0min\n",
      "[CV] max_depth=30, n_estimators=20 ...................................\n",
      "[CV] ....... max_depth=30, n_estimators=20, score=0.528, total= 6.2min\n",
      "[CV] max_depth=30, n_estimators=20 ...................................\n",
      "[CV] ....... max_depth=30, n_estimators=20, score=0.587, total= 5.6min\n",
      "[CV] max_depth=30, n_estimators=20 ...................................\n",
      "[CV] ....... max_depth=30, n_estimators=20, score=0.463, total= 5.8min\n",
      "[CV] max_depth=30, n_estimators=20 ...................................\n",
      "[CV] ....... max_depth=30, n_estimators=20, score=0.540, total= 5.6min\n",
      "[CV] max_depth=30, n_estimators=20 ...................................\n",
      "[CV] ....... max_depth=30, n_estimators=20, score=0.475, total= 5.5min\n",
      "[CV] max_depth=30, n_estimators=80 ...................................\n",
      "[CV] ....... max_depth=30, n_estimators=80, score=0.455, total=22.9min\n",
      "[CV] max_depth=30, n_estimators=80 ...................................\n",
      "[CV] ....... max_depth=30, n_estimators=80, score=0.495, total=22.3min\n",
      "[CV] max_depth=30, n_estimators=80 ...................................\n",
      "[CV] ....... max_depth=30, n_estimators=80, score=0.567, total=22.3min\n",
      "[CV] max_depth=30, n_estimators=80 ...................................\n",
      "[CV] ....... max_depth=30, n_estimators=80, score=0.522, total=22.0min\n",
      "[CV] max_depth=30, n_estimators=80 ...................................\n",
      "[CV] ....... max_depth=30, n_estimators=80, score=0.493, total=22.4min\n"
     ]
    },
    {
     "name": "stderr",
     "output_type": "stream",
     "text": [
      "[Parallel(n_jobs=1)]: Done  20 out of  20 | elapsed: 247.5min finished\n"
     ]
    },
    {
     "data": {
      "text/plain": [
       "GridSearchCV(cv=5, estimator=RandomForestRegressor(),\n",
       "             param_grid={'max_depth': [20, 30], 'n_estimators': [20, 80]},\n",
       "             scoring='roc_auc', verbose=10)"
      ]
     },
     "execution_count": 99,
     "metadata": {},
     "output_type": "execute_result"
    }
   ],
   "source": [
    "# set up model\n",
    "reg = RandomForestRegressor()\n",
    "\n",
    "# set up parameters for grid search\n",
    "parameters = {'n_estimators':[20, 80], \n",
    "              'max_depth':[20, 30]}\n",
    "reg = GridSearchCV(reg, parameters, verbose = 10, scoring = \"roc_auc\", cv = 5)\n",
    "reg.fit(X_train, y_train)"
   ]
  },
  {
   "cell_type": "code",
   "execution_count": 125,
   "metadata": {},
   "outputs": [],
   "source": [
    "rfg_test_preds = reg.predict(X_test)"
   ]
  },
  {
   "cell_type": "markdown",
   "metadata": {},
   "source": [
    "#### Judging the results\n",
    "Accuracy would not be a very good score, since we have only few customers that answered and a lot that didn't. (Auccuracy would always be high)\n",
    "The goal is to get as many responses as possible. Therefore we want to correctly predict all customers that respond (True positives) and don't mind if we get a few false positives. We want to minimize false negatives.\n",
    "Recall is therefore the score best to judge the model."
   ]
  },
  {
   "cell_type": "code",
   "execution_count": 126,
   "metadata": {},
   "outputs": [
    {
     "data": {
      "text/plain": [
       "0.5895173685828465"
      ]
     },
     "execution_count": 126,
     "metadata": {},
     "output_type": "execute_result"
    }
   ],
   "source": [
    "roc_auc_score(y_test, rfg_test_preds)"
   ]
  },
  {
   "cell_type": "code",
   "execution_count": 102,
   "metadata": {},
   "outputs": [
    {
     "data": {
      "text/plain": [
       "{'bootstrap': True,\n",
       " 'ccp_alpha': 0.0,\n",
       " 'criterion': 'mse',\n",
       " 'max_depth': 20,\n",
       " 'max_features': 'auto',\n",
       " 'max_leaf_nodes': None,\n",
       " 'max_samples': None,\n",
       " 'min_impurity_decrease': 0.0,\n",
       " 'min_impurity_split': None,\n",
       " 'min_samples_leaf': 1,\n",
       " 'min_samples_split': 2,\n",
       " 'min_weight_fraction_leaf': 0.0,\n",
       " 'n_estimators': 20,\n",
       " 'n_jobs': None,\n",
       " 'oob_score': False,\n",
       " 'random_state': None,\n",
       " 'verbose': 0,\n",
       " 'warm_start': False}"
      ]
     },
     "execution_count": 102,
     "metadata": {},
     "output_type": "execute_result"
    }
   ],
   "source": [
    "reg.best_estimator_.get_params()"
   ]
  },
  {
   "cell_type": "markdown",
   "metadata": {},
   "source": [
    "## Support Vector Regressor"
   ]
  },
  {
   "cell_type": "code",
   "execution_count": 103,
   "metadata": {},
   "outputs": [
    {
     "name": "stdout",
     "output_type": "stream",
     "text": [
      "Fitting 5 folds for each of 24 candidates, totalling 120 fits\n",
      "[CV] C=0.1, degree=3, kernel=poly ....................................\n"
     ]
    },
    {
     "name": "stderr",
     "output_type": "stream",
     "text": [
      "[Parallel(n_jobs=1)]: Using backend SequentialBackend with 1 concurrent workers.\n"
     ]
    },
    {
     "name": "stdout",
     "output_type": "stream",
     "text": [
      "[CV] ........ C=0.1, degree=3, kernel=poly, score=0.601, total=  19.5s\n",
      "[CV] C=0.1, degree=3, kernel=poly ....................................\n"
     ]
    },
    {
     "name": "stderr",
     "output_type": "stream",
     "text": [
      "[Parallel(n_jobs=1)]: Done   1 out of   1 | elapsed:   19.5s remaining:    0.0s\n"
     ]
    },
    {
     "name": "stdout",
     "output_type": "stream",
     "text": [
      "[CV] ........ C=0.1, degree=3, kernel=poly, score=0.622, total=  18.5s\n",
      "[CV] C=0.1, degree=3, kernel=poly ....................................\n"
     ]
    },
    {
     "name": "stderr",
     "output_type": "stream",
     "text": [
      "[Parallel(n_jobs=1)]: Done   2 out of   2 | elapsed:   38.0s remaining:    0.0s\n"
     ]
    },
    {
     "name": "stdout",
     "output_type": "stream",
     "text": [
      "[CV] ........ C=0.1, degree=3, kernel=poly, score=0.600, total=  18.1s\n",
      "[CV] C=0.1, degree=3, kernel=poly ....................................\n"
     ]
    },
    {
     "name": "stderr",
     "output_type": "stream",
     "text": [
      "[Parallel(n_jobs=1)]: Done   3 out of   3 | elapsed:   56.1s remaining:    0.0s\n"
     ]
    },
    {
     "name": "stdout",
     "output_type": "stream",
     "text": [
      "[CV] ........ C=0.1, degree=3, kernel=poly, score=0.538, total=  19.4s\n",
      "[CV] C=0.1, degree=3, kernel=poly ....................................\n"
     ]
    },
    {
     "name": "stderr",
     "output_type": "stream",
     "text": [
      "[Parallel(n_jobs=1)]: Done   4 out of   4 | elapsed:  1.3min remaining:    0.0s\n"
     ]
    },
    {
     "name": "stdout",
     "output_type": "stream",
     "text": [
      "[CV] ........ C=0.1, degree=3, kernel=poly, score=0.576, total=  18.4s\n",
      "[CV] C=0.1, degree=3, kernel=rbf .....................................\n"
     ]
    },
    {
     "name": "stderr",
     "output_type": "stream",
     "text": [
      "[Parallel(n_jobs=1)]: Done   5 out of   5 | elapsed:  1.6min remaining:    0.0s\n"
     ]
    },
    {
     "name": "stdout",
     "output_type": "stream",
     "text": [
      "[CV] ......... C=0.1, degree=3, kernel=rbf, score=0.553, total=  10.8s\n",
      "[CV] C=0.1, degree=3, kernel=rbf .....................................\n"
     ]
    },
    {
     "name": "stderr",
     "output_type": "stream",
     "text": [
      "[Parallel(n_jobs=1)]: Done   6 out of   6 | elapsed:  1.7min remaining:    0.0s\n"
     ]
    },
    {
     "name": "stdout",
     "output_type": "stream",
     "text": [
      "[CV] ......... C=0.1, degree=3, kernel=rbf, score=0.492, total=  13.4s\n",
      "[CV] C=0.1, degree=3, kernel=rbf .....................................\n"
     ]
    },
    {
     "name": "stderr",
     "output_type": "stream",
     "text": [
      "[Parallel(n_jobs=1)]: Done   7 out of   7 | elapsed:  2.0min remaining:    0.0s\n"
     ]
    },
    {
     "name": "stdout",
     "output_type": "stream",
     "text": [
      "[CV] ......... C=0.1, degree=3, kernel=rbf, score=0.514, total=   9.3s\n",
      "[CV] C=0.1, degree=3, kernel=rbf .....................................\n"
     ]
    },
    {
     "name": "stderr",
     "output_type": "stream",
     "text": [
      "[Parallel(n_jobs=1)]: Done   8 out of   8 | elapsed:  2.1min remaining:    0.0s\n"
     ]
    },
    {
     "name": "stdout",
     "output_type": "stream",
     "text": [
      "[CV] ......... C=0.1, degree=3, kernel=rbf, score=0.500, total=   8.6s\n",
      "[CV] C=0.1, degree=3, kernel=rbf .....................................\n"
     ]
    },
    {
     "name": "stderr",
     "output_type": "stream",
     "text": [
      "[Parallel(n_jobs=1)]: Done   9 out of   9 | elapsed:  2.3min remaining:    0.0s\n"
     ]
    },
    {
     "name": "stdout",
     "output_type": "stream",
     "text": [
      "[CV] ......... C=0.1, degree=3, kernel=rbf, score=0.583, total=  13.4s\n",
      "[CV] C=0.1, degree=4, kernel=poly ....................................\n",
      "[CV] ........ C=0.1, degree=4, kernel=poly, score=0.548, total=  34.3s\n",
      "[CV] C=0.1, degree=4, kernel=poly ....................................\n",
      "[CV] ........ C=0.1, degree=4, kernel=poly, score=0.578, total=  30.8s\n",
      "[CV] C=0.1, degree=4, kernel=poly ....................................\n",
      "[CV] ........ C=0.1, degree=4, kernel=poly, score=0.493, total=  26.7s\n",
      "[CV] C=0.1, degree=4, kernel=poly ....................................\n",
      "[CV] ........ C=0.1, degree=4, kernel=poly, score=0.527, total=  34.8s\n",
      "[CV] C=0.1, degree=4, kernel=poly ....................................\n",
      "[CV] ........ C=0.1, degree=4, kernel=poly, score=0.584, total=  31.4s\n",
      "[CV] C=0.1, degree=4, kernel=rbf .....................................\n",
      "[CV] ......... C=0.1, degree=4, kernel=rbf, score=0.553, total=  12.8s\n",
      "[CV] C=0.1, degree=4, kernel=rbf .....................................\n",
      "[CV] ......... C=0.1, degree=4, kernel=rbf, score=0.492, total=  13.6s\n",
      "[CV] C=0.1, degree=4, kernel=rbf .....................................\n",
      "[CV] ......... C=0.1, degree=4, kernel=rbf, score=0.514, total=  13.6s\n",
      "[CV] C=0.1, degree=4, kernel=rbf .....................................\n",
      "[CV] ......... C=0.1, degree=4, kernel=rbf, score=0.500, total=  12.5s\n",
      "[CV] C=0.1, degree=4, kernel=rbf .....................................\n",
      "[CV] ......... C=0.1, degree=4, kernel=rbf, score=0.583, total=  13.4s\n",
      "[CV] C=0.1, degree=5, kernel=poly ....................................\n",
      "[CV] ........ C=0.1, degree=5, kernel=poly, score=0.522, total=  36.8s\n",
      "[CV] C=0.1, degree=5, kernel=poly ....................................\n",
      "[CV] ........ C=0.1, degree=5, kernel=poly, score=0.519, total=  37.8s\n",
      "[CV] C=0.1, degree=5, kernel=poly ....................................\n",
      "[CV] ........ C=0.1, degree=5, kernel=poly, score=0.477, total=  35.1s\n",
      "[CV] C=0.1, degree=5, kernel=poly ....................................\n",
      "[CV] ........ C=0.1, degree=5, kernel=poly, score=0.529, total=  37.1s\n",
      "[CV] C=0.1, degree=5, kernel=poly ....................................\n",
      "[CV] ........ C=0.1, degree=5, kernel=poly, score=0.538, total=  37.1s\n",
      "[CV] C=0.1, degree=5, kernel=rbf .....................................\n",
      "[CV] ......... C=0.1, degree=5, kernel=rbf, score=0.553, total=  12.9s\n",
      "[CV] C=0.1, degree=5, kernel=rbf .....................................\n",
      "[CV] ......... C=0.1, degree=5, kernel=rbf, score=0.492, total=  13.6s\n",
      "[CV] C=0.1, degree=5, kernel=rbf .....................................\n",
      "[CV] ......... C=0.1, degree=5, kernel=rbf, score=0.514, total=   9.7s\n",
      "[CV] C=0.1, degree=5, kernel=rbf .....................................\n",
      "[CV] ......... C=0.1, degree=5, kernel=rbf, score=0.500, total=  12.5s\n",
      "[CV] C=0.1, degree=5, kernel=rbf .....................................\n",
      "[CV] ......... C=0.1, degree=5, kernel=rbf, score=0.583, total=  10.8s\n",
      "[CV] C=0.5, degree=3, kernel=poly ....................................\n",
      "[CV] ........ C=0.5, degree=3, kernel=poly, score=0.596, total=  29.6s\n",
      "[CV] C=0.5, degree=3, kernel=poly ....................................\n",
      "[CV] ........ C=0.5, degree=3, kernel=poly, score=0.629, total=  29.8s\n",
      "[CV] C=0.5, degree=3, kernel=poly ....................................\n",
      "[CV] ........ C=0.5, degree=3, kernel=poly, score=0.551, total=  29.4s\n",
      "[CV] C=0.5, degree=3, kernel=poly ....................................\n",
      "[CV] ........ C=0.5, degree=3, kernel=poly, score=0.537, total=  31.8s\n",
      "[CV] C=0.5, degree=3, kernel=poly ....................................\n",
      "[CV] ........ C=0.5, degree=3, kernel=poly, score=0.583, total=  29.3s\n",
      "[CV] C=0.5, degree=3, kernel=rbf .....................................\n",
      "[CV] ......... C=0.5, degree=3, kernel=rbf, score=0.569, total=  18.2s\n",
      "[CV] C=0.5, degree=3, kernel=rbf .....................................\n",
      "[CV] ......... C=0.5, degree=3, kernel=rbf, score=0.612, total=  18.4s\n",
      "[CV] C=0.5, degree=3, kernel=rbf .....................................\n",
      "[CV] ......... C=0.5, degree=3, kernel=rbf, score=0.615, total=  20.8s\n",
      "[CV] C=0.5, degree=3, kernel=rbf .....................................\n",
      "[CV] ......... C=0.5, degree=3, kernel=rbf, score=0.530, total=  19.6s\n",
      "[CV] C=0.5, degree=3, kernel=rbf .....................................\n",
      "[CV] ......... C=0.5, degree=3, kernel=rbf, score=0.598, total=  17.2s\n",
      "[CV] C=0.5, degree=4, kernel=poly ....................................\n",
      "[CV] ........ C=0.5, degree=4, kernel=poly, score=0.551, total=  28.9s\n",
      "[CV] C=0.5, degree=4, kernel=poly ....................................\n",
      "[CV] ........ C=0.5, degree=4, kernel=poly, score=0.546, total=  38.8s\n",
      "[CV] C=0.5, degree=4, kernel=poly ....................................\n",
      "[CV] ........ C=0.5, degree=4, kernel=poly, score=0.479, total=  39.4s\n",
      "[CV] C=0.5, degree=4, kernel=poly ....................................\n",
      "[CV] ........ C=0.5, degree=4, kernel=poly, score=0.531, total=  39.9s\n",
      "[CV] C=0.5, degree=4, kernel=poly ....................................\n",
      "[CV] ........ C=0.5, degree=4, kernel=poly, score=0.569, total=  37.6s\n",
      "[CV] C=0.5, degree=4, kernel=rbf .....................................\n",
      "[CV] ......... C=0.5, degree=4, kernel=rbf, score=0.569, total=  18.3s\n",
      "[CV] C=0.5, degree=4, kernel=rbf .....................................\n",
      "[CV] ......... C=0.5, degree=4, kernel=rbf, score=0.612, total=  18.8s\n",
      "[CV] C=0.5, degree=4, kernel=rbf .....................................\n",
      "[CV] ......... C=0.5, degree=4, kernel=rbf, score=0.615, total=  20.8s\n",
      "[CV] C=0.5, degree=4, kernel=rbf .....................................\n",
      "[CV] ......... C=0.5, degree=4, kernel=rbf, score=0.530, total=  19.6s\n",
      "[CV] C=0.5, degree=4, kernel=rbf .....................................\n",
      "[CV] ......... C=0.5, degree=4, kernel=rbf, score=0.598, total=  20.8s\n",
      "[CV] C=0.5, degree=5, kernel=poly ....................................\n",
      "[CV] ........ C=0.5, degree=5, kernel=poly, score=0.531, total=  47.8s\n",
      "[CV] C=0.5, degree=5, kernel=poly ....................................\n",
      "[CV] ........ C=0.5, degree=5, kernel=poly, score=0.525, total=  46.8s\n",
      "[CV] C=0.5, degree=5, kernel=poly ....................................\n",
      "[CV] ........ C=0.5, degree=5, kernel=poly, score=0.472, total=  42.5s\n",
      "[CV] C=0.5, degree=5, kernel=poly ....................................\n",
      "[CV] ........ C=0.5, degree=5, kernel=poly, score=0.538, total=  45.3s\n",
      "[CV] C=0.5, degree=5, kernel=poly ....................................\n",
      "[CV] ........ C=0.5, degree=5, kernel=poly, score=0.556, total=  33.7s\n",
      "[CV] C=0.5, degree=5, kernel=rbf .....................................\n",
      "[CV] ......... C=0.5, degree=5, kernel=rbf, score=0.569, total=  17.9s\n",
      "[CV] C=0.5, degree=5, kernel=rbf .....................................\n",
      "[CV] ......... C=0.5, degree=5, kernel=rbf, score=0.612, total=  17.3s\n",
      "[CV] C=0.5, degree=5, kernel=rbf .....................................\n",
      "[CV] ......... C=0.5, degree=5, kernel=rbf, score=0.615, total=  20.8s\n",
      "[CV] C=0.5, degree=5, kernel=rbf .....................................\n",
      "[CV] ......... C=0.5, degree=5, kernel=rbf, score=0.530, total=  19.5s\n",
      "[CV] C=0.5, degree=5, kernel=rbf .....................................\n",
      "[CV] ......... C=0.5, degree=5, kernel=rbf, score=0.598, total=  21.0s\n",
      "[CV] C=1.5, degree=3, kernel=poly ....................................\n",
      "[CV] ........ C=1.5, degree=3, kernel=poly, score=0.629, total=  41.0s\n",
      "[CV] C=1.5, degree=3, kernel=poly ....................................\n",
      "[CV] ........ C=1.5, degree=3, kernel=poly, score=0.573, total=  40.3s\n",
      "[CV] C=1.5, degree=3, kernel=poly ....................................\n",
      "[CV] ........ C=1.5, degree=3, kernel=poly, score=0.510, total=  37.6s\n",
      "[CV] C=1.5, degree=3, kernel=poly ....................................\n",
      "[CV] ........ C=1.5, degree=3, kernel=poly, score=0.545, total=  43.0s\n",
      "[CV] C=1.5, degree=3, kernel=poly ....................................\n",
      "[CV] ........ C=1.5, degree=3, kernel=poly, score=0.569, total=  39.8s\n",
      "[CV] C=1.5, degree=3, kernel=rbf .....................................\n",
      "[CV] ......... C=1.5, degree=3, kernel=rbf, score=0.615, total=  26.9s\n",
      "[CV] C=1.5, degree=3, kernel=rbf .....................................\n",
      "[CV] ......... C=1.5, degree=3, kernel=rbf, score=0.563, total=  29.6s\n",
      "[CV] C=1.5, degree=3, kernel=rbf .....................................\n",
      "[CV] ......... C=1.5, degree=3, kernel=rbf, score=0.552, total=  36.3s\n",
      "[CV] C=1.5, degree=3, kernel=rbf .....................................\n",
      "[CV] ......... C=1.5, degree=3, kernel=rbf, score=0.529, total=  31.9s\n",
      "[CV] C=1.5, degree=3, kernel=rbf .....................................\n",
      "[CV] ......... C=1.5, degree=3, kernel=rbf, score=0.570, total=  27.5s\n",
      "[CV] C=1.5, degree=4, kernel=poly ....................................\n",
      "[CV] ........ C=1.5, degree=4, kernel=poly, score=0.552, total=  38.5s\n",
      "[CV] C=1.5, degree=4, kernel=poly ....................................\n",
      "[CV] ........ C=1.5, degree=4, kernel=poly, score=0.538, total=  42.3s\n",
      "[CV] C=1.5, degree=4, kernel=poly ....................................\n",
      "[CV] ........ C=1.5, degree=4, kernel=poly, score=0.481, total=  38.7s\n",
      "[CV] C=1.5, degree=4, kernel=poly ....................................\n",
      "[CV] ........ C=1.5, degree=4, kernel=poly, score=0.530, total=  42.3s\n",
      "[CV] C=1.5, degree=4, kernel=poly ....................................\n",
      "[CV] ........ C=1.5, degree=4, kernel=poly, score=0.572, total=  29.9s\n",
      "[CV] C=1.5, degree=4, kernel=rbf .....................................\n",
      "[CV] ......... C=1.5, degree=4, kernel=rbf, score=0.615, total=  18.4s\n",
      "[CV] C=1.5, degree=4, kernel=rbf .....................................\n",
      "[CV] ......... C=1.5, degree=4, kernel=rbf, score=0.563, total=  32.7s\n",
      "[CV] C=1.5, degree=4, kernel=rbf .....................................\n",
      "[CV] ......... C=1.5, degree=4, kernel=rbf, score=0.552, total=  36.4s\n",
      "[CV] C=1.5, degree=4, kernel=rbf .....................................\n",
      "[CV] ......... C=1.5, degree=4, kernel=rbf, score=0.529, total=  32.0s\n",
      "[CV] C=1.5, degree=4, kernel=rbf .....................................\n",
      "[CV] ......... C=1.5, degree=4, kernel=rbf, score=0.570, total=  27.6s\n",
      "[CV] C=1.5, degree=5, kernel=poly ....................................\n",
      "[CV] ........ C=1.5, degree=5, kernel=poly, score=0.542, total= 1.2min\n",
      "[CV] C=1.5, degree=5, kernel=poly ....................................\n",
      "[CV] ........ C=1.5, degree=5, kernel=poly, score=0.561, total=  59.1s\n",
      "[CV] C=1.5, degree=5, kernel=poly ....................................\n",
      "[CV] ........ C=1.5, degree=5, kernel=poly, score=0.468, total= 1.0min\n",
      "[CV] C=1.5, degree=5, kernel=poly ....................................\n",
      "[CV] ........ C=1.5, degree=5, kernel=poly, score=0.540, total=34.5min\n",
      "[CV] C=1.5, degree=5, kernel=poly ....................................\n",
      "[CV] ....... C=1.5, degree=5, kernel=poly, score=0.528, total=364.0min\n",
      "[CV] C=1.5, degree=5, kernel=rbf .....................................\n",
      "[CV] ........ C=1.5, degree=5, kernel=rbf, score=0.615, total=121.5min\n",
      "[CV] C=1.5, degree=5, kernel=rbf .....................................\n",
      "[CV] ......... C=1.5, degree=5, kernel=rbf, score=0.563, total=  34.7s\n",
      "[CV] C=1.5, degree=5, kernel=rbf .....................................\n",
      "[CV] ......... C=1.5, degree=5, kernel=rbf, score=0.552, total=22.6min\n",
      "[CV] C=1.5, degree=5, kernel=rbf .....................................\n",
      "[CV] ......... C=1.5, degree=5, kernel=rbf, score=0.529, total=  28.8s\n",
      "[CV] C=1.5, degree=5, kernel=rbf .....................................\n",
      "[CV] ......... C=1.5, degree=5, kernel=rbf, score=0.570, total=  26.7s\n",
      "[CV] C=5, degree=3, kernel=poly ......................................\n",
      "[CV] .......... C=5, degree=3, kernel=poly, score=0.628, total=  43.9s\n",
      "[CV] C=5, degree=3, kernel=poly ......................................\n",
      "[CV] .......... C=5, degree=3, kernel=poly, score=0.565, total=  46.6s\n",
      "[CV] C=5, degree=3, kernel=poly ......................................\n",
      "[CV] .......... C=5, degree=3, kernel=poly, score=0.505, total=  45.0s\n",
      "[CV] C=5, degree=3, kernel=poly ......................................\n",
      "[CV] .......... C=5, degree=3, kernel=poly, score=0.541, total=  45.9s\n",
      "[CV] C=5, degree=3, kernel=poly ......................................\n",
      "[CV] .......... C=5, degree=3, kernel=poly, score=0.568, total=  43.8s\n",
      "[CV] C=5, degree=3, kernel=rbf .......................................\n",
      "[CV] ........... C=5, degree=3, kernel=rbf, score=0.643, total=  46.6s\n",
      "[CV] C=5, degree=3, kernel=rbf .......................................\n",
      "[CV] ........... C=5, degree=3, kernel=rbf, score=0.584, total=  47.0s\n",
      "[CV] C=5, degree=3, kernel=rbf .......................................\n",
      "[CV] ........... C=5, degree=3, kernel=rbf, score=0.627, total=  47.6s\n",
      "[CV] C=5, degree=3, kernel=rbf .......................................\n",
      "[CV] ........... C=5, degree=3, kernel=rbf, score=0.609, total=  43.7s\n",
      "[CV] C=5, degree=3, kernel=rbf .......................................\n",
      "[CV] ........... C=5, degree=3, kernel=rbf, score=0.613, total=  47.5s\n",
      "[CV] C=5, degree=4, kernel=poly ......................................\n",
      "[CV] .......... C=5, degree=4, kernel=poly, score=0.574, total=  53.0s\n",
      "[CV] C=5, degree=4, kernel=poly ......................................\n",
      "[CV] .......... C=5, degree=4, kernel=poly, score=0.545, total=  52.1s\n",
      "[CV] C=5, degree=4, kernel=poly ......................................\n",
      "[CV] .......... C=5, degree=4, kernel=poly, score=0.481, total=  49.0s\n",
      "[CV] C=5, degree=4, kernel=poly ......................................\n",
      "[CV] .......... C=5, degree=4, kernel=poly, score=0.527, total=  53.6s\n",
      "[CV] C=5, degree=4, kernel=poly ......................................\n",
      "[CV] .......... C=5, degree=4, kernel=poly, score=0.543, total=  50.0s\n",
      "[CV] C=5, degree=4, kernel=rbf .......................................\n",
      "[CV] ........... C=5, degree=4, kernel=rbf, score=0.643, total=  47.1s\n",
      "[CV] C=5, degree=4, kernel=rbf .......................................\n",
      "[CV] ........... C=5, degree=4, kernel=rbf, score=0.584, total=  47.2s\n",
      "[CV] C=5, degree=4, kernel=rbf .......................................\n",
      "[CV] ........... C=5, degree=4, kernel=rbf, score=0.627, total=  47.4s\n",
      "[CV] C=5, degree=4, kernel=rbf .......................................\n",
      "[CV] ........... C=5, degree=4, kernel=rbf, score=0.609, total=  42.8s\n",
      "[CV] C=5, degree=4, kernel=rbf .......................................\n",
      "[CV] ........... C=5, degree=4, kernel=rbf, score=0.613, total=  47.7s\n",
      "[CV] C=5, degree=5, kernel=poly ......................................\n",
      "[CV] .......... C=5, degree=5, kernel=poly, score=0.527, total= 2.3min\n",
      "[CV] C=5, degree=5, kernel=poly ......................................\n",
      "[CV] .......... C=5, degree=5, kernel=poly, score=0.577, total= 2.7min\n",
      "[CV] C=5, degree=5, kernel=poly ......................................\n",
      "[CV] .......... C=5, degree=5, kernel=poly, score=0.459, total= 2.3min\n",
      "[CV] C=5, degree=5, kernel=poly ......................................\n",
      "[CV] .......... C=5, degree=5, kernel=poly, score=0.515, total= 2.8min\n",
      "[CV] C=5, degree=5, kernel=poly ......................................\n",
      "[CV] .......... C=5, degree=5, kernel=poly, score=0.504, total= 2.1min\n",
      "[CV] C=5, degree=5, kernel=rbf .......................................\n",
      "[CV] ........... C=5, degree=5, kernel=rbf, score=0.643, total=  43.7s\n",
      "[CV] C=5, degree=5, kernel=rbf .......................................\n",
      "[CV] ........... C=5, degree=5, kernel=rbf, score=0.584, total=  45.6s\n",
      "[CV] C=5, degree=5, kernel=rbf .......................................\n",
      "[CV] ........... C=5, degree=5, kernel=rbf, score=0.627, total=  42.3s\n",
      "[CV] C=5, degree=5, kernel=rbf .......................................\n",
      "[CV] ........... C=5, degree=5, kernel=rbf, score=0.609, total=  39.3s\n",
      "[CV] C=5, degree=5, kernel=rbf .......................................\n",
      "[CV] ........... C=5, degree=5, kernel=rbf, score=0.613, total=  43.8s\n"
     ]
    },
    {
     "name": "stderr",
     "output_type": "stream",
     "text": [
      "[Parallel(n_jobs=1)]: Done 120 out of 120 | elapsed: 614.8min finished\n"
     ]
    },
    {
     "data": {
      "text/plain": [
       "GridSearchCV(cv=5, estimator=SVR(),\n",
       "             param_grid={'C': [0.1, 0.5, 1.5, 5], 'degree': [3, 4, 5],\n",
       "                         'kernel': ['poly', 'rbf']},\n",
       "             scoring='roc_auc', verbose=10)"
      ]
     },
     "execution_count": 103,
     "metadata": {},
     "output_type": "execute_result"
    }
   ],
   "source": [
    "# set up model\n",
    "svc = SVR()\n",
    "\n",
    "# set up parameters for grid search\n",
    "parameters = {'C':[0.1, 0.5, 1.5, 5], \n",
    "              'degree':[3, 4, 5],\n",
    "              'kernel': [\"poly\", \"rbf\"]}\n",
    "reg_svc = GridSearchCV(svc, parameters, verbose = 10, scoring = \"roc_auc\", cv = 5)\n",
    "reg_svc.fit(X_train, y_train)"
   ]
  },
  {
   "cell_type": "code",
   "execution_count": 127,
   "metadata": {},
   "outputs": [],
   "source": [
    "svc_preds = reg_svc.predict(X_test)"
   ]
  },
  {
   "cell_type": "code",
   "execution_count": 128,
   "metadata": {},
   "outputs": [
    {
     "data": {
      "text/plain": [
       "0.6117327595040477"
      ]
     },
     "execution_count": 128,
     "metadata": {},
     "output_type": "execute_result"
    }
   ],
   "source": [
    "roc_auc_score(y_test, svc_preds)"
   ]
  },
  {
   "cell_type": "code",
   "execution_count": 106,
   "metadata": {},
   "outputs": [
    {
     "data": {
      "text/plain": [
       "{'C': 5,\n",
       " 'cache_size': 200,\n",
       " 'coef0': 0.0,\n",
       " 'degree': 3,\n",
       " 'epsilon': 0.1,\n",
       " 'gamma': 'scale',\n",
       " 'kernel': 'rbf',\n",
       " 'max_iter': -1,\n",
       " 'shrinking': True,\n",
       " 'tol': 0.001,\n",
       " 'verbose': False}"
      ]
     },
     "execution_count": 106,
     "metadata": {},
     "output_type": "execute_result"
    }
   ],
   "source": [
    "reg_svc.best_estimator_.get_params()"
   ]
  },
  {
   "cell_type": "markdown",
   "metadata": {},
   "source": [
    "## Part 3: Kaggle Competition\n",
    "\n",
    "Now that you've created a model to predict which individuals are most likely to respond to a mailout campaign, it's time to test that model in competition through Kaggle. If you click on the link [here](http://www.kaggle.com/t/21e6d45d4c574c7fa2d868f0e8c83140), you'll be taken to the competition page where, if you have a Kaggle account, you can enter. If you're one of the top performers, you may have the chance to be contacted by a hiring manager from Arvato or Bertelsmann for an interview!\n",
    "\n",
    "Your entry to the competition should be a CSV file with two columns. The first column should be a copy of \"LNR\", which acts as an ID number for each individual in the \"TEST\" partition. The second column, \"RESPONSE\", should be some measure of how likely each individual became a customer – this might not be a straightforward probability. As you should have found in Part 2, there is a large output class imbalance, where most individuals did not respond to the mailout. Thus, predicting individual classes and using accuracy does not seem to be an appropriate performance evaluation method. Instead, the competition will be using AUC to evaluate performance. The exact values of the \"RESPONSE\" column do not matter as much: only that the higher values try to capture as many of the actual customers as possible, early in the ROC curve sweep."
   ]
  },
  {
   "cell_type": "code",
   "execution_count": 107,
   "metadata": {},
   "outputs": [],
   "source": [
    "mailout_test = pd.read_csv('data/Udacity_MAILOUT_052018_TEST.csv', sep=';')"
   ]
  },
  {
   "cell_type": "code",
   "execution_count": 108,
   "metadata": {},
   "outputs": [
    {
     "data": {
      "text/html": [
       "<div>\n",
       "<style scoped>\n",
       "    .dataframe tbody tr th:only-of-type {\n",
       "        vertical-align: middle;\n",
       "    }\n",
       "\n",
       "    .dataframe tbody tr th {\n",
       "        vertical-align: top;\n",
       "    }\n",
       "\n",
       "    .dataframe thead th {\n",
       "        text-align: right;\n",
       "    }\n",
       "</style>\n",
       "<table border=\"1\" class=\"dataframe\">\n",
       "  <thead>\n",
       "    <tr style=\"text-align: right;\">\n",
       "      <th></th>\n",
       "      <th>LNR</th>\n",
       "      <th>AGER_TYP</th>\n",
       "      <th>AKT_DAT_KL</th>\n",
       "      <th>ALTER_HH</th>\n",
       "      <th>ALTER_KIND1</th>\n",
       "      <th>ALTER_KIND2</th>\n",
       "      <th>ALTER_KIND3</th>\n",
       "      <th>ALTER_KIND4</th>\n",
       "      <th>ALTERSKATEGORIE_FEIN</th>\n",
       "      <th>ANZ_HAUSHALTE_AKTIV</th>\n",
       "      <th>...</th>\n",
       "      <th>VHN</th>\n",
       "      <th>VK_DHT4A</th>\n",
       "      <th>VK_DISTANZ</th>\n",
       "      <th>VK_ZG11</th>\n",
       "      <th>W_KEIT_KIND_HH</th>\n",
       "      <th>WOHNDAUER_2008</th>\n",
       "      <th>WOHNLAGE</th>\n",
       "      <th>ZABEOTYP</th>\n",
       "      <th>ANREDE_KZ</th>\n",
       "      <th>ALTERSKATEGORIE_GROB</th>\n",
       "    </tr>\n",
       "  </thead>\n",
       "  <tbody>\n",
       "    <tr>\n",
       "      <th>0</th>\n",
       "      <td>1754</td>\n",
       "      <td>2</td>\n",
       "      <td>1.0</td>\n",
       "      <td>7.0</td>\n",
       "      <td>NaN</td>\n",
       "      <td>NaN</td>\n",
       "      <td>NaN</td>\n",
       "      <td>NaN</td>\n",
       "      <td>6.0</td>\n",
       "      <td>2.0</td>\n",
       "      <td>...</td>\n",
       "      <td>4.0</td>\n",
       "      <td>5.0</td>\n",
       "      <td>6.0</td>\n",
       "      <td>3.0</td>\n",
       "      <td>6.0</td>\n",
       "      <td>9.0</td>\n",
       "      <td>3.0</td>\n",
       "      <td>3</td>\n",
       "      <td>1</td>\n",
       "      <td>4</td>\n",
       "    </tr>\n",
       "  </tbody>\n",
       "</table>\n",
       "<p>1 rows × 366 columns</p>\n",
       "</div>"
      ],
      "text/plain": [
       "    LNR  AGER_TYP  AKT_DAT_KL  ALTER_HH  ALTER_KIND1  ALTER_KIND2  \\\n",
       "0  1754         2         1.0       7.0          NaN          NaN   \n",
       "\n",
       "   ALTER_KIND3  ALTER_KIND4  ALTERSKATEGORIE_FEIN  ANZ_HAUSHALTE_AKTIV  ...  \\\n",
       "0          NaN          NaN                   6.0                  2.0  ...   \n",
       "\n",
       "   VHN  VK_DHT4A  VK_DISTANZ  VK_ZG11  W_KEIT_KIND_HH  WOHNDAUER_2008  \\\n",
       "0  4.0       5.0         6.0      3.0             6.0             9.0   \n",
       "\n",
       "   WOHNLAGE ZABEOTYP ANREDE_KZ ALTERSKATEGORIE_GROB  \n",
       "0       3.0        3         1                    4  \n",
       "\n",
       "[1 rows x 366 columns]"
      ]
     },
     "execution_count": 108,
     "metadata": {},
     "output_type": "execute_result"
    }
   ],
   "source": [
    "mailout_test.head(1)"
   ]
  },
  {
   "cell_type": "code",
   "execution_count": 109,
   "metadata": {},
   "outputs": [],
   "source": [
    "test_clean = clean_data(mailout_test)"
   ]
  },
  {
   "cell_type": "code",
   "execution_count": 110,
   "metadata": {},
   "outputs": [
    {
     "name": "stdout",
     "output_type": "stream",
     "text": [
      "37 columns added and 2 dropped. Try to minimize amount dropped.\n"
     ]
    }
   ],
   "source": [
    "# Make sure the same columns exist after the one-hot encoding\n",
    "# add 0 columns that didn't exist\n",
    "missing_cols = [column for column in clean_df.columns if column not in test_clean.columns]\n",
    "for col in missing_cols:\n",
    "    test_clean[col]=0\n",
    "before_drop = len(test_clean.columns)\n",
    "test_clean = test_clean[clean_df.columns]\n",
    "\n",
    "if \"cluster\" in test_clean.columns:\n",
    "    test_clean.drop(columns = [\"cluster\"], inplace = True)\n",
    "print(\"{} columns added and {} dropped. Try to minimize amount dropped.\".format(len(missing_cols), before_drop-len(m_df_clean.columns)))"
   ]
  },
  {
   "cell_type": "code",
   "execution_count": 111,
   "metadata": {},
   "outputs": [],
   "source": [
    "# Perform PCA on the train data\n",
    "test_pca = pca.transform(test_clean)"
   ]
  },
  {
   "cell_type": "code",
   "execution_count": 112,
   "metadata": {},
   "outputs": [],
   "source": [
    "test_preds_svc = reg_svc.predict(test_pca)"
   ]
  },
  {
   "cell_type": "code",
   "execution_count": 113,
   "metadata": {},
   "outputs": [],
   "source": [
    "results = pd.DataFrame(data= {\"Index\": test_clean.index, \"values\":test_preds_svc})"
   ]
  },
  {
   "cell_type": "code",
   "execution_count": 114,
   "metadata": {},
   "outputs": [],
   "source": [
    "# merge the predictions with the original data to add dropped indexes back in\n",
    "merger = results.merge(mailout_test, left_on = \"Index\", right_on = \"LNR\", how = \"right\" )"
   ]
  },
  {
   "cell_type": "code",
   "execution_count": 115,
   "metadata": {},
   "outputs": [],
   "source": [
    "merger = merger.iloc[:, :3]"
   ]
  },
  {
   "cell_type": "code",
   "execution_count": 116,
   "metadata": {},
   "outputs": [],
   "source": [
    "# add the dropped rows back in and give them a prediction of 0\n",
    "for idx, value in enumerate(merger[\"Index\"]):\n",
    "    if value != value:\n",
    "        merger.iloc[idx, 1] = 0\n",
    "        merger.iloc[idx, 0] = merger.iloc[idx, 2]"
   ]
  },
  {
   "cell_type": "code",
   "execution_count": 117,
   "metadata": {},
   "outputs": [],
   "source": [
    "# Get rid of .0 notation\n",
    "merger[\"Index\"] = merger[\"Index\"].astype(int)"
   ]
  },
  {
   "cell_type": "code",
   "execution_count": 118,
   "metadata": {},
   "outputs": [],
   "source": [
    "# drop surplus columns\n",
    "merger.drop(columns = [\"LNR\"], inplace = True)"
   ]
  },
  {
   "cell_type": "code",
   "execution_count": 119,
   "metadata": {},
   "outputs": [],
   "source": [
    "# change column names to competition specifications\n",
    "merger.rename(columns = {\"Index\": \"LNR\", \"values\": \"RESPONSE\"}, inplace = True)"
   ]
  },
  {
   "cell_type": "code",
   "execution_count": 120,
   "metadata": {},
   "outputs": [],
   "source": [
    "merger.to_csv(\"results.csv\", index = False)"
   ]
  },
  {
   "cell_type": "markdown",
   "metadata": {},
   "source": [
    "# Improvements\n",
    " - Test more parameters in Gridsearch\n",
    " - Implement different algorithms to achieve better scores\n",
    " - Impute missing values rather then deleting them"
   ]
  },
  {
   "cell_type": "code",
   "execution_count": null,
   "metadata": {},
   "outputs": [],
   "source": []
  },
  {
   "cell_type": "code",
   "execution_count": null,
   "metadata": {},
   "outputs": [],
   "source": []
  },
  {
   "cell_type": "code",
   "execution_count": null,
   "metadata": {},
   "outputs": [],
   "source": []
  }
 ],
 "metadata": {
  "kernelspec": {
   "display_name": "Python 3",
   "language": "python",
   "name": "python3"
  },
  "language_info": {
   "codemirror_mode": {
    "name": "ipython",
    "version": 3
   },
   "file_extension": ".py",
   "mimetype": "text/x-python",
   "name": "python",
   "nbconvert_exporter": "python",
   "pygments_lexer": "ipython3",
   "version": "3.8.5"
  }
 },
 "nbformat": 4,
 "nbformat_minor": 4
}
